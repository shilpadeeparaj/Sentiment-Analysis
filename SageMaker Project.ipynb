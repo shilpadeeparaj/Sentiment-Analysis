{
 "cells": [
  {
   "cell_type": "markdown",
   "metadata": {},
   "source": [
    "# Creating a Sentiment Analysis Web App\n",
    "## Using PyTorch and SageMaker\n",
    "\n",
    "_Deep Learning Nanodegree Program | Deployment_\n",
    "\n",
    "---\n",
    "\n",
    "Now that we have a basic understanding of how SageMaker works we will try to use it to construct a complete project from end to end. Our goal will be to have a simple web page which a user can use to enter a movie review. The web page will then send the review off to our deployed model which will predict the sentiment of the entered review.\n",
    "\n",
    "## Instructions\n",
    "\n",
    "Some template code has already been provided for you, and you will need to implement additional functionality to successfully complete this notebook. You will not need to modify the included code beyond what is requested. Sections that begin with '**TODO**' in the header indicate that you need to complete or implement some portion within them. Instructions will be provided for each section and the specifics of the implementation are marked in the code block with a `# TODO: ...` comment. Please be sure to read the instructions carefully!\n",
    "\n",
    "In addition to implementing code, there will be questions for you to answer which relate to the task and your implementation. Each section where you will answer a question is preceded by a '**Question:**' header. Carefully read each question and provide your answer below the '**Answer:**' header by editing the Markdown cell.\n",
    "\n",
    "> **Note**: Code and Markdown cells can be executed using the **Shift+Enter** keyboard shortcut. In addition, a cell can be edited by typically clicking it (double-click for Markdown cells) or by pressing **Enter** while it is highlighted.\n",
    "\n",
    "## General Outline\n",
    "\n",
    "Recall the general outline for SageMaker projects using a notebook instance.\n",
    "\n",
    "1. Download or otherwise retrieve the data.\n",
    "2. Process / Prepare the data.\n",
    "3. Upload the processed data to S3.\n",
    "4. Train a chosen model.\n",
    "5. Test the trained model (typically using a batch transform job).\n",
    "6. Deploy the trained model.\n",
    "7. Use the deployed model.\n",
    "\n",
    "For this project, you will be following the steps in the general outline with some modifications. \n",
    "\n",
    "First, you will not be testing the model in its own step. You will still be testing the model, however, you will do it by deploying your model and then using the deployed model by sending the test data to it. One of the reasons for doing this is so that you can make sure that your deployed model is working correctly before moving forward.\n",
    "\n",
    "In addition, you will deploy and use your trained model a second time. In the second iteration you will customize the way that your trained model is deployed by including some of your own code. In addition, your newly deployed model will be used in the sentiment analysis web app."
   ]
  },
  {
   "cell_type": "markdown",
   "metadata": {},
   "source": [
    "## Step 1: Downloading the data\n",
    "\n",
    "As in the XGBoost in SageMaker notebook, we will be using the [IMDb dataset](http://ai.stanford.edu/~amaas/data/sentiment/)\n",
    "\n",
    "> Maas, Andrew L., et al. [Learning Word Vectors for Sentiment Analysis](http://ai.stanford.edu/~amaas/data/sentiment/). In _Proceedings of the 49th Annual Meeting of the Association for Computational Linguistics: Human Language Technologies_. Association for Computational Linguistics, 2011."
   ]
  },
  {
   "cell_type": "code",
   "execution_count": 1,
   "metadata": {},
   "outputs": [
    {
     "name": "stdout",
     "output_type": "stream",
     "text": [
      "mkdir: cannot create directory ‘../data’: File exists\n",
      "--2020-10-17 08:10:54--  http://ai.stanford.edu/~amaas/data/sentiment/aclImdb_v1.tar.gz\n",
      "Resolving ai.stanford.edu (ai.stanford.edu)... 171.64.68.10\n",
      "Connecting to ai.stanford.edu (ai.stanford.edu)|171.64.68.10|:80... connected.\n",
      "HTTP request sent, awaiting response... 200 OK\n",
      "Length: 84125825 (80M) [application/x-gzip]\n",
      "Saving to: ‘../data/aclImdb_v1.tar.gz’\n",
      "\n",
      "../data/aclImdb_v1. 100%[===================>]  80.23M  5.98MB/s    in 19s     \n",
      "\n",
      "2020-10-17 08:11:13 (4.32 MB/s) - ‘../data/aclImdb_v1.tar.gz’ saved [84125825/84125825]\n",
      "\n"
     ]
    }
   ],
   "source": [
    "%mkdir ../data\n",
    "!wget -O ../data/aclImdb_v1.tar.gz http://ai.stanford.edu/~amaas/data/sentiment/aclImdb_v1.tar.gz\n",
    "!tar -zxf ../data/aclImdb_v1.tar.gz -C ../data"
   ]
  },
  {
   "cell_type": "markdown",
   "metadata": {},
   "source": [
    "## Step 2: Preparing and Processing the data\n",
    "\n",
    "Also, as in the XGBoost notebook, we will be doing some initial data processing. The first few steps are the same as in the XGBoost example. To begin with, we will read in each of the reviews and combine them into a single input structure. Then, we will split the dataset into a training set and a testing set."
   ]
  },
  {
   "cell_type": "code",
   "execution_count": 2,
   "metadata": {},
   "outputs": [],
   "source": [
    "import os\n",
    "import glob\n",
    "\n",
    "def read_imdb_data(data_dir='../data/aclImdb'):\n",
    "    data = {}\n",
    "    labels = {}\n",
    "    \n",
    "    for data_type in ['train', 'test']:\n",
    "        data[data_type] = {}\n",
    "        labels[data_type] = {}\n",
    "        \n",
    "        for sentiment in ['pos', 'neg']:\n",
    "            data[data_type][sentiment] = []\n",
    "            labels[data_type][sentiment] = []\n",
    "            \n",
    "            path = os.path.join(data_dir, data_type, sentiment, '*.txt')\n",
    "            files = glob.glob(path)\n",
    "            \n",
    "            for f in files:\n",
    "                with open(f) as review:\n",
    "                    data[data_type][sentiment].append(review.read())\n",
    "                    # Here we represent a positive review by '1' and a negative review by '0'\n",
    "                    labels[data_type][sentiment].append(1 if sentiment == 'pos' else 0)\n",
    "                    \n",
    "            assert len(data[data_type][sentiment]) == len(labels[data_type][sentiment]), \\\n",
    "                    \"{}/{} data size does not match labels size\".format(data_type, sentiment)\n",
    "                \n",
    "    return data, labels"
   ]
  },
  {
   "cell_type": "code",
   "execution_count": 3,
   "metadata": {},
   "outputs": [
    {
     "name": "stdout",
     "output_type": "stream",
     "text": [
      "IMDB reviews: train = 12500 pos / 12500 neg, test = 12500 pos / 12500 neg\n"
     ]
    }
   ],
   "source": [
    "data, labels = read_imdb_data()\n",
    "print(\"IMDB reviews: train = {} pos / {} neg, test = {} pos / {} neg\".format(\n",
    "            len(data['train']['pos']), len(data['train']['neg']),\n",
    "            len(data['test']['pos']), len(data['test']['neg'])))"
   ]
  },
  {
   "cell_type": "markdown",
   "metadata": {},
   "source": [
    "Now that we've read the raw training and testing data from the downloaded dataset, we will combine the positive and negative reviews and shuffle the resulting records."
   ]
  },
  {
   "cell_type": "code",
   "execution_count": 4,
   "metadata": {},
   "outputs": [],
   "source": [
    "from sklearn.utils import shuffle\n",
    "\n",
    "def prepare_imdb_data(data, labels):\n",
    "    \"\"\"Prepare training and test sets from IMDb movie reviews.\"\"\"\n",
    "    \n",
    "    #Combine positive and negative reviews and labels\n",
    "    data_train = data['train']['pos'] + data['train']['neg']\n",
    "    data_test = data['test']['pos'] + data['test']['neg']\n",
    "    labels_train = labels['train']['pos'] + labels['train']['neg']\n",
    "    labels_test = labels['test']['pos'] + labels['test']['neg']\n",
    "    \n",
    "    #Shuffle reviews and corresponding labels within training and test sets\n",
    "    data_train, labels_train = shuffle(data_train, labels_train)\n",
    "    data_test, labels_test = shuffle(data_test, labels_test)\n",
    "    \n",
    "    # Return a unified training data, test data, training labels, test labets\n",
    "    return data_train, data_test, labels_train, labels_test"
   ]
  },
  {
   "cell_type": "code",
   "execution_count": 5,
   "metadata": {},
   "outputs": [
    {
     "name": "stdout",
     "output_type": "stream",
     "text": [
      "IMDb reviews (combined): train = 25000, test = 25000\n"
     ]
    }
   ],
   "source": [
    "train_X, test_X, train_y, test_y = prepare_imdb_data(data, labels)\n",
    "print(\"IMDb reviews (combined): train = {}, test = {}\".format(len(train_X), len(test_X)))"
   ]
  },
  {
   "cell_type": "markdown",
   "metadata": {},
   "source": [
    "Now that we have our training and testing sets unified and prepared, we should do a quick check and see an example of the data our model will be trained on. This is generally a good idea as it allows you to see how each of the further processing steps affects the reviews and it also ensures that the data has been loaded correctly."
   ]
  },
  {
   "cell_type": "code",
   "execution_count": 7,
   "metadata": {},
   "outputs": [
    {
     "name": "stdout",
     "output_type": "stream",
     "text": [
      "This impossible tale is of a female witch pursuing a mortal man, in a mortal world. Her \"community\" is open among it's members, but she conceals her witchcraft from the mortals. Hmmmm...this is starting to sound familiar. LOL. It's not your typical movie. Very \"campy\" performances by Jack Lemmon and Ernie Kovacs keep things from getting dull. Kim Novak is always a pleasure on screen, but I found her pairing with James Stewart unusual (but not fatal to the story).<br /><br />With re-newed interest in all things witchy and dark, this film deserves to be discovered and re-discovered by old and new audiences...... IT'S STILL A HOOT !\n",
      "1\n",
      "Yes,the movie is not a piece of art but the first time I watched it I was 10 years old,my parents were out and I stayed home with my two brothers.It was May 1970(I know that because I found a note about the cycle of horror movies that one network had).It's one of the most vivid memories I have with the guys.We ended all in one bed and covered up to the head! Our very first horror movie! We kept talking about it for years and laughing about the moment.Those were horror movies.Nowadays horror movies are always the same.Or was it better when we were kids enjoying without analyzing the plot and the cast and the dialogs? Most sure it was that.But for me this is a great movie!\n",
      "0\n"
     ]
    }
   ],
   "source": [
    "print(train_X[150])\n",
    "print(train_y[150])\n",
    "\n",
    "print(test_X[100])\n",
    "print(test_y[100])"
   ]
  },
  {
   "cell_type": "markdown",
   "metadata": {},
   "source": [
    "The first step in processing the reviews is to make sure that any html tags that appear should be removed. In addition we wish to tokenize our input, that way words such as *entertained* and *entertaining* are considered the same with regard to sentiment analysis."
   ]
  },
  {
   "cell_type": "code",
   "execution_count": 8,
   "metadata": {},
   "outputs": [],
   "source": [
    "import nltk\n",
    "from nltk.corpus import stopwords\n",
    "from nltk.stem.porter import *\n",
    "\n",
    "import re\n",
    "from bs4 import BeautifulSoup\n",
    "\n",
    "def review_to_words(review):\n",
    "    nltk.download(\"stopwords\", quiet=True)\n",
    "    stemmer = PorterStemmer()\n",
    "    \n",
    "    text = BeautifulSoup(review, \"html.parser\").get_text() # Remove HTML tags\n",
    "    text = re.sub(r\"[^a-zA-Z0-9]\", \" \", text.lower()) # Convert to lower case\n",
    "    words = text.split() # Split string into words\n",
    "    words = [w for w in words if w not in stopwords.words(\"english\")] # Remove stopwords\n",
    "    words = [PorterStemmer().stem(w) for w in words] # stem\n",
    "    \n",
    "    return words"
   ]
  },
  {
   "cell_type": "markdown",
   "metadata": {},
   "source": [
    "The `review_to_words` method defined above uses `BeautifulSoup` to remove any html tags that appear and uses the `nltk` package to tokenize the reviews. As a check to ensure we know how everything is working, try applying `review_to_words` to one of the reviews in the training set."
   ]
  },
  {
   "cell_type": "code",
   "execution_count": 9,
   "metadata": {},
   "outputs": [
    {
     "data": {
      "text/plain": [
       "['wish',\n",
       " 'known',\n",
       " 'movi',\n",
       " 'rent',\n",
       " 'put',\n",
       " 'queue',\n",
       " 'basi',\n",
       " 'heather',\n",
       " 'graham',\n",
       " 'strong',\n",
       " 'cred',\n",
       " 'actress',\n",
       " 'imho',\n",
       " 'part',\n",
       " 'movi',\n",
       " 'charm',\n",
       " 'much',\n",
       " 'movi',\n",
       " 'felt',\n",
       " 'contriv',\n",
       " 'undevelop',\n",
       " 'otherwis',\n",
       " 'bore',\n",
       " 'predict',\n",
       " 'mention',\n",
       " 'ick',\n",
       " 'factor',\n",
       " 'mani',\n",
       " 'peopl',\n",
       " 'think',\n",
       " 'sib',\n",
       " 'coupl',\n",
       " 'care',\n",
       " 'big',\n",
       " 'part',\n",
       " 'stori',\n",
       " 'line',\n",
       " 'still',\n",
       " 'felt',\n",
       " 'bit',\n",
       " 'um',\n",
       " 'gross',\n",
       " 'charli',\n",
       " 'zoologist',\n",
       " 'certainli',\n",
       " 'seem',\n",
       " 'attun',\n",
       " 'signal',\n",
       " 'homo',\n",
       " 'sapien',\n",
       " 'besid',\n",
       " 'hot',\n",
       " 'common',\n",
       " 'interest',\n",
       " 'made',\n",
       " 'gray',\n",
       " 'fall',\n",
       " 'stori',\n",
       " 'could',\n",
       " 'much',\n",
       " 'interest',\n",
       " 'littl',\n",
       " 'depth',\n",
       " 'high',\n",
       " 'point',\n",
       " 'molli',\n",
       " 'shannon',\n",
       " 'although',\n",
       " 'agre',\n",
       " 'review',\n",
       " 'found',\n",
       " 'annoy',\n",
       " 'occas',\n",
       " 'cabbi',\n",
       " 'drag',\n",
       " 'danc',\n",
       " 'sequenc',\n",
       " 'sam',\n",
       " 'gray',\n",
       " 'great',\n",
       " 'dancer',\n",
       " 'wish',\n",
       " 'seen',\n",
       " 'bit',\n",
       " 'shown',\n",
       " 'inde',\n",
       " 'better',\n",
       " 'rest',\n",
       " 'movi',\n",
       " 'could',\n",
       " 'better']"
      ]
     },
     "execution_count": 9,
     "metadata": {},
     "output_type": "execute_result"
    }
   ],
   "source": [
    "#  TODO: Apply review_to_words to a review (train_X[100] or any other review)\n",
    "review_to_words(train_X[100])"
   ]
  },
  {
   "cell_type": "markdown",
   "metadata": {},
   "source": [
    "**Question:** Above we mentioned that `review_to_words` method removes html formatting and allows us to tokenize the words found in a review, for example, converting *entertained* and *entertaining* into *entertain* so that they are treated as though they are the same word. What else, if anything, does this method do to the input?"
   ]
  },
  {
   "cell_type": "markdown",
   "metadata": {},
   "source": [
    "**Answer:\n",
    "\n",
    "*TO remove HTML and XML tags\n",
    "*To remove stopwords\n",
    "*To converts words to lower cases and remove unnecessary characters except characters and numbers\n",
    "*To reduce the word token by converting multiple words into single word which holds same information and thus reduce the training cost.\n"
   ]
  },
  {
   "cell_type": "markdown",
   "metadata": {},
   "source": [
    "The method below applies the `review_to_words` method to each of the reviews in the training and testing datasets. In addition it caches the results. This is because performing this processing step can take a long time. This way if you are unable to complete the notebook in the current session, you can come back without needing to process the data a second time."
   ]
  },
  {
   "cell_type": "code",
   "execution_count": 10,
   "metadata": {},
   "outputs": [],
   "source": [
    "import pickle\n",
    "\n",
    "cache_dir = os.path.join(\"../cache\", \"sentiment_analysis\")  # where to store cache files\n",
    "os.makedirs(cache_dir, exist_ok=True)  # ensure cache directory exists\n",
    "\n",
    "def preprocess_data(data_train, data_test, labels_train, labels_test,\n",
    "                    cache_dir=cache_dir, cache_file=\"preprocessed_data.pkl\"):\n",
    "    \"\"\"Convert each review to words; read from cache if available.\"\"\"\n",
    "\n",
    "    # If cache_file is not None, try to read from it first\n",
    "    cache_data = None\n",
    "    if cache_file is not None:\n",
    "        try:\n",
    "            with open(os.path.join(cache_dir, cache_file), \"rb\") as f:\n",
    "                cache_data = pickle.load(f)\n",
    "            print(\"Read preprocessed data from cache file:\", cache_file)\n",
    "        except:\n",
    "            pass  # unable to read from cache, but that's okay\n",
    "    \n",
    "    # If cache is missing, then do the heavy lifting\n",
    "    if cache_data is None:\n",
    "        # Preprocess training and test data to obtain words for each review\n",
    "        #words_train = list(map(review_to_words, data_train))\n",
    "        #words_test = list(map(review_to_words, data_test))\n",
    "        words_train = [review_to_words(review) for review in data_train]\n",
    "        words_test = [review_to_words(review) for review in data_test]\n",
    "        \n",
    "        # Write to cache file for future runs\n",
    "        if cache_file is not None:\n",
    "            cache_data = dict(words_train=words_train, words_test=words_test,\n",
    "                              labels_train=labels_train, labels_test=labels_test)\n",
    "            with open(os.path.join(cache_dir, cache_file), \"wb\") as f:\n",
    "                pickle.dump(cache_data, f)\n",
    "            print(\"Wrote preprocessed data to cache file:\", cache_file)\n",
    "    else:\n",
    "        # Unpack data loaded from cache file\n",
    "        words_train, words_test, labels_train, labels_test = (cache_data['words_train'],\n",
    "                cache_data['words_test'], cache_data['labels_train'], cache_data['labels_test'])\n",
    "    \n",
    "    return words_train, words_test, labels_train, labels_test"
   ]
  },
  {
   "cell_type": "code",
   "execution_count": 11,
   "metadata": {},
   "outputs": [
    {
     "name": "stdout",
     "output_type": "stream",
     "text": [
      "Read preprocessed data from cache file: preprocessed_data.pkl\n"
     ]
    }
   ],
   "source": [
    "# Preprocess data\n",
    "train_X, test_X, train_y, test_y = preprocess_data(train_X, test_X, train_y, test_y)"
   ]
  },
  {
   "cell_type": "markdown",
   "metadata": {},
   "source": [
    "## Transform the data\n",
    "\n",
    "In the XGBoost notebook we transformed the data from its word representation to a bag-of-words feature representation. For the model we are going to construct in this notebook we will construct a feature representation which is very similar. To start, we will represent each word as an integer. Of course, some of the words that appear in the reviews occur very infrequently and so likely don't contain much information for the purposes of sentiment analysis. The way we will deal with this problem is that we will fix the size of our working vocabulary and we will only include the words that appear most frequently. We will then combine all of the infrequent words into a single category and, in our case, we will label it as `1`.\n",
    "\n",
    "Since we will be using a recurrent neural network, it will be convenient if the length of each review is the same. To do this, we will fix a size for our reviews and then pad short reviews with the category 'no word' (which we will label `0`) and truncate long reviews."
   ]
  },
  {
   "cell_type": "markdown",
   "metadata": {},
   "source": [
    "### (TODO) Create a word dictionary\n",
    "\n",
    "To begin with, we need to construct a way to map words that appear in the reviews to integers. Here we fix the size of our vocabulary (including the 'no word' and 'infrequent' categories) to be `5000` but you may wish to change this to see how it affects the model.\n",
    "\n",
    "> **TODO:** Complete the implementation for the `build_dict()` method below. Note that even though the vocab_size is set to `5000`, we only want to construct a mapping for the most frequently appearing `4998` words. This is because we want to reserve the special labels `0` for 'no word' and `1` for 'infrequent word'."
   ]
  },
  {
   "cell_type": "code",
   "execution_count": 12,
   "metadata": {},
   "outputs": [],
   "source": [
    "import numpy as np\n",
    "\n",
    "def build_dict(data, vocab_size = 5000):\n",
    "    \"\"\"Construct and return a dictionary mapping each of the most frequently appearing words to a unique integer.\"\"\"\n",
    "    \n",
    "    # TODO: Determine how often each word appears in `data`. Note that `data` is a list of sentences and that a\n",
    "    #       sentence is a list of words.\n",
    "    \n",
    "    word_count = {} # A dict storing the words that appear in the reviews along with how often they occur\n",
    "    for review in data:\n",
    "        for word in review:\n",
    "            if word in word_count:\n",
    "                word_count[word] += 1\n",
    "            else:\n",
    "                word_count[word] = 1\n",
    "    \n",
    "    \n",
    "    # TODO: Sort the words found in `data` so that sorted_words[0] is the most frequently appearing word and\n",
    "    #       sorted_words[-1] is the least frequently appearing word.\n",
    "    \n",
    "    sorted_words = sorted(word_count.items(), key = lambda x: x[1], reverse=True)\n",
    "    \n",
    "    sorted_words = [sorted_word for sorted_word,_ in sorted_words]\n",
    "    \n",
    "   \n",
    "    # print(sorted_words[-1])\n",
    "    \n",
    "    word_dict = {} # This is what we are building, a dictionary that translates words into integers\n",
    "    for idx, word in enumerate(sorted_words[:vocab_size - 2]): # The -2 is so that we save room for the 'no word'\n",
    "        word_dict[word] = idx + 2                              # 'infrequent' labels\n",
    "        \n",
    "    return word_dict"
   ]
  },
  {
   "cell_type": "code",
   "execution_count": 13,
   "metadata": {
    "scrolled": false
   },
   "outputs": [
    {
     "name": "stdout",
     "output_type": "stream",
     "text": [
      "{'movi': 2, 'film': 3, 'one': 4, 'like': 5, 'time': 6, 'good': 7, 'make': 8, 'charact': 9, 'get': 10, 'see': 11, 'watch': 12, 'stori': 13, 'even': 14, 'would': 15, 'realli': 16, 'well': 17, 'scene': 18, 'look': 19, 'show': 20, 'much': 21, 'end': 22, 'peopl': 23, 'bad': 24, 'go': 25, 'great': 26, 'also': 27, 'first': 28, 'love': 29, 'think': 30, 'way': 31, 'act': 32, 'play': 33, 'made': 34, 'thing': 35, 'could': 36, 'know': 37, 'say': 38, 'seem': 39, 'work': 40, 'plot': 41, 'two': 42, 'actor': 43, 'year': 44, 'come': 45, 'mani': 46, 'seen': 47, 'take': 48, 'life': 49, 'want': 50, 'never': 51, 'littl': 52, 'best': 53, 'tri': 54, 'man': 55, 'ever': 56, 'give': 57, 'better': 58, 'still': 59, 'perform': 60, 'find': 61, 'feel': 62, 'part': 63, 'back': 64, 'use': 65, 'someth': 66, 'director': 67, 'actual': 68, 'interest': 69, 'lot': 70, 'real': 71, 'old': 72, 'cast': 73, 'though': 74, 'live': 75, 'star': 76, 'enjoy': 77, 'guy': 78, 'anoth': 79, 'new': 80, 'role': 81, 'noth': 82, '10': 83, 'funni': 84, 'music': 85, 'point': 86, 'start': 87, 'set': 88, 'girl': 89, 'origin': 90, 'day': 91, 'world': 92, 'everi': 93, 'believ': 94, 'turn': 95, 'quit': 96, 'direct': 97, 'us': 98, 'thought': 99, 'fact': 100, 'minut': 101, 'horror': 102, 'kill': 103, 'action': 104, 'comedi': 105, 'pretti': 106, 'young': 107, 'wonder': 108, 'happen': 109, 'around': 110, 'got': 111, 'effect': 112, 'right': 113, 'long': 114, 'howev': 115, 'big': 116, 'line': 117, 'famili': 118, 'enough': 119, 'seri': 120, 'may': 121, 'need': 122, 'fan': 123, 'bit': 124, 'script': 125, 'beauti': 126, 'person': 127, 'becom': 128, 'without': 129, 'must': 130, 'alway': 131, 'friend': 132, 'tell': 133, 'reason': 134, 'saw': 135, 'last': 136, 'final': 137, 'kid': 138, 'almost': 139, 'put': 140, 'least': 141, 'sure': 142, 'done': 143, 'whole': 144, 'place': 145, 'complet': 146, 'kind': 147, 'differ': 148, 'expect': 149, 'shot': 150, 'far': 151, 'mean': 152, 'anyth': 153, 'book': 154, 'laugh': 155, 'might': 156, 'name': 157, 'sinc': 158, 'begin': 159, '2': 160, 'probabl': 161, 'woman': 162, 'help': 163, 'entertain': 164, 'let': 165, 'screen': 166, 'call': 167, 'tv': 168, 'moment': 169, 'away': 170, 'read': 171, 'yet': 172, 'rather': 173, 'worst': 174, 'run': 175, 'fun': 176, 'lead': 177, 'hard': 178, 'audienc': 179, 'idea': 180, 'anyon': 181, 'episod': 182, 'american': 183, 'found': 184, 'appear': 185, 'bore': 186, 'especi': 187, 'although': 188, 'hope': 189, 'keep': 190, 'cours': 191, 'anim': 192, 'job': 193, 'goe': 194, 'move': 195, 'sens': 196, 'version': 197, 'dvd': 198, 'war': 199, 'money': 200, 'someon': 201, 'mind': 202, 'mayb': 203, 'problem': 204, 'true': 205, 'hous': 206, 'everyth': 207, 'nice': 208, 'second': 209, 'rate': 210, 'three': 211, 'night': 212, 'follow': 213, 'face': 214, 'recommend': 215, 'product': 216, 'main': 217, 'worth': 218, 'leav': 219, 'human': 220, 'special': 221, 'excel': 222, 'togeth': 223, 'wast': 224, 'everyon': 225, 'sound': 226, 'john': 227, 'hand': 228, '1': 229, 'father': 230, 'later': 231, 'eye': 232, 'said': 233, 'view': 234, 'instead': 235, 'review': 236, 'boy': 237, 'high': 238, 'hour': 239, 'miss': 240, 'classic': 241, 'talk': 242, 'wife': 243, 'understand': 244, 'left': 245, 'care': 246, 'black': 247, 'death': 248, 'open': 249, 'murder': 250, 'write': 251, 'half': 252, 'head': 253, 'rememb': 254, 'chang': 255, 'viewer': 256, 'fight': 257, 'gener': 258, 'surpris': 259, 'short': 260, 'includ': 261, 'die': 262, 'fall': 263, 'less': 264, 'els': 265, 'entir': 266, 'piec': 267, 'involv': 268, 'pictur': 269, 'simpli': 270, 'home': 271, 'power': 272, 'top': 273, 'total': 274, 'usual': 275, 'budget': 276, 'attempt': 277, 'suppos': 278, 'releas': 279, 'hollywood': 280, 'terribl': 281, 'song': 282, 'men': 283, 'possibl': 284, 'featur': 285, 'portray': 286, 'disappoint': 287, '3': 288, 'poor': 289, 'coupl': 290, 'stupid': 291, 'camera': 292, 'dead': 293, 'wrong': 294, 'produc': 295, 'low': 296, 'either': 297, 'video': 298, 'aw': 299, 'definit': 300, 'except': 301, 'rest': 302, 'given': 303, 'absolut': 304, 'women': 305, 'lack': 306, 'word': 307, 'writer': 308, 'titl': 309, 'talent': 310, 'decid': 311, 'full': 312, 'perfect': 313, 'along': 314, 'style': 315, 'close': 316, 'truli': 317, 'school': 318, 'emot': 319, 'save': 320, 'age': 321, 'sex': 322, 'next': 323, 'bring': 324, 'mr': 325, 'case': 326, 'killer': 327, 'heart': 328, 'comment': 329, 'sort': 330, 'creat': 331, 'perhap': 332, 'came': 333, 'brother': 334, 'sever': 335, 'joke': 336, 'art': 337, 'dialogu': 338, 'game': 339, 'small': 340, 'base': 341, 'flick': 342, 'written': 343, 'sequenc': 344, 'meet': 345, 'earli': 346, 'often': 347, 'other': 348, 'mother': 349, 'develop': 350, 'humor': 351, 'actress': 352, 'consid': 353, 'dark': 354, 'guess': 355, 'amaz': 356, 'unfortun': 357, 'light': 358, 'lost': 359, 'exampl': 360, 'cinema': 361, 'drama': 362, 'ye': 363, 'white': 364, 'experi': 365, 'imagin': 366, 'mention': 367, 'stop': 368, 'natur': 369, 'forc': 370, 'manag': 371, 'felt': 372, 'cut': 373, 'present': 374, 'children': 375, 'fail': 376, 'son': 377, 'car': 378, 'support': 379, 'qualiti': 380, 'ask': 381, 'hit': 382, 'side': 383, 'voic': 384, 'extrem': 385, 'impress': 386, 'evil': 387, 'wors': 388, 'went': 389, 'stand': 390, 'certainli': 391, 'basic': 392, 'oh': 393, 'overal': 394, 'favorit': 395, 'horribl': 396, 'mysteri': 397, 'number': 398, 'type': 399, 'danc': 400, 'wait': 401, 'hero': 402, 'alreadi': 403, '5': 404, 'learn': 405, 'matter': 406, '4': 407, 'michael': 408, 'genr': 409, 'fine': 410, 'despit': 411, 'throughout': 412, 'walk': 413, 'success': 414, 'histori': 415, 'question': 416, 'zombi': 417, 'town': 418, 'relationship': 419, 'realiz': 420, 'past': 421, 'child': 422, 'daughter': 423, 'late': 424, 'b': 425, 'wish': 426, 'credit': 427, 'hate': 428, 'event': 429, 'theme': 430, 'touch': 431, 'citi': 432, 'today': 433, 'sometim': 434, 'behind': 435, 'god': 436, 'twist': 437, 'sit': 438, 'stay': 439, 'deal': 440, 'annoy': 441, 'abl': 442, 'rent': 443, 'pleas': 444, 'edit': 445, 'blood': 446, 'deserv': 447, 'comic': 448, 'anyway': 449, 'appar': 450, 'soon': 451, 'gave': 452, 'etc': 453, 'level': 454, 'slow': 455, 'chanc': 456, 'score': 457, 'bodi': 458, 'brilliant': 459, 'incred': 460, 'figur': 461, 'situat': 462, 'major': 463, 'self': 464, 'stuff': 465, 'decent': 466, 'element': 467, 'return': 468, 'dream': 469, 'obvious': 470, 'continu': 471, 'order': 472, 'pace': 473, 'ridicul': 474, 'happi': 475, 'add': 476, 'group': 477, 'highli': 478, 'thank': 479, 'ladi': 480, 'novel': 481, 'speak': 482, 'pain': 483, 'career': 484, 'shoot': 485, 'strang': 486, 'heard': 487, 'sad': 488, 'husband': 489, 'polic': 490, 'import': 491, 'break': 492, 'took': 493, 'cannot': 494, 'strong': 495, 'robert': 496, 'predict': 497, 'violenc': 498, 'hilari': 499, 'recent': 500, 'countri': 501, 'known': 502, 'particularli': 503, 'pick': 504, 'documentari': 505, 'season': 506, 'critic': 507, 'jame': 508, 'compar': 509, 'obviou': 510, 'alon': 511, 'told': 512, 'state': 513, 'visual': 514, 'rock': 515, 'exist': 516, 'theater': 517, 'offer': 518, 'opinion': 519, 'gore': 520, 'hold': 521, 'crap': 522, 'result': 523, 'room': 524, 'realiti': 525, 'hear': 526, 'effort': 527, 'clich': 528, 'thriller': 529, 'caus': 530, 'sequel': 531, 'serious': 532, 'explain': 533, 'king': 534, 'local': 535, 'ago': 536, 'none': 537, 'hell': 538, 'note': 539, 'allow': 540, 'david': 541, 'sister': 542, 'simpl': 543, 'femal': 544, 'deliv': 545, 'ok': 546, 'class': 547, 'convinc': 548, 'check': 549, 'suspens': 550, 'win': 551, 'buy': 552, 'oscar': 553, 'huge': 554, 'valu': 555, 'sexual': 556, 'cool': 557, 'scari': 558, 'excit': 559, 'similar': 560, 'apart': 561, 'provid': 562, 'exactli': 563, 'avoid': 564, 'shown': 565, 'seriou': 566, 'english': 567, 'whose': 568, 'taken': 569, 'cinematographi': 570, 'shock': 571, 'polit': 572, 'spoiler': 573, 'offic': 574, 'across': 575, 'middl': 576, 'pass': 577, 'street': 578, 'messag': 579, 'charm': 580, 'somewhat': 581, 'silli': 582, 'modern': 583, 'confus': 584, 'filmmak': 585, 'form': 586, 'tale': 587, 'singl': 588, 'jack': 589, 'mostli': 590, 'carri': 591, 'william': 592, 'attent': 593, 'sing': 594, 'five': 595, 'subject': 596, 'richard': 597, 'prove': 598, 'stage': 599, 'team': 600, 'cop': 601, 'unlik': 602, 'georg': 603, 'televis': 604, 'monster': 605, 'earth': 606, 'cover': 607, 'villain': 608, 'pay': 609, 'marri': 610, 'toward': 611, 'build': 612, 'parent': 613, 'pull': 614, 'due': 615, 'respect': 616, 'fill': 617, 'four': 618, 'dialog': 619, 'remind': 620, 'futur': 621, 'weak': 622, 'typic': 623, '7': 624, 'cheap': 625, 'intellig': 626, 'british': 627, 'atmospher': 628, 'clearli': 629, '80': 630, 'dog': 631, 'non': 632, 'paul': 633, '8': 634, 'fast': 635, 'artist': 636, 'knew': 637, 'crime': 638, 'easili': 639, 'escap': 640, 'adult': 641, 'doubt': 642, 'detail': 643, 'date': 644, 'fire': 645, 'member': 646, 'romant': 647, 'gun': 648, 'drive': 649, 'straight': 650, 'fit': 651, 'beyond': 652, 'attack': 653, 'imag': 654, 'upon': 655, 'posit': 656, 'whether': 657, 'fantast': 658, 'peter': 659, 'appreci': 660, 'aspect': 661, 'captur': 662, 'ten': 663, 'plan': 664, 'discov': 665, 'remain': 666, 'near': 667, 'period': 668, 'air': 669, 'realist': 670, 'mark': 671, 'red': 672, 'dull': 673, 'adapt': 674, 'within': 675, 'lose': 676, 'spend': 677, 'materi': 678, 'color': 679, 'chase': 680, 'mari': 681, 'storylin': 682, 'forget': 683, 'bunch': 684, 'clear': 685, 'lee': 686, 'victim': 687, 'nearli': 688, 'box': 689, 'york': 690, 'inspir': 691, 'match': 692, 'finish': 693, 'mess': 694, 'standard': 695, 'easi': 696, 'truth': 697, 'suffer': 698, 'busi': 699, 'space': 700, 'dramat': 701, 'bill': 702, 'western': 703, 'e': 704, 'list': 705, 'battl': 706, 'notic': 707, 'de': 708, 'french': 709, 'ad': 710, '9': 711, 'tom': 712, 'larg': 713, 'among': 714, 'eventu': 715, 'train': 716, 'accept': 717, 'agre': 718, 'spirit': 719, 'soundtrack': 720, 'third': 721, 'teenag': 722, 'soldier': 723, 'adventur': 724, 'suggest': 725, 'sorri': 726, 'drug': 727, 'famou': 728, 'normal': 729, 'babi': 730, 'cri': 731, 'troubl': 732, 'ultim': 733, 'contain': 734, 'certain': 735, 'cultur': 736, 'romanc': 737, 'rare': 738, 'lame': 739, 'somehow': 740, 'mix': 741, 'disney': 742, 'gone': 743, 'cartoon': 744, 'student': 745, 'reveal': 746, 'fear': 747, 'kept': 748, 'suck': 749, 'attract': 750, 'appeal': 751, 'premis': 752, 'design': 753, 'secret': 754, 'greatest': 755, 'shame': 756, 'throw': 757, 'scare': 758, 'copi': 759, 'wit': 760, 'america': 761, 'admit': 762, 'relat': 763, 'particular': 764, 'brought': 765, 'screenplay': 766, 'whatev': 767, 'pure': 768, '70': 769, 'averag': 770, 'harri': 771, 'master': 772, 'describ': 773, 'male': 774, 'treat': 775, '20': 776, 'fantasi': 777, 'issu': 778, 'warn': 779, 'inde': 780, 'forward': 781, 'background': 782, 'free': 783, 'project': 784, 'memor': 785, 'japanes': 786, 'poorli': 787, 'award': 788, 'locat': 789, 'amus': 790, 'potenti': 791, 'struggl': 792, 'magic': 793, 'weird': 794, 'societi': 795, 'okay': 796, 'imdb': 797, 'accent': 798, 'doctor': 799, 'water': 800, 'hot': 801, 'express': 802, '30': 803, 'dr': 804, 'alien': 805, 'odd': 806, 'choic': 807, 'crazi': 808, 'fiction': 809, 'studio': 810, 'becam': 811, 'control': 812, 'masterpiec': 813, 'fli': 814, 'difficult': 815, 'joe': 816, 'scream': 817, 'costum': 818, 'lover': 819, 'refer': 820, 'uniqu': 821, 'remak': 822, 'girlfriend': 823, 'vampir': 824, 'prison': 825, 'execut': 826, 'wear': 827, 'jump': 828, 'wood': 829, 'unless': 830, 'creepi': 831, 'cheesi': 832, 'superb': 833, 'otherwis': 834, 'parti': 835, 'ghost': 836, 'roll': 837, 'public': 838, 'mad': 839, 'depict': 840, 'earlier': 841, 'week': 842, 'moral': 843, 'badli': 844, 'jane': 845, 'dumb': 846, 'fi': 847, 'flaw': 848, 'grow': 849, 'sci': 850, 'deep': 851, 'cat': 852, 'maker': 853, 'older': 854, 'footag': 855, 'connect': 856, 'plenti': 857, 'bother': 858, 'outsid': 859, 'stick': 860, 'gay': 861, 'catch': 862, 'plu': 863, 'co': 864, 'popular': 865, 'equal': 866, 'social': 867, 'quickli': 868, 'disturb': 869, 'perfectli': 870, 'dress': 871, 'era': 872, '90': 873, 'mistak': 874, 'lie': 875, 'ride': 876, 'previou': 877, 'combin': 878, 'band': 879, 'concept': 880, 'answer': 881, 'rich': 882, 'surviv': 883, 'front': 884, 'christma': 885, 'sweet': 886, 'insid': 887, 'eat': 888, 'concern': 889, 'bare': 890, 'listen': 891, 'ben': 892, 'beat': 893, 'c': 894, 'serv': 895, 'term': 896, 'la': 897, 'meant': 898, 'german': 899, 'hardli': 900, 'stereotyp': 901, 'innoc': 902, 'law': 903, 'desper': 904, 'promis': 905, 'memori': 906, 'intent': 907, 'cute': 908, 'steal': 909, 'inform': 910, 'variou': 911, 'brain': 912, 'post': 913, 'tone': 914, 'island': 915, 'amount': 916, 'compani': 917, 'track': 918, 'nuditi': 919, 'store': 920, 'claim': 921, 'hair': 922, 'flat': 923, '50': 924, 'univers': 925, 'land': 926, 'kick': 927, 'danger': 928, 'fairli': 929, 'scott': 930, 'player': 931, 'step': 932, 'plain': 933, 'crew': 934, 'toni': 935, 'share': 936, 'tast': 937, 'centuri': 938, 'engag': 939, 'achiev': 940, 'cold': 941, 'travel': 942, 'record': 943, 'rip': 944, 'suit': 945, 'sadli': 946, 'manner': 947, 'tension': 948, 'wrote': 949, 'spot': 950, 'fascin': 951, 'intens': 952, 'familiar': 953, 'burn': 954, 'remark': 955, 'depth': 956, 'destroy': 957, 'histor': 958, 'sleep': 959, 'purpos': 960, 'languag': 961, 'ignor': 962, 'ruin': 963, 'delight': 964, 'italian': 965, 'unbeliev': 966, 'soul': 967, 'collect': 968, 'abil': 969, 'clever': 970, 'detect': 971, 'violent': 972, 'rape': 973, 'reach': 974, 'door': 975, 'scienc': 976, 'trash': 977, 'liter': 978, 'commun': 979, 'reveng': 980, 'caught': 981, 'creatur': 982, 'approach': 983, 'trip': 984, 'intrigu': 985, 'fashion': 986, 'skill': 987, 'paint': 988, 'introduc': 989, 'complex': 990, 'channel': 991, 'camp': 992, 'christian': 993, 'hole': 994, 'extra': 995, 'immedi': 996, 'ann': 997, 'limit': 998, 'mental': 999, '6': 1000, 'slightli': 1001, 'mere': 1002, 'comput': 1003, 'million': 1004, 'conclus': 1005, 'slasher': 1006, 'imposs': 1007, 'suddenli': 1008, 'crimin': 1009, 'neither': 1010, 'teen': 1011, 'nation': 1012, 'spent': 1013, 'physic': 1014, 'respons': 1015, 'planet': 1016, 'fake': 1017, 'receiv': 1018, 'blue': 1019, 'sick': 1020, 'bizarr': 1021, 'embarrass': 1022, 'indian': 1023, 'ring': 1024, '15': 1025, 'drop': 1026, 'pop': 1027, 'drag': 1028, 'haunt': 1029, 'pointless': 1030, 'suspect': 1031, 'edg': 1032, 'search': 1033, 'handl': 1034, 'biggest': 1035, 'common': 1036, 'hurt': 1037, 'faith': 1038, 'arriv': 1039, 'technic': 1040, 'angel': 1041, 'dad': 1042, 'genuin': 1043, 'f': 1044, 'solid': 1045, 'awesom': 1046, 'former': 1047, 'colleg': 1048, 'van': 1049, 'focu': 1050, 'count': 1051, 'heavi': 1052, 'tear': 1053, 'rais': 1054, 'wall': 1055, 'younger': 1056, 'laughabl': 1057, 'visit': 1058, 'fair': 1059, 'excus': 1060, 'sign': 1061, 'cult': 1062, 'key': 1063, 'tough': 1064, 'motion': 1065, 'super': 1066, 'desir': 1067, 'addit': 1068, 'stun': 1069, 'cloth': 1070, 'exploit': 1071, 'smith': 1072, 'tortur': 1073, 'race': 1074, 'davi': 1075, 'cross': 1076, 'author': 1077, 'jim': 1078, 'minor': 1079, 'compel': 1080, 'consist': 1081, 'focus': 1082, 'pathet': 1083, 'chemistri': 1084, 'commit': 1085, 'park': 1086, 'frank': 1087, 'tradit': 1088, 'obsess': 1089, 'grade': 1090, '60': 1091, 'asid': 1092, 'brutal': 1093, 'somewher': 1094, 'steve': 1095, 'rule': 1096, 'explor': 1097, 'grant': 1098, 'depress': 1099, 'opportun': 1100, 'u': 1101, 'besid': 1102, 'honest': 1103, 'anti': 1104, 'dub': 1105, 'intend': 1106, 'trailer': 1107, 'bar': 1108, 'longer': 1109, 'west': 1110, 'scientist': 1111, 'regard': 1112, 'judg': 1113, 'decad': 1114, 'silent': 1115, 'armi': 1116, 'creativ': 1117, 'wild': 1118, 'stewart': 1119, 'g': 1120, 'south': 1121, 'draw': 1122, 'road': 1123, 'govern': 1124, 'ex': 1125, 'boss': 1126, 'practic': 1127, 'festiv': 1128, 'surprisingli': 1129, 'motiv': 1130, 'club': 1131, 'gang': 1132, 'green': 1133, 'page': 1134, 'london': 1135, 'redeem': 1136, 'display': 1137, 'militari': 1138, 'aliv': 1139, 'idiot': 1140, 'machin': 1141, 'thrill': 1142, 'repeat': 1143, 'yeah': 1144, 'nobodi': 1145, 'folk': 1146, '100': 1147, '40': 1148, 'journey': 1149, 'garbag': 1150, 'ground': 1151, 'tire': 1152, 'smile': 1153, 'bought': 1154, 'mood': 1155, 'cost': 1156, 'stone': 1157, 'sam': 1158, 'mouth': 1159, 'noir': 1160, 'terrif': 1161, 'agent': 1162, 'utterli': 1163, 'requir': 1164, 'area': 1165, 'honestli': 1166, 'sexi': 1167, 'report': 1168, 'geniu': 1169, 'enter': 1170, 'glad': 1171, 'investig': 1172, 'humour': 1173, 'serial': 1174, 'occasion': 1175, 'narr': 1176, 'passion': 1177, 'marriag': 1178, 'climax': 1179, 'industri': 1180, 'studi': 1181, 'center': 1182, 'charli': 1183, 'demon': 1184, 'nowher': 1185, 'ship': 1186, 'loos': 1187, 'hors': 1188, 'bear': 1189, 'hang': 1190, 'wow': 1191, 'graphic': 1192, 'giant': 1193, 'admir': 1194, 'send': 1195, 'loud': 1196, 'damn': 1197, 'nake': 1198, 'rel': 1199, 'subtl': 1200, 'profession': 1201, 'blow': 1202, 'bottom': 1203, 'insult': 1204, 'batman': 1205, 'kelli': 1206, 'doubl': 1207, 'boyfriend': 1208, 'r': 1209, 'initi': 1210, 'frame': 1211, 'opera': 1212, 'gem': 1213, 'church': 1214, 'challeng': 1215, 'drawn': 1216, 'cinemat': 1217, 'affect': 1218, 'seek': 1219, 'nightmar': 1220, 'j': 1221, 'evid': 1222, 'l': 1223, 'fulli': 1224, 'conflict': 1225, 'arm': 1226, 'essenti': 1227, 'grace': 1228, 'christoph': 1229, 'henri': 1230, 'wind': 1231, 'witch': 1232, 'narrat': 1233, 'assum': 1234, 'hunt': 1235, 'push': 1236, 'wise': 1237, 'chri': 1238, 'repres': 1239, 'month': 1240, 'nomin': 1241, 'avail': 1242, 'sceneri': 1243, 'affair': 1244, 'hide': 1245, 'thu': 1246, 'justic': 1247, 'bond': 1248, 'smart': 1249, 'interview': 1250, 'flashback': 1251, 'outstand': 1252, 'presenc': 1253, 'constantli': 1254, 'satisfi': 1255, 'bed': 1256, 'central': 1257, 'iron': 1258, 'sell': 1259, 'content': 1260, 'gag': 1261, 'everybodi': 1262, 'slowli': 1263, 'hotel': 1264, 'hire': 1265, 'system': 1266, 'individu': 1267, 'charl': 1268, 'thrown': 1269, 'adam': 1270, 'hey': 1271, 'allen': 1272, 'mediocr': 1273, 'jone': 1274, 'lesson': 1275, 'billi': 1276, 'ray': 1277, 'cameo': 1278, 'photographi': 1279, 'fellow': 1280, 'pari': 1281, 'strike': 1282, 'absurd': 1283, 'rise': 1284, 'brief': 1285, 'independ': 1286, 'neg': 1287, 'phone': 1288, 'impact': 1289, 'born': 1290, 'model': 1291, 'ill': 1292, 'angl': 1293, 'spoil': 1294, 'fresh': 1295, 'abus': 1296, 'likabl': 1297, 'hill': 1298, 'discuss': 1299, 'ahead': 1300, 'sight': 1301, 'sent': 1302, 'photograph': 1303, 'occur': 1304, 'blame': 1305, 'logic': 1306, 'shine': 1307, 'bruce': 1308, 'mainli': 1309, 'skip': 1310, 'forev': 1311, 'commerci': 1312, 'teacher': 1313, 'segment': 1314, 'surround': 1315, 'held': 1316, 'blond': 1317, 'zero': 1318, 'satir': 1319, 'summer': 1320, 'trap': 1321, 'resembl': 1322, 'queen': 1323, 'six': 1324, 'ball': 1325, 'fool': 1326, 'tragedi': 1327, 'sub': 1328, 'twice': 1329, 'pack': 1330, 'reaction': 1331, 'bomb': 1332, 'will': 1333, 'protagonist': 1334, 'hospit': 1335, 'mile': 1336, 'sport': 1337, 'jerri': 1338, 'drink': 1339, 'mom': 1340, 'trust': 1341, 'vote': 1342, 'encount': 1343, 'plane': 1344, 'current': 1345, 'al': 1346, 'program': 1347, 'station': 1348, 'celebr': 1349, 'choos': 1350, 'martin': 1351, 'join': 1352, 'favourit': 1353, 'lord': 1354, 'round': 1355, 'field': 1356, 'tragic': 1357, 'jean': 1358, 'vision': 1359, 'robot': 1360, 'tie': 1361, 'arthur': 1362, 'fortun': 1363, 'roger': 1364, 'random': 1365, 'intern': 1366, 'dread': 1367, 'psycholog': 1368, 'epic': 1369, 'improv': 1370, 'prefer': 1371, 'nonsens': 1372, 'formula': 1373, 'highlight': 1374, 'pleasur': 1375, 'legend': 1376, 'dollar': 1377, '11': 1378, 'tape': 1379, 'object': 1380, 'porn': 1381, 'wide': 1382, 'fox': 1383, 'thin': 1384, 'gorgeou': 1385, 'ugli': 1386, 'buddi': 1387, 'influenc': 1388, 'prepar': 1389, 'ii': 1390, 'nasti': 1391, 'warm': 1392, 'reflect': 1393, 'supposedli': 1394, 'progress': 1395, 'youth': 1396, 'worthi': 1397, 'unusu': 1398, 'latter': 1399, 'length': 1400, 'crash': 1401, 'superior': 1402, 'childhood': 1403, 'shop': 1404, 'seven': 1405, 'theatr': 1406, 'remot': 1407, 'pilot': 1408, 'funniest': 1409, 'disgust': 1410, 'paid': 1411, 'castl': 1412, 'trick': 1413, 'convers': 1414, 'fell': 1415, 'rob': 1416, 'disast': 1417, 'establish': 1418, 'gangster': 1419, 'mine': 1420, 'heaven': 1421, 'suicid': 1422, 'disappear': 1423, 'ident': 1424, 'tend': 1425, 'forgotten': 1426, 'mask': 1427, 'singer': 1428, 'decis': 1429, 'heroin': 1430, 'brian': 1431, 'partner': 1432, 'desert': 1433, 'alan': 1434, 'recogn': 1435, 'p': 1436, 'ms': 1437, 'stuck': 1438, 'thoroughli': 1439, 'sky': 1440, 'replac': 1441, 'accur': 1442, 'market': 1443, 'clue': 1444, 'seemingli': 1445, 'uncl': 1446, 'commentari': 1447, 'danni': 1448, 'eddi': 1449, 'andi': 1450, 'devil': 1451, 'jackson': 1452, 'refus': 1453, 'pair': 1454, 'therefor': 1455, 'that': 1456, 'unit': 1457, 'accid': 1458, 'fate': 1459, 'river': 1460, 'fault': 1461, 'ed': 1462, 'afraid': 1463, 'tune': 1464, 'clean': 1465, 'stephen': 1466, 'russian': 1467, 'hidden': 1468, 'irrit': 1469, 'captain': 1470, 'quick': 1471, 'test': 1472, 'instanc': 1473, 'convey': 1474, 'readi': 1475, 'european': 1476, 'daniel': 1477, 'insan': 1478, 'frustrat': 1479, 'chines': 1480, 'food': 1481, 'wed': 1482, 'rescu': 1483, '1950': 1484, 'angri': 1485, 'lock': 1486, 'dirti': 1487, 'joy': 1488, 'price': 1489, 'steven': 1490, 'cage': 1491, 'bland': 1492, 'anymor': 1493, 'rang': 1494, 'wooden': 1495, 'news': 1496, 'rush': 1497, 'n': 1498, 'jason': 1499, '12': 1500, 'worri': 1501, 'board': 1502, 'martial': 1503, 'twenti': 1504, 'led': 1505, 'symbol': 1506, 'transform': 1507, 'cgi': 1508, 'hunter': 1509, 'piti': 1510, 'sentiment': 1511, 'x': 1512, 'onto': 1513, 'invent': 1514, 'johnni': 1515, 'process': 1516, 'explan': 1517, 'attitud': 1518, 'awar': 1519, 'owner': 1520, 'aim': 1521, 'floor': 1522, 'favor': 1523, 'energi': 1524, 'necessari': 1525, 'target': 1526, 'religi': 1527, 'opposit': 1528, 'window': 1529, 'blind': 1530, 'insight': 1531, 'chick': 1532, 'movement': 1533, 'comparison': 1534, 'possess': 1535, 'deepli': 1536, 'mountain': 1537, 'research': 1538, 'comed': 1539, 'grand': 1540, 'whatsoev': 1541, 'rain': 1542, 'mid': 1543, 'bank': 1544, 'shadow': 1545, 'began': 1546, 'parodi': 1547, 'princ': 1548, 'weapon': 1549, 'credibl': 1550, 'pre': 1551, 'friendship': 1552, 'taylor': 1553, 'dougla': 1554, 'flesh': 1555, 'teach': 1556, 'protect': 1557, 'hint': 1558, 'bloodi': 1559, 'terror': 1560, 'marvel': 1561, 'leader': 1562, 'anybodi': 1563, 'watchabl': 1564, 'accord': 1565, 'superman': 1566, 'drunk': 1567, 'load': 1568, 'freddi': 1569, 'brown': 1570, 'tim': 1571, 'appropri': 1572, 'hitler': 1573, 'jeff': 1574, 'seat': 1575, 'villag': 1576, 'knock': 1577, 'unknown': 1578, 'charg': 1579, 'keaton': 1580, 'media': 1581, 'england': 1582, 'unnecessari': 1583, 'enemi': 1584, 'empti': 1585, 'strength': 1586, 'buck': 1587, 'perspect': 1588, 'wave': 1589, 'utter': 1590, 'dare': 1591, 'craft': 1592, 'contrast': 1593, 'ford': 1594, 'kiss': 1595, 'correct': 1596, 'nativ': 1597, 'soap': 1598, 'distract': 1599, 'speed': 1600, 'anywher': 1601, 'knowledg': 1602, 'nazi': 1603, 'chill': 1604, 'magnific': 1605, '1980': 1606, 'ice': 1607, 'breath': 1608, 'mission': 1609, 'fred': 1610, 'crowd': 1611, 'moon': 1612, 'joan': 1613, 'jr': 1614, 'frighten': 1615, 'kate': 1616, 'soft': 1617, '000': 1618, 'dan': 1619, 'dick': 1620, 'hundr': 1621, 'nick': 1622, 'dozen': 1623, 'simon': 1624, 'somebodi': 1625, 'radio': 1626, 'shakespear': 1627, 'andrew': 1628, 'loss': 1629, 'academi': 1630, 'thousand': 1631, 'root': 1632, 'account': 1633, 'vehicl': 1634, 'sum': 1635, 'quot': 1636, 'behavior': 1637, '1970': 1638, 'convent': 1639, 'leg': 1640, 'regular': 1641, 'gold': 1642, 'pretenti': 1643, 'worker': 1644, 'demand': 1645, 'compet': 1646, 'explos': 1647, 'interpret': 1648, 'privat': 1649, 'candi': 1650, 'japan': 1651, 'stretch': 1652, 'notabl': 1653, 'lynch': 1654, 'debut': 1655, 'constant': 1656, 'tarzan': 1657, 'revolv': 1658, 'prais': 1659, 'spi': 1660, 'sea': 1661, 'translat': 1662, 'jesu': 1663, 'franc': 1664, 'ass': 1665, 'quiet': 1666, 'technolog': 1667, 'failur': 1668, 'sat': 1669, 'threaten': 1670, 'aid': 1671, 'higher': 1672, 'kevin': 1673, 'punch': 1674, 'met': 1675, 'toy': 1676, 'interact': 1677, 'vh': 1678, 'abandon': 1679, 'mike': 1680, 'command': 1681, 'confront': 1682, 'bet': 1683, 'separ': 1684, 'gotten': 1685, 'servic': 1686, 'site': 1687, 'belong': 1688, 'recal': 1689, 'techniqu': 1690, 'stunt': 1691, 'foot': 1692, 'freak': 1693, 'bug': 1694, 'cabl': 1695, 'jimmi': 1696, 'african': 1697, 'capabl': 1698, 'fu': 1699, 'bright': 1700, 'succeed': 1701, 'clark': 1702, 'fat': 1703, 'stock': 1704, 'presid': 1705, 'boat': 1706, 'structur': 1707, 'spanish': 1708, 'gene': 1709, 'kidnap': 1710, 'paper': 1711, 'factor': 1712, 'belief': 1713, 'whilst': 1714, 'educ': 1715, 'realism': 1716, 'tree': 1717, 'realis': 1718, 'complic': 1719, 'witti': 1720, 'attend': 1721, 'bob': 1722, 'assist': 1723, 'finest': 1724, 'santa': 1725, 'broken': 1726, 'determin': 1727, 'smoke': 1728, 'up': 1729, 'depart': 1730, 'v': 1731, 'observ': 1732, 'fame': 1733, 'domin': 1734, 'routin': 1735, 'rubbish': 1736, 'hat': 1737, 'lewi': 1738, 'oper': 1739, 'lone': 1740, 'advanc': 1741, 'morgan': 1742, 'foreign': 1743, 'hook': 1744, 'kinda': 1745, 'safe': 1746, 'rank': 1747, 'numer': 1748, 'washington': 1749, 'shallow': 1750, 'werewolf': 1751, 'shape': 1752, 'civil': 1753, 'vs': 1754, 'rose': 1755, 'gari': 1756, 'morn': 1757, 'ordinari': 1758, 'winner': 1759, 'kong': 1760, 'accomplish': 1761, 'whenev': 1762, 'grab': 1763, 'virtual': 1764, 'peac': 1765, 'luck': 1766, 'offens': 1767, 'h': 1768, 'contriv': 1769, 'bigger': 1770, 'activ': 1771, 'complain': 1772, 'welcom': 1773, 'unfunni': 1774, 'patient': 1775, 'trek': 1776, 'pretend': 1777, 'dimension': 1778, 'con': 1779, 'lesbian': 1780, 'wake': 1781, 'dri': 1782, 'flash': 1783, 'eric': 1784, 'cain': 1785, 'code': 1786, 'manipul': 1787, 'statu': 1788, 'albert': 1789, 'corrupt': 1790, 'dancer': 1791, 'guard': 1792, 'context': 1793, 'signific': 1794, 'sourc': 1795, 'speech': 1796, 'gain': 1797, 'awkward': 1798, '13': 1799, 'psycho': 1800, 'anthoni': 1801, 'corni': 1802, 'clip': 1803, 'sean': 1804, 'theatric': 1805, 'curiou': 1806, 'advic': 1807, 'priest': 1808, 'religion': 1809, 'reli': 1810, 'w': 1811, 'flow': 1812, 'addict': 1813, 'specif': 1814, 'jennif': 1815, 'howard': 1816, 'skin': 1817, 'asian': 1818, 'secur': 1819, 'organ': 1820, 'golden': 1821, 'comfort': 1822, 'core': 1823, 'promot': 1824, 'luke': 1825, 'lucki': 1826, 'cheat': 1827, 'cash': 1828, 'associ': 1829, 'dislik': 1830, 'lower': 1831, 'contribut': 1832, 'spell': 1833, 'degre': 1834, 'frequent': 1835, 'regret': 1836, 'frankli': 1837, 'balanc': 1838, 'wing': 1839, 'devic': 1840, 'forgiv': 1841, 'print': 1842, 'sake': 1843, 'lake': 1844, 'betti': 1845, 'mass': 1846, 'thoma': 1847, 'unexpect': 1848, 'crack': 1849, 'gordon': 1850, 'amateur': 1851, 'categori': 1852, 'invit': 1853, 'grown': 1854, 'construct': 1855, 'depend': 1856, 'unfold': 1857, 'honor': 1858, 'walter': 1859, 'condit': 1860, 'matur': 1861, 'grew': 1862, 'anna': 1863, 'intellectu': 1864, 'sole': 1865, 'veteran': 1866, 'spectacular': 1867, 'mirror': 1868, 'sudden': 1869, 'freedom': 1870, 'card': 1871, 'gift': 1872, 'meanwhil': 1873, 'experienc': 1874, 'demonstr': 1875, 'grip': 1876, 'liner': 1877, 'overli': 1878, 'robin': 1879, 'crappi': 1880, 'brilliantli': 1881, 'sheriff': 1882, 'colour': 1883, 'circumst': 1884, 'subtitl': 1885, 'oliv': 1886, 'drew': 1887, 'unabl': 1888, 'theori': 1889, 'section': 1890, 'path': 1891, 'laughter': 1892, 'cook': 1893, 'sheer': 1894, 'altern': 1895, 'pile': 1896, 'parker': 1897, 'matt': 1898, 'wander': 1899, 'relief': 1900, 'hall': 1901, 'lawyer': 1902, 'defin': 1903, 'accident': 1904, 'sinatra': 1905, 'treatment': 1906, 'dragon': 1907, 'captiv': 1908, 'hank': 1909, 'moor': 1910, 'gratuit': 1911, 'halloween': 1912, 'wound': 1913, 'cowboy': 1914, 'kung': 1915, 'wayn': 1916, 'unintent': 1917, 'k': 1918, 'barbara': 1919, 'jacki': 1920, 'broadway': 1921, 'surreal': 1922, 'winter': 1923, 'canadian': 1924, 'statement': 1925, 'spoof': 1926, 'compos': 1927, 'fish': 1928, 'gonna': 1929, 'cheer': 1930, 'treasur': 1931, 'fare': 1932, 'unrealist': 1933, 'sensit': 1934, 'woodi': 1935, 'victor': 1936, 'emerg': 1937, 'neighbor': 1938, 'sympathet': 1939, 'driven': 1940, 'ran': 1941, 'topic': 1942, 'authent': 1943, 'glass': 1944, 'menac': 1945, 'overlook': 1946, 'expos': 1947, 'handsom': 1948, 'ancient': 1949, 'chief': 1950, 'michel': 1951, 'gross': 1952, 'pleasant': 1953, 'network': 1954, 'cinderella': 1955, 'russel': 1956, 'contemporari': 1957, 'built': 1958, 'stranger': 1959, 'comedian': 1960, 'nevertheless': 1961, 'feet': 1962, 'underr': 1963, 'earn': 1964, 'letter': 1965, 'gori': 1966, 'endless': 1967, 'blockbust': 1968, 'miser': 1969, 'consider': 1970, 'solv': 1971, 'switch': 1972, 'brook': 1973, 'bullet': 1974, 'joseph': 1975, 'convict': 1976, 'victoria': 1977, 'edward': 1978, 'virgin': 1979, 'scale': 1980, 'alex': 1981, 'chosen': 1982, 'cynic': 1983, 'scenario': 1984, '0': 1985, 'curs': 1986, 'sword': 1987, 'com': 1988, 'gut': 1989, 'outrag': 1990, 'proper': 1991, 'monkey': 1992, 'juli': 1993, 'substanc': 1994, 'wrap': 1995, 'uk': 1996, 'driver': 1997, 'screenwrit': 1998, 'indic': 1999, 'court': 2000, 'bird': 2001, 'remov': 2002, 'par': 2003, 'roy': 2004, 'advertis': 2005, 'consequ': 2006, 'inevit': 2007, 'grave': 2008, 'rental': 2009, 'loser': 2010, 'nanci': 2011, 'naiv': 2012, 'invis': 2013, 'le': 2014, 'fatal': 2015, 'germani': 2016, 'slap': 2017, 'brave': 2018, 'bridg': 2019, 'anger': 2020, 'loui': 2021, 'provok': 2022, 'ador': 2023, 'footbal': 2024, 'alcohol': 2025, 'anderson': 2026, 'chan': 2027, 'stumbl': 2028, 'willi': 2029, 'ryan': 2030, 'professor': 2031, 'patrick': 2032, 'assassin': 2033, 'australian': 2034, '1930': 2035, 'sharp': 2036, 'bat': 2037, 'cell': 2038, 'trilog': 2039, 'strongli': 2040, 'heck': 2041, 'deni': 2042, 'eight': 2043, 'amateurish': 2044, 'refresh': 2045, 'lousi': 2046, 'saturday': 2047, 'ape': 2048, 'liber': 2049, 'sin': 2050, 'vagu': 2051, 'san': 2052, 'justifi': 2053, 'resid': 2054, 'creator': 2055, 'sympathi': 2056, 'defeat': 2057, 'terrifi': 2058, 'reput': 2059, 'indi': 2060, 'mini': 2061, 'tabl': 2062, 'expert': 2063, 'endur': 2064, 'task': 2065, 'prevent': 2066, 'tediou': 2067, 'offend': 2068, 'rival': 2069, 'imit': 2070, 'trial': 2071, 'basebal': 2072, 'employ': 2073, 'che': 2074, 'pitch': 2075, 'weekend': 2076, 'max': 2077, 'complaint': 2078, 'fairi': 2079, 'dig': 2080, 'beach': 2081, 'europ': 2082, 'purchas': 2083, 'format': 2084, 'murphi': 2085, 'risk': 2086, 'reminisc': 2087, 'harsh': 2088, 'glimps': 2089, 'tini': 2090, 'hype': 2091, 'bite': 2092, 'powel': 2093, 'titan': 2094, 'nois': 2095, 'north': 2096, 'prime': 2097, 'asleep': 2098, 'till': 2099, 'fals': 2100, 'strip': 2101, '14': 2102, 'revel': 2103, 'texa': 2104, 'destruct': 2105, 'descript': 2106, 'africa': 2107, 'spin': 2108, 'arrest': 2109, 'semi': 2110, 'surfac': 2111, 'uninterest': 2112, 'excess': 2113, 'inner': 2114, 'sitcom': 2115, 'massiv': 2116, 'maintain': 2117, 'argu': 2118, 'controversi': 2119, 'makeup': 2120, 'dinosaur': 2121, 'hitchcock': 2122, 'twin': 2123, 'reject': 2124, 'kim': 2125, 'ludicr': 2126, 'ideal': 2127, 'expens': 2128, 'stare': 2129, 'melodrama': 2130, 'insist': 2131, 'subplot': 2132, 'host': 2133, 'press': 2134, 'ala': 2135, 'forest': 2136, 'atroci': 2137, 'supernatur': 2138, 'columbo': 2139, 'ga': 2140, 'nail': 2141, 'erot': 2142, 'notch': 2143, 'cant': 2144, 'identifi': 2145, 'presum': 2146, 'dude': 2147, 'guest': 2148, 'plagu': 2149, 'closer': 2150, 'crude': 2151, 'method': 2152, 'forgett': 2153, 'character': 2154, 'border': 2155, 'ear': 2156, 'princess': 2157, 'landscap': 2158, 'foster': 2159, 'beast': 2160, 'lion': 2161, 'birth': 2162, 'storytel': 2163, 'aunt': 2164, 'previous': 2165, 'pacino': 2166, 'damag': 2167, 'jungl': 2168, 'urban': 2169, 'accus': 2170, 'bound': 2171, 'thirti': 2172, 'propaganda': 2173, 'nude': 2174, 'emma': 2175, 'jess': 2176, 'guid': 2177, 'chose': 2178, 'doll': 2179, 'mainstream': 2180, 'warrior': 2181, '25': 2182, 'whoever': 2183, 'pet': 2184, 'mate': 2185, 'exact': 2186, 'upset': 2187, 'gritti': 2188, 'merit': 2189, 'poster': 2190, 'deadli': 2191, 'cooper': 2192, 'size': 2193, 'latest': 2194, 'friday': 2195, 'rough': 2196, 'settl': 2197, 'corps': 2198, '1990': 2199, 'citizen': 2200, 'blend': 2201, 'warner': 2202, 'contact': 2203, 'popul': 2204, 'contest': 2205, 'wilson': 2206, 'buff': 2207, 'ton': 2208, 'sun': 2209, 'overcom': 2210, 'metal': 2211, 'widow': 2212, 'environ': 2213, 'alic': 2214, 'pitt': 2215, 'select': 2216, 'bu': 2217, 'rat': 2218, 'mgm': 2219, 'revolut': 2220, 'link': 2221, 'particip': 2222, 'ted': 2223, 'lift': 2224, 'guilti': 2225, 'corpor': 2226, 'prostitut': 2227, '1960': 2228, 'matrix': 2229, 'exagger': 2230, 'corner': 2231, 'afternoon': 2232, 'johnson': 2233, 'accompani': 2234, 'moron': 2235, 'holm': 2236, 'doom': 2237, 'multipl': 2238, 'sincer': 2239, 'friendli': 2240, 'clair': 2241, 'leagu': 2242, 'instal': 2243, 'hood': 2244, 'advis': 2245, 'lugosi': 2246, 'string': 2247, 'aka': 2248, 'sunday': 2249, 'blah': 2250, 'junk': 2251, 'irish': 2252, 'campi': 2253, 'grim': 2254, 'defend': 2255, 'hip': 2256, 'examin': 2257, 'pro': 2258, 'confid': 2259, 'shake': 2260, 'rachel': 2261, 'varieti': 2262, 'tight': 2263, 'shut': 2264, 'icon': 2265, 'mexican': 2266, 'directli': 2267, 'sullivan': 2268, 'denni': 2269, 'jaw': 2270, 'goal': 2271, 'attach': 2272, 'medic': 2273, 'sentenc': 2274, 'terrorist': 2275, 'duke': 2276, 'truck': 2277, 'legendari': 2278, 'dean': 2279, 'courag': 2280, 'vietnam': 2281, 'breast': 2282, 'sarah': 2283, 'prior': 2284, 'bourn': 2285, 'split': 2286, 'un': 2287, 'behav': 2288, 'nose': 2289, 'entri': 2290, 'yell': 2291, 'donald': 2292, 'hong': 2293, 'proceed': 2294, 'confess': 2295, 'borrow': 2296, 'unconvinc': 2297, 'buri': 2298, 'concentr': 2299, 'crush': 2300, 'jerk': 2301, 'lifetim': 2302, 'gather': 2303, 'swim': 2304, 'forth': 2305, 'everywher': 2306, 'stolen': 2307, 'california': 2308, 'deliveri': 2309, 'lip': 2310, 'turkey': 2311, 'pan': 2312, 'julia': 2313, 'spite': 2314, 'china': 2315, 'quest': 2316, 'freeman': 2317, 'hoffman': 2318, 'downright': 2319, 'flight': 2320, 'reward': 2321, 'proud': 2322, 'offici': 2323, 'inept': 2324, 'fabul': 2325, 'fade': 2326, 'lazi': 2327, 'notori': 2328, 'jon': 2329, 'sink': 2330, 'jail': 2331, 'worthwhil': 2332, 'betray': 2333, 'sir': 2334, 'encourag': 2335, 'shower': 2336, 'retard': 2337, 'bag': 2338, 'storm': 2339, 'bell': 2340, 'imageri': 2341, 'survivor': 2342, 'relev': 2343, 'lisa': 2344, 'teeth': 2345, 'cousin': 2346, 'susan': 2347, 'branagh': 2348, 'summari': 2349, 'bride': 2350, 'trade': 2351, 'mexico': 2352, 'quirki': 2353, 'hugh': 2354, 'stab': 2355, 'alright': 2356, 'tremend': 2357, 'facial': 2358, 'shark': 2359, 'toler': 2360, 'finger': 2361, 'pose': 2362, 'bitter': 2363, 'ha': 2364, 'blown': 2365, 'hyster': 2366, 'von': 2367, 'christ': 2368, 'afterward': 2369, 'scheme': 2370, 'larri': 2371, 'address': 2372, 'ron': 2373, 'bone': 2374, 'cruel': 2375, 'ned': 2376, 'thumb': 2377, 'pursu': 2378, 'swear': 2379, 'tour': 2380, 'screw': 2381, 'beg': 2382, 'snake': 2383, 'feed': 2384, 'distinct': 2385, 'traci': 2386, 'chair': 2387, 'photo': 2388, 'occas': 2389, 'raw': 2390, 'mechan': 2391, 'stomach': 2392, 'obscur': 2393, 'resist': 2394, 'render': 2395, 'argument': 2396, 'hardi': 2397, 'gruesom': 2398, 'sidney': 2399, 'southern': 2400, 'chain': 2401, 'cabin': 2402, 'necessarili': 2403, 'heavili': 2404, 'holiday': 2405, 'indulg': 2406, 'satan': 2407, 'racist': 2408, 'understood': 2409, 'india': 2410, 'philip': 2411, 'lay': 2412, 'stalk': 2413, 'tongu': 2414, 'integr': 2415, 'outfit': 2416, 'midnight': 2417, 'fourth': 2418, 'belov': 2419, 'pregnant': 2420, 'forgot': 2421, 'obnoxi': 2422, 'deeper': 2423, 'restor': 2424, 'magazin': 2425, 'ticket': 2426, 'inhabit': 2427, '17': 2428, 'slapstick': 2429, 'garden': 2430, 'carol': 2431, 'brad': 2432, 'devot': 2433, 'incid': 2434, 'shoe': 2435, 'lincoln': 2436, 'anticip': 2437, 'elizabeth': 2438, 'divorc': 2439, 'disbelief': 2440, 'underground': 2441, 'benefit': 2442, 'guarante': 2443, 'maria': 2444, 'lili': 2445, 'sandler': 2446, 'slave': 2447, 'creation': 2448, 'greater': 2449, 'amazingli': 2450, 'princip': 2451, 'explod': 2452, 'capit': 2453, 'cring': 2454, 'bbc': 2455, 'mildli': 2456, 'lesli': 2457, 'halfway': 2458, 'introduct': 2459, 'extraordinari': 2460, 'funnier': 2461, 'enhanc': 2462, 'transfer': 2463, 'extent': 2464, 'overwhelm': 2465, 'text': 2466, 'punish': 2467, 'tap': 2468, 'advantag': 2469, 'wreck': 2470, 'plant': 2471, 'lo': 2472, 'jessica': 2473, 'lane': 2474, 'horrif': 2475, 'dynam': 2476, 'east': 2477, 'error': 2478, 'preview': 2479, 'deliber': 2480, 'ensu': 2481, 'basi': 2482, 'appli': 2483, '2000': 2484, 'miller': 2485, 'homosexu': 2486, 'vincent': 2487, 'sophist': 2488, 'miscast': 2489, 'vacat': 2490, 'uncomfort': 2491, 'sleazi': 2492, 'spoken': 2493, 'via': 2494, 'extend': 2495, 'reed': 2496, 'steel': 2497, 'elev': 2498, 'mansion': 2499, 'measur': 2500, 'bollywood': 2501, 'cathol': 2502, 'goofi': 2503, 'melt': 2504, 'breathtak': 2505, 'overact': 2506, 'fix': 2507, 'alter': 2508, 'assign': 2509, 'savag': 2510, 'daili': 2511, 'stanley': 2512, 'blair': 2513, 'mous': 2514, 'beer': 2515, 'hippi': 2516, 'conceiv': 2517, 'dentist': 2518, 'nowaday': 2519, 'everyday': 2520, 'subsequ': 2521, 'sacrific': 2522, 'inspector': 2523, 'properli': 2524, 'succe': 2525, 'oppos': 2526, 'carpent': 2527, 'burt': 2528, 'circl': 2529, 'block': 2530, 'neck': 2531, 'massacr': 2532, 'laura': 2533, 'mob': 2534, 'portrait': 2535, 'concert': 2536, 'seagal': 2537, 'lesser': 2538, 'christi': 2539, 'fay': 2540, 'pool': 2541, 'grey': 2542, 'fallen': 2543, 'access': 2544, 'relax': 2545, 'react': 2546, 'jake': 2547, 'jewish': 2548, 'competit': 2549, 'chees': 2550, 'usa': 2551, 'sinist': 2552, 'isol': 2553, 'nine': 2554, '2006': 2555, 'stink': 2556, 'chop': 2557, 'suitabl': 2558, 'creep': 2559, 'ironi': 2560, 'nonetheless': 2561, 'immens': 2562, 'spiritu': 2563, 'lyric': 2564, 'appal': 2565, 'needless': 2566, 'nut': 2567, 'shirt': 2568, 'navi': 2569, 'user': 2570, 'rage': 2571, 'reduc': 2572, 'adopt': 2573, 'showcas': 2574, 'luci': 2575, 'retir': 2576, 'franchis': 2577, 'sold': 2578, 'spring': 2579, 'digit': 2580, 'per': 2581, 'bath': 2582, 'asham': 2583, 'bulli': 2584, 'uninspir': 2585, 'nurs': 2586, 'zone': 2587, 'stanwyck': 2588, 'jay': 2589, '1940': 2590, '2001': 2591, 'broadcast': 2592, 'oddli': 2593, 'upper': 2594, 'laid': 2595, 'sutherland': 2596, 'illustr': 2597, 'amongst': 2598, 'baker': 2599, 'disguis': 2600, 'brando': 2601, 'fulfil': 2602, 'aspir': 2603, 'throat': 2604, 'stylish': 2605, 'impli': 2606, '18': 2607, 'nobl': 2608, 'pound': 2609, 'wwii': 2610, 'em': 2611, 'endear': 2612, 'pride': 2613, 'thief': 2614, 'neighborhood': 2615, 'wanna': 2616, 'diseas': 2617, 'prop': 2618, 'shift': 2619, 'albeit': 2620, 'bett': 2621, 'cinematograph': 2622, 'distribut': 2623, '16': 2624, 'bo': 2625, 'tens': 2626, 'dawn': 2627, 'dinner': 2628, 'coher': 2629, 'rochest': 2630, 'shoulder': 2631, 'wash': 2632, 'function': 2633, 'snow': 2634, 'poignant': 2635, 'silenc': 2636, 'contract': 2637, 'knife': 2638, 'surf': 2639, 'shout': 2640, 'forti': 2641, 'matthau': 2642, 'rebel': 2643, 'internet': 2644, 'eeri': 2645, 'silver': 2646, 'henc': 2647, 'horrend': 2648, 'proof': 2649, 'chuck': 2650, 'cancel': 2651, 'instinct': 2652, 'cannib': 2653, 'height': 2654, 'heat': 2655, 'reunion': 2656, 'duti': 2657, 'widmark': 2658, 'elvira': 2659, 'mindless': 2660, 'derek': 2661, 'neat': 2662, 'alik': 2663, 'absorb': 2664, 'pie': 2665, 'musician': 2666, 'premier': 2667, 'spielberg': 2668, 'repetit': 2669, 'glori': 2670, 'torn': 2671, 'mill': 2672, 'incoher': 2673, 'greatli': 2674, 'etern': 2675, 'elvi': 2676, 'innov': 2677, 'lovabl': 2678, 'crisi': 2679, 'redempt': 2680, 'announc': 2681, 'burton': 2682, 'infam': 2683, 'racism': 2684, 'horrifi': 2685, 'precis': 2686, 'diamond': 2687, 'trite': 2688, 'itali': 2689, 'fbi': 2690, 'homag': 2691, 'britain': 2692, 'blank': 2693, 'bang': 2694, 'wealthi': 2695, 'nelson': 2696, 'chaplin': 2697, 'dedic': 2698, 'streisand': 2699, 'hammer': 2700, 'ensembl': 2701, 'resolut': 2702, 'wilder': 2703, 'helen': 2704, 'happili': 2705, 'pat': 2706, 'flop': 2707, 'parallel': 2708, 'oil': 2709, 'triumph': 2710, 'broke': 2711, 'mar': 2712, 'plastic': 2713, 'conclud': 2714, 'factori': 2715, 'disagre': 2716, 'carter': 2717, 'st': 2718, 'cube': 2719, 'own': 2720, 'vega': 2721, 'climb': 2722, 'bush': 2723, 'row': 2724, 'march': 2725, 'chuckl': 2726, 'fighter': 2727, 'weight': 2728, 'rocket': 2729, 'thug': 2730, 'spare': 2731, 'meaning': 2732, 'sensibl': 2733, 'boot': 2734, 'wherea': 2735, 'dump': 2736, 'kurt': 2737, 'unforgett': 2738, 'dane': 2739, 'mst3k': 2740, 'enorm': 2741, 'luca': 2742, 'lust': 2743, 'arnold': 2744, 'stress': 2745, 'bobbi': 2746, 'fifti': 2747, 'brand': 2748, 'adequ': 2749, 'dear': 2750, 'butt': 2751, 'caricatur': 2752, 'difficulti': 2753, 'rap': 2754, 'threat': 2755, 'engin': 2756, 'karloff': 2757, 'polish': 2758, 'ralph': 2759, 'homeless': 2760, 'swing': 2761, 'ego': 2762, 'journalist': 2763, 'elabor': 2764, 'fest': 2765, 'arrog': 2766, 'barri': 2767, 'flynn': 2768, 'hamlet': 2769, 'secretari': 2770, 'induc': 2771, 'conspiraci': 2772, 'spike': 2773, 'grate': 2774, 'resort': 2775, 'float': 2776, 'fanci': 2777, 'arrang': 2778, 'puppet': 2779, 'unbear': 2780, 'tool': 2781, 'simpson': 2782, 'choreograph': 2783, 'exercis': 2784, 'boll': 2785, 'pig': 2786, 'phillip': 2787, 'cruis': 2788, 'muppet': 2789, 'guilt': 2790, 'tribut': 2791, 'basement': 2792, 'puzzl': 2793, 'toilet': 2794, 'item': 2795, 'document': 2796, 'fianc': 2797, 'editor': 2798, 'medium': 2799, 'tower': 2800, 'file': 2801, 'layer': 2802, 'stan': 2803, 'ward': 2804, 'korean': 2805, 'slip': 2806, 'babe': 2807, 'scarecrow': 2808, '24': 2809, 'ham': 2810, 'larger': 2811, 'superfici': 2812, 'denzel': 2813, 'philosoph': 2814, 'slaughter': 2815, 'portion': 2816, 'spark': 2817, 'inexplic': 2818, 'persona': 2819, 'orient': 2820, 'assur': 2821, 'catherin': 2822, 'librari': 2823, 'territori': 2824, 'doc': 2825, 'glover': 2826, 'transit': 2827, 'minim': 2828, 'boredom': 2829, 'walken': 2830, 'wolf': 2831, 'pg': 2832, 'financi': 2833, 'owe': 2834, 'jeremi': 2835, 'ban': 2836, 'shi': 2837, 'sneak': 2838, 'dorothi': 2839, 'jet': 2840, 'curti': 2841, 'metaphor': 2842, 'multi': 2843, 'backdrop': 2844, 'ambigu': 2845, 'cusack': 2846, 'profound': 2847, 'eleph': 2848, 'hudson': 2849, 'whale': 2850, 'elsewher': 2851, 'union': 2852, 'implaus': 2853, 'stiff': 2854, 'ultra': 2855, 'viru': 2856, '2005': 2857, 'birthday': 2858, 'rave': 2859, 'notion': 2860, 'gadget': 2861, 'hack': 2862, 'squar': 2863, 'reader': 2864, 'newspap': 2865, 'hawk': 2866, 'urg': 2867, 'poison': 2868, 'pad': 2869, 'eastwood': 2870, 'afford': 2871, '1st': 2872, 'canada': 2873, 'disc': 2874, 'lloyd': 2875, 'distanc': 2876, 'superhero': 2877, 'bibl': 2878, 'slight': 2879, 'eva': 2880, 'deriv': 2881, 'essenc': 2882, 'sadist': 2883, 'health': 2884, 'montag': 2885, 'heston': 2886, 'spread': 2887, 'charisma': 2888, 'drown': 2889, 'restaur': 2890, 'cure': 2891, 'skit': 2892, 'button': 2893, 'huh': 2894, 'dealt': 2895, 'godfath': 2896, 'invest': 2897, 'fetch': 2898, 'companion': 2899, 'lab': 2900, 'maniac': 2901, 'gradual': 2902, 'estat': 2903, 'peak': 2904, 'muslim': 2905, 'scoobi': 2906, 'gothic': 2907, 'kane': 2908, 'cup': 2909, 'servant': 2910, 'tea': 2911, 'countless': 2912, 'subtleti': 2913, 'alli': 2914, 'miik': 2915, 'ritter': 2916, 'salli': 2917, 'charismat': 2918, 'electr': 2919, 'heroic': 2920, 'iii': 2921, 'briefli': 2922, 'elect': 2923, 'tender': 2924, 'reel': 2925, 'nuanc': 2926, 'bud': 2927, 'wannab': 2928, 'resourc': 2929, 'toss': 2930, 'ingredi': 2931, 'admittedli': 2932, 'neil': 2933, 'cole': 2934, 'grandmoth': 2935, 'pit': 2936, 'dawson': 2937, 'carrey': 2938, 'mafia': 2939, 'gate': 2940, 'stronger': 2941, 'punk': 2942, 'kubrick': 2943, 'pauli': 2944, 'stood': 2945, 'poverti': 2946, 'label': 2947, 'shall': 2948, 'mild': 2949, 'reev': 2950, 'cox': 2951, 'bakshi': 2952, 'ian': 2953, 'smooth': 2954, 'terri': 2955, 'assault': 2956, 'smash': 2957, 'outcom': 2958, 'burst': 2959, 'easier': 2960, 'tag': 2961, 'updat': 2962, 'useless': 2963, 'astair': 2964, 'cardboard': 2965, 'fond': 2966, 'resolv': 2967, 'increasingli': 2968, 'vulner': 2969, 'exchang': 2970, 'melodramat': 2971, 'qualifi': 2972, 'samurai': 2973, '2002': 2974, 'divers': 2975, 'sketch': 2976, 'fist': 2977, 'rex': 2978, 'vari': 2979, 'coincid': 2980, 'luckili': 2981, 'conveni': 2982, 'blast': 2983, 'suspend': 2984, 'be': 2985, 'insert': 2986, 'tame': 2987, 'scratch': 2988, 'brillianc': 2989, 'templ': 2990, 'reynold': 2991, 'strictli': 2992, 'coach': 2993, 'pin': 2994, 'farm': 2995, 'meat': 2996, 'fisher': 2997, 'seventi': 2998, 'matthew': 2999, 'gotta': 3000, 'hamilton': 3001, 'walker': 3002, 'jami': 3003, 'nuclear': 3004, 'ambiti': 3005, 'soprano': 3006, 'convolut': 3007, 'grasp': 3008, 'butcher': 3009, 'discoveri': 3010, 'monk': 3011, 'revers': 3012, 'recreat': 3013, 'empir': 3014, 'cave': 3015, 'brosnan': 3016, 'spooki': 3017, 'closet': 3018, 'timeless': 3019, 'worthless': 3020, 'clock': 3021, 'joey': 3022, 'eccentr': 3023, 'instantli': 3024, 'struck': 3025, 'kudo': 3026, 'ninja': 3027, 'cliff': 3028, 'miracl': 3029, 'eighti': 3030, 'selfish': 3031, 'evok': 3032, 'partli': 3033, 'norman': 3034, 'seller': 3035, 'mitchel': 3036, 'wipe': 3037, 'bleak': 3038, 'gray': 3039, 'inconsist': 3040, 'clown': 3041, 'declar': 3042, 'sidekick': 3043, 'pal': 3044, 'importantli': 3045, 'communist': 3046, 'sloppi': 3047, 'fifteen': 3048, '45': 3049, 'superbl': 3050, 'piano': 3051, 'websit': 3052, 'flawless': 3053, 'chew': 3054, 'seed': 3055, 'psychiatrist': 3056, 'enthusiast': 3057, 'debat': 3058, 'stoog': 3059, 'lifestyl': 3060, 'ho': 3061, 'farc': 3062, 'australia': 3063, 'cheek': 3064, 'destin': 3065, 'aforement': 3066, 'akshay': 3067, 'directori': 3068, 'regardless': 3069, 'bash': 3070, 'anni': 3071, 'kitchen': 3072, 'incompet': 3073, 'wrestl': 3074, 'dire': 3075, 'abc': 3076, 'splatter': 3077, 'wick': 3078, 'pressur': 3079, 'dash': 3080, 'emili': 3081, 'soviet': 3082, 'drivel': 3083, 'slice': 3084, 'helicopt': 3085, 'increas': 3086, 'curios': 3087, 'judi': 3088, 'doo': 3089, 'pleasantli': 3090, 'cameron': 3091, 'distant': 3092, 'artifici': 3093, 'glow': 3094, 'duo': 3095, 'beaten': 3096, 'blob': 3097, 'jar': 3098, 'chapter': 3099, 'ken': 3100, 'mann': 3101, 'cia': 3102, 'recov': 3103, 'suppli': 3104, 'flower': 3105, 'prize': 3106, 'boil': 3107, 'lou': 3108, 'dave': 3109, 'cagney': 3110, 'seduc': 3111, 'laurel': 3112, 'ranger': 3113, 'goldberg': 3114, 'francisco': 3115, 'perri': 3116, 'web': 3117, 'turner': 3118, 'panic': 3119, 'psychot': 3120, 'favour': 3121, 'hop': 3122, 'combat': 3123, 'eleg': 3124, 'glenn': 3125, 'craig': 3126, 'splendid': 3127, 'ellen': 3128, 'drunken': 3129, 'craven': 3130, 'slightest': 3131, 'wizard': 3132, 'alexand': 3133, 'min': 3134, 'greek': 3135, 'gentl': 3136, 'plausibl': 3137, 'gandhi': 3138, 'flip': 3139, 'fx': 3140, 'graduat': 3141, 'modesti': 3142, 'rid': 3143, 'hatr': 3144, 'shortli': 3145, '20th': 3146, 'philosophi': 3147, 'falk': 3148, 'ruth': 3149, 'tall': 3150, 'manhattan': 3151, 'fund': 3152, 'futurist': 3153, 'preciou': 3154, 'lend': 3155, 'jealou': 3156, 'dracula': 3157, 'holi': 3158, 'knight': 3159, 'unpleas': 3160, 'felix': 3161, 'harm': 3162, 'ocean': 3163, 'legal': 3164, 'we': 3165, 'reviv': 3166, 'digniti': 3167, 'mock': 3168, 'bless': 3169, 'thread': 3170, 'explicit': 3171, 'nod': 3172, 'childish': 3173, 'scientif': 3174, 'overdon': 3175, 'ami': 3176, 'tank': 3177, 'giallo': 3178, 'forbidden': 3179, 'torment': 3180, 'elderli': 3181, 'eve': 3182, 'awe': 3183, 'yesterday': 3184, '2004': 3185, 'broad': 3186, 'mel': 3187, 'thick': 3188, 'fever': 3189, 'verhoeven': 3190, 'awaken': 3191, 'nerv': 3192, 'unwatch': 3193, 'pirat': 3194, 'repeatedli': 3195, '99': 3196, 'margaret': 3197, 'launch': 3198, 'rivet': 3199, 'roman': 3200, 'publish': 3201, 'acclaim': 3202, 'ambit': 3203, 'uniform': 3204, 'automat': 3205, 'politician': 3206, 'custom': 3207, 'royal': 3208, 'ah': 3209, 'eas': 3210, 'bin': 3211, 'timothi': 3212, 'romero': 3213, 'kay': 3214, 'lean': 3215, 'griffith': 3216, 'stiller': 3217, 'absenc': 3218, 'termin': 3219, 'gabriel': 3220, 'antic': 3221, 'phrase': 3222, 'darker': 3223, 'pierc': 3224, 'foul': 3225, 'sunshin': 3226, 'stinker': 3227, 'transport': 3228, 'pulp': 3229, 'tomato': 3230, 'bathroom': 3231, 'warren': 3232, 'purpl': 3233, 'crook': 3234, 'homicid': 3235, 'wallac': 3236, 'pray': 3237, 'horrid': 3238, 'ought': 3239, 'choreographi': 3240, 'karen': 3241, 'li': 3242, 'marin': 3243, 'brazil': 3244, '2003': 3245, 'packag': 3246, 'contrari': 3247, 'album': 3248, 'awak': 3249, 'hollow': 3250, 'kenneth': 3251, 'coloni': 3252, 'viciou': 3253, 'eyr': 3254, 'q': 3255, 'evolv': 3256, 'rambo': 3257, 'sixti': 3258, 'donna': 3259, 'juvenil': 3260, 'revolutionari': 3261, 'saint': 3262, 'prom': 3263, 'overr': 3264, 'boast': 3265, 'candid': 3266, 'twelv': 3267, 'option': 3268, 'ireland': 3269, 'defi': 3270, 'blade': 3271, 'conserv': 3272, 'stole': 3273, 'beatti': 3274, 'kapoor': 3275, 'dose': 3276, 'nerd': 3277, 'ramon': 3278, 'mummi': 3279, 'mildr': 3280, 'fulci': 3281, 'protest': 3282, 'confirm': 3283, 'jazz': 3284, 'natali': 3285, 'kirk': 3286, 'trio': 3287, 'global': 3288, 'astonish': 3289, 'funer': 3290, 'altman': 3291, 'collabor': 3292, 'detract': 3293, 'flame': 3294, 'leap': 3295, 'enterpris': 3296, 'nicholson': 3297, 'bull': 3298, 'whip': 3299, 'destini': 3300, 'yellow': 3301, 'racial': 3302, 'mystic': 3303, 'blake': 3304, 'shade': 3305, 'spit': 3306, 'audio': 3307, 'bottl': 3308, 'delici': 3309, 'tommi': 3310, 'pseudo': 3311, 'inherit': 3312, 'fonda': 3313, 'staff': 3314, 'neo': 3315, 'enchant': 3316, 'adolesc': 3317, 'merci': 3318, 'meaningless': 3319, 'threw': 3320, 'bedroom': 3321, 'harder': 3322, 'popcorn': 3323, 'visibl': 3324, 'reunit': 3325, 'vivid': 3326, 'altogeth': 3327, 'swedish': 3328, 'todd': 3329, 'leonard': 3330, 'reserv': 3331, 'lemmon': 3332, 'bust': 3333, 'suspici': 3334, 'tip': 3335, 'await': 3336, 'respond': 3337, 'ruthless': 3338, 'fanat': 3339, 'exhibit': 3340, 'jew': 3341, 'synopsi': 3342, 'atlanti': 3343, 'decor': 3344, 'moodi': 3345, 'uneven': 3346, 'wire': 3347, 'befriend': 3348, 'kennedi': 3349, 'lawrenc': 3350, 'madonna': 3351, 'roommat': 3352, 'edi': 3353, 'voight': 3354, 'crocodil': 3355, 'garner': 3356, 'carl': 3357, 'bradi': 3358, 'clint': 3359, '2007': 3360, 'voyag': 3361, 'ventur': 3362, 'bargain': 3363, 'bold': 3364, 'unsettl': 3365, 'dimens': 3366, 'holli': 3367, 'incident': 3368, 'audit': 3369, 'abysm': 3370, 'clumsi': 3371, 'rural': 3372, 'palma': 3373, 'centr': 3374, 'chao': 3375, 'humili': 3376, 'wealth': 3377, 'poetic': 3378, 'lit': 3379, 'immigr': 3380, 'neglect': 3381, 'troop': 3382, 'trail': 3383, 'mall': 3384, 'characterist': 3385, 'cuba': 3386, 'versu': 3387, 'daddi': 3388, 'ant': 3389, 'nearbi': 3390, 'imperson': 3391, 'echo': 3392, 'acknowledg': 3393, 'timon': 3394, 'elimin': 3395, '2nd': 3396, 'cari': 3397, 'tiger': 3398, 'cd': 3399, 'hart': 3400, 'pun': 3401, 'collaps': 3402, 'repuls': 3403, 'solo': 3404, 'mickey': 3405, 'celluloid': 3406, 'infect': 3407, 'paus': 3408, 'saga': 3409, 'prejudic': 3410, 'jeffrey': 3411, 'domest': 3412, 'homer': 3413, 'marshal': 3414, 'mistaken': 3415, 'sore': 3416, 'gear': 3417, 'hbo': 3418, 'pant': 3419, 'coffe': 3420, 'coat': 3421, 'leon': 3422, 'assembl': 3423, 'tribe': 3424, 'promin': 3425, 'interrupt': 3426, 'milk': 3427, 'chest': 3428, 'ginger': 3429, 'equip': 3430, '1996': 3431, 'cake': 3432, 'inan': 3433, 'apolog': 3434, 'inappropri': 3435, 'harvey': 3436, 'undoubtedli': 3437, 'olivi': 3438, 'trace': 3439, 'colleagu': 3440, 'polanski': 3441, 'retain': 3442, 'vulgar': 3443, 'colonel': 3444, 'solut': 3445, 'airplan': 3446, 'pot': 3447, 'maggi': 3448, 'furthermor': 3449, 'highest': 3450, 'humbl': 3451, 'instant': 3452, 'primari': 3453, 'brooklyn': 3454, 'aveng': 3455, 'institut': 3456, 'jenni': 3457, 'devast': 3458, 'florida': 3459, 'pen': 3460, 'exot': 3461, 'consum': 3462, 'embrac': 3463, '3rd': 3464, 'principl': 3465, 'ya': 3466, 'sale': 3467, 'seduct': 3468, 'descend': 3469, 'outer': 3470, 'poke': 3471, 'disabl': 3472, 'linda': 3473, 'rick': 3474, '1999': 3475, 'wive': 3476, 'dutch': 3477, 'gender': 3478, 'cope': 3479, 'strain': 3480, 'illog': 3481, 'dian': 3482, 'smaller': 3483, 'bowl': 3484, 'godzilla': 3485, 'cue': 3486, 'hal': 3487, 'secondli': 3488, 'lol': 3489, 'inferior': 3490, 'dive': 3491, 'beneath': 3492, 'blatant': 3493, 'yard': 3494, 'vast': 3495, 'rabbit': 3496, 'scope': 3497, 'gloriou': 3498, 'glamor': 3499, 'mixtur': 3500, 'primarili': 3501, 'predecessor': 3502, 'bubbl': 3503, 'dud': 3504, 'gundam': 3505, 'devoid': 3506, 'trademark': 3507, 'disjoint': 3508, 'shirley': 3509, 'simplist': 3510, 'z': 3511, 'hideou': 3512, 'senseless': 3513, 'shelf': 3514, 'museum': 3515, 'myer': 3516, 'grinch': 3517, 'countrysid': 3518, 'aggress': 3519, 'alfr': 3520, 'alert': 3521, 'breed': 3522, 'pearl': 3523, 'invas': 3524, 'april': 3525, 'domino': 3526, 'casual': 3527, 'talki': 3528, 'arab': 3529, 'garbo': 3530, 'et': 3531, 'streep': 3532, 'stellar': 3533, 'loyal': 3534, 'obtain': 3535, 'vanish': 3536, 'robberi': 3537, 'slide': 3538, 'mayor': 3539, 'uwe': 3540, 'robinson': 3541, 'sh': 3542, 'defens': 3543, 'hopeless': 3544, 'disgrac': 3545, 'boom': 3546, 'khan': 3547, 'oz': 3548, 'illeg': 3549, 'applaud': 3550, 'hardcor': 3551, 'unhappi': 3552, 'maci': 3553, 'stir': 3554, 'rendit': 3555, 'stack': 3556, 'experiment': 3557, 'mail': 3558, 'acid': 3559, 'span': 3560, 'dismiss': 3561, 'tenant': 3562, 'rifl': 3563, 'soccer': 3564, 'tempt': 3565, 'fri': 3566, 'berlin': 3567, 'spider': 3568, 'blew': 3569, 'wont': 3570, 'declin': 3571, 'incomprehens': 3572, 'amanda': 3573, 'topless': 3574, 'craze': 3575, 'hartley': 3576, 'recruit': 3577, 'dicken': 3578, 'scroog': 3579, 'counter': 3580, 'emphasi': 3581, 'psychic': 3582, 'grandfath': 3583, 'diana': 3584, 'intim': 3585, 'goer': 3586, 'woo': 3587, 'parad': 3588, 'trashi': 3589, 'revolt': 3590, 'wet': 3591, 'ration': 3592, 'bitch': 3593, 'niro': 3594, 'justin': 3595, 'faster': 3596, 'sympath': 3597, 'ethnic': 3598, 'porno': 3599, 'riot': 3600, 'sibl': 3601, 'shed': 3602, 'shaw': 3603, 'resurrect': 3604, 'lumet': 3605, 'slick': 3606, 'gap': 3607, 'enlighten': 3608, 'lena': 3609, 'feminist': 3610, 'honesti': 3611, 'region': 3612, 'wendi': 3613, 'dealer': 3614, '00': 3615, 'ensur': 3616, 'immort': 3617, 'commend': 3618, 'choru': 3619, 'biographi': 3620, 'eager': 3621, 'steam': 3622, 'nephew': 3623, 'hesit': 3624, 'rider': 3625, 'farmer': 3626, 'weakest': 3627, 'jonathan': 3628, 'andr': 3629, 'unreal': 3630, 'patriot': 3631, 'wheel': 3632, 'hopper': 3633, 'partial': 3634, 'worm': 3635, 'mario': 3636, 'ballet': 3637, 'safeti': 3638, 'nostalg': 3639, 'properti': 3640, 'psychopath': 3641, 'kingdom': 3642, 'morri': 3643, 'util': 3644, 'prequel': 3645, 'hung': 3646, 'confin': 3647, 'repress': 3648, 'similarli': 3649, 'leo': 3650, 'charlott': 3651, 'vice': 3652, 'wore': 3653, 'mutant': 3654, 'skull': 3655, 'composit': 3656, 'blunt': 3657, 'snap': 3658, 'sappi': 3659, 'owen': 3660, 'sandra': 3661, 'franco': 3662, 'victori': 3663, 'macarthur': 3664, 'bergman': 3665, 'bonu': 3666, 'acquir': 3667, 'whoopi': 3668, 'deed': 3669, 'thru': 3670, 'tail': 3671, 'heartbreak': 3672, 'recycl': 3673, 'bumbl': 3674, 'compens': 3675, 'cg': 3676, 'farrel': 3677, 'nervou': 3678, 'exit': 3679, 'drum': 3680, 'montana': 3681, 'pattern': 3682, 'tad': 3683, 'miseri': 3684, 'rocki': 3685, 'strand': 3686, 'bow': 3687, 'hyde': 3688, 'despair': 3689, 'kyle': 3690, 'campbel': 3691, 'emperor': 3692, 'dalton': 3693, 'rope': 3694, 'speci': 3695, 'drain': 3696, 'compass': 3697, 'snl': 3698, 'del': 3699, '1972': 3700, 'latin': 3701, 'repli': 3702, 'dust': 3703, 'rambl': 3704, 'valuabl': 3705, 'da': 3706, 'chess': 3707, 'roth': 3708, 'rotten': 3709, 'pour': 3710, 'downhil': 3711, 'contempl': 3712, '35': 3713, 'orson': 3714, 'percept': 3715, 'martian': 3716, 'bleed': 3717, 'radic': 3718, 'mistress': 3719, 'tonight': 3720, 'wacki': 3721, 'rapist': 3722, 'carradin': 3723, 'gimmick': 3724, 'gal': 3725, 'airport': 3726, 'romp': 3727, 'oppress': 3728, 'slug': 3729, 'olli': 3730, 'heal': 3731, 'belt': 3732, 'shelley': 3733, 'paltrow': 3734, 'mislead': 3735, 'tooth': 3736, '1983': 3737, 'pervers': 3738, 'preach': 3739, 'pursuit': 3740, 'arc': 3741, 'taught': 3742, 'champion': 3743, 'tackl': 3744, 'melodi': 3745, 'slash': 3746, 'dazzl': 3747, 'stilt': 3748, 'unpredict': 3749, 'pervert': 3750, 'arguabl': 3751, 'edgar': 3752, 'banal': 3753, 'attorney': 3754, 'programm': 3755, 'tiresom': 3756, 'employe': 3757, 'vocal': 3758, 'bela': 3759, 'raymond': 3760, 'poem': 3761, 'sensat': 3762, 'orang': 3763, 'cleverli': 3764, 'plight': 3765, 'conneri': 3766, 'uplift': 3767, 'maid': 3768, 'duval': 3769, 'graham': 3770, 'gambl': 3771, 'closest': 3772, 'passeng': 3773, 'franki': 3774, 'mesmer': 3775, 'vengeanc': 3776, 'rubi': 3777, 'dixon': 3778, 'chicken': 3779, 'virginia': 3780, 'marti': 3781, 'abraham': 3782, 'calm': 3783, 'scottish': 3784, 'habit': 3785, 'inject': 3786, 'climact': 3787, 'quarter': 3788, 'mute': 3789, '1968': 3790, 'extens': 3791, 'whine': 3792, 'tube': 3793, 'clone': 3794, 'giggl': 3795, 'bay': 3796, 'profan': 3797, 'volum': 3798, 'crystal': 3799, 'secretli': 3800, 'convincingli': 3801, 'monologu': 3802, 'outing': 3803, 'gerard': 3804, 'engross': 3805, 'yawn': 3806, 'numb': 3807, 'iran': 3808, 'swallow': 3809, 'suffic': 3810, 'pokemon': 3811, 'amitabh': 3812, 'sirk': 3813, 'paranoia': 3814, 'lundgren': 3815, 'grotesqu': 3816, 'septemb': 3817, 'ethan': 3818, 'junior': 3819, 'trend': 3820, 'underst': 3821, 'abort': 3822, 'dispos': 3823, 'backward': 3824, 'nichola': 3825, 'fed': 3826, 'taxi': 3827, 'meander': 3828, 'expand': 3829, 'chicago': 3830, 'surpass': 3831, 'franci': 3832, 'austen': 3833, 'profess': 3834, 'plod': 3835, 'earl': 3836, 'lowest': 3837, 'bend': 3838, 'poetri': 3839, 'im': 3840, 'spock': 3841, 'frankenstein': 3842, 'richardson': 3843, 'linger': 3844, 'muddl': 3845, 'household': 3846, 'descent': 3847, 'myth': 3848, 'cannon': 3849, 'rant': 3850, 'lure': 3851, 'instrument': 3852, 'der': 3853, 'eugen': 3854, 'sue': 3855, 'greedi': 3856, 'nostalgia': 3857, 'literatur': 3858, 'spoke': 3859, 'stallon': 3860, 'hum': 3861, 'mundan': 3862, 'waitress': 3863, 'catchi': 3864, 'dysfunct': 3865, 'simplic': 3866, 'rubber': 3867, 'tourist': 3868, 'compliment': 3869, 'econom': 3870, 'recognis': 3871, 'lang': 3872, 'cent': 3873, 'mortal': 3874, 'june': 3875, 'crucial': 3876, 'phoni': 3877, 'occupi': 3878, 'sissi': 3879, 'dictat': 3880, 'equival': 3881, 'stale': 3882, 'coast': 3883, 'mankind': 3884, 'phantom': 3885, 'randi': 3886, 'carel': 3887, 'duck': 3888, 'deaf': 3889, 'firstli': 3890, 'flee': 3891, 'damon': 3892, 'recognit': 3893, 'insur': 3894, 'map': 3895, 'louis': 3896, 'molli': 3897, 'eaten': 3898, 'furi': 3899, 'dement': 3900, 'hello': 3901, 'irrelev': 3902, 'omen': 3903, 'alongsid': 3904, 'bacal': 3905, 'wisdom': 3906, 'rude': 3907, 'antwon': 3908, 'labor': 3909, 'onlin': 3910, 'twilight': 3911, 'lengthi': 3912, '1973': 3913, 'freez': 3914, 'newli': 3915, 'bump': 3916, 'likewis': 3917, 'damm': 3918, 'dreari': 3919, 'rooney': 3920, 'bike': 3921, 'grayson': 3922, 'ashley': 3923, 'blackmail': 3924, 'drake': 3925, 'reign': 3926, 'loyalti': 3927, 'distinguish': 3928, 'daisi': 3929, 'cyborg': 3930, 'heel': 3931, 'buffalo': 3932, 'biko': 3933, 'prey': 3934, 'attribut': 3935, 'nineti': 3936, 'baddi': 3937, 'basketbal': 3938, 'incorpor': 3939, 'unorigin': 3940, 'sailor': 3941, 'pink': 3942, 'startl': 3943, 'keith': 3944, 'vein': 3945, 'tunnel': 3946, 'inher': 3947, 'boxer': 3948, 'provoc': 3949, 'approv': 3950, 'ridden': 3951, 'chronicl': 3952, 'analysi': 3953, 'emphas': 3954, 'exposur': 3955, 'butler': 3956, 'worn': 3957, 'proce': 3958, 'interior': 3959, 'barrymor': 3960, 'er': 3961, 'stalker': 3962, 'condemn': 3963, 'improvis': 3964, 'fleet': 3965, 'predat': 3966, 'substitut': 3967, 'bunni': 3968, 'walsh': 3969, 'robbin': 3970, 'elm': 3971, 'barrel': 3972, 'degrad': 3973, 'othello': 3974, 'belushi': 3975, 'hypnot': 3976, 'underli': 3977, 'mighti': 3978, 'undeni': 3979, 'julian': 3980, 'unrel': 3981, 'simmon': 3982, 'drift': 3983, 'mormon': 3984, 'nicol': 3985, 'meyer': 3986, 'meg': 3987, 'millionair': 3988, 'indiffer': 3989, 'carla': 3990, 'novak': 3991, 'firm': 3992, 'warmth': 3993, 'nyc': 3994, 'palac': 3995, 'alarm': 3996, 'priceless': 3997, 'alison': 3998, 'disord': 3999, 'hay': 4000, 'vital': 4001, 'exquisit': 4002, 'errol': 4003, 'agenda': 4004, 'roof': 4005, 'enthusiasm': 4006, 'greed': 4007, 'unawar': 4008, 'mtv': 4009, 'watson': 4010, 'marion': 4011, 'edgi': 4012, 'shove': 4013, 'reid': 4014, 'lampoon': 4015, '3d': 4016, 'dolph': 4017, 'rukh': 4018, 'ponder': 4019, 'showdown': 4020, 'minimum': 4021, 'spain': 4022, 'iraq': 4023, 'eastern': 4024, 'testament': 4025, 'drip': 4026, 'peril': 4027, 'distort': 4028, 'glanc': 4029, 'zizek': 4030, 'championship': 4031, '1933': 4032, 'nun': 4033, 'petti': 4034, 'angela': 4035, 'thompson': 4036, 'profit': 4037, 'preserv': 4038, 'gestur': 4039, 'randomli': 4040, 'campaign': 4041, 'simultan': 4042, 'orlean': 4043, 'cassidi': 4044, 'israel': 4045, 'sergeant': 4046, 'peck': 4047, 'what': 4048, 'beatl': 4049, 'session': 4050, 'crown': 4051, 'valentin': 4052, 'coup': 4053, 'pamela': 4054, '13th': 4055, 'unleash': 4056, 'climat': 4057, 'cooki': 4058, 'jan': 4059, 'shootout': 4060, 'stroke': 4061, 'wig': 4062, 'kurosawa': 4063, 'scotland': 4064, 'reson': 4065, 'regist': 4066, 'crawl': 4067, 'realm': 4068, 'restrain': 4069, 'mon': 4070, 'quinn': 4071, 'perpetu': 4072, 'contradict': 4073, 'han': 4074, 'exposit': 4075, 'cream': 4076, 'gentleman': 4077, 'represent': 4078, 'stake': 4079, '1984': 4080, 'unimagin': 4081, 'buster': 4082, 'crow': 4083, 'bro': 4084, 'calib': 4085, 'travesti': 4086, 'brenda': 4087, 'valley': 4088, 'miyazaki': 4089, 'rout': 4090, 'sabrina': 4091, 'empathi': 4092, 'fido': 4093, 'din': 4094, 'absent': 4095, 'censor': 4096, 'pretens': 4097, 'crawford': 4098, 'baldwin': 4099, 'perceiv': 4100, 'cloud': 4101, 'delic': 4102, 'abomin': 4103, 'ustinov': 4104, 'josh': 4105, 'painter': 4106, 'geek': 4107, 'shoddi': 4108, 'pole': 4109, 'warrant': 4110, 'femm': 4111, 'demis': 4112, 'unseen': 4113, 'sucker': 4114, 'stargat': 4115, '1997': 4116, 'distress': 4117, '1987': 4118, 'ross': 4119, 'traumat': 4120, 'greg': 4121, 'unsatisfi': 4122, 'shaki': 4123, 'spacey': 4124, 'meryl': 4125, 'compromis': 4126, 'tacki': 4127, 'businessman': 4128, 'dana': 4129, 'derang': 4130, 'soderbergh': 4131, 'fuller': 4132, 'passabl': 4133, 'wax': 4134, 'monoton': 4135, 'sammi': 4136, 'darren': 4137, 'mclaglen': 4138, 'kumar': 4139, 'anchor': 4140, 'judgment': 4141, 'click': 4142, 'primit': 4143, 'dee': 4144, 'expedit': 4145, '1993': 4146, 'furiou': 4147, 'exclus': 4148, 'norm': 4149, 'unravel': 4150, 'tech': 4151, 'accuraci': 4152, 'verbal': 4153, 'clash': 4154, 'deniro': 4155, 'austin': 4156, 'tarantino': 4157, 'sid': 4158, 'polici': 4159, 'fog': 4160, 'valid': 4161, 'correctli': 4162, 'jewel': 4163, 'deceas': 4164, 'wholli': 4165, 'nathan': 4166, 'seal': 4167, 'uncov': 4168, 'fenc': 4169, 'reluct': 4170, 'antonioni': 4171, 'mode': 4172, 'debt': 4173, 'roller': 4174, 'alec': 4175, 'bake': 4176, 'temper': 4177, 'patienc': 4178, 'enforc': 4179, 'darn': 4180, 'trait': 4181, 'seldom': 4182, 'wretch': 4183, 'fabric': 4184, 'tax': 4185, 'hallucin': 4186, '3000': 4187, '2008': 4188, 'dreck': 4189, 'fart': 4190, '1971': 4191, '1995': 4192, 'pocket': 4193, 'clerk': 4194, 'sand': 4195, 'joel': 4196, 'sheet': 4197, 'nicola': 4198, 'slam': 4199, 'conduct': 4200, 'malon': 4201, 'fought': 4202, 'wang': 4203, 'ritual': 4204, 'shanghai': 4205, 'crippl': 4206, 'logan': 4207, 'sustain': 4208, 'unfair': 4209, 'murray': 4210, 'vanc': 4211, 'behold': 4212, 'sunni': 4213, 'scriptwrit': 4214, 'technicolor': 4215, 'isabel': 4216, 'shell': 4217, 'critiqu': 4218, 'bias': 4219, 'guitar': 4220, 'bridget': 4221, 'soup': 4222, 'runner': 4223, 'phil': 4224, 'tactic': 4225, 'outlin': 4226, 'robber': 4227, 'conscious': 4228, 'squad': 4229, 'legaci': 4230, 'canyon': 4231, 'clau': 4232, 'stark': 4233, 'grief': 4234, 'sweep': 4235, 'divid': 4236, 'pete': 4237, 'schedul': 4238, 'penni': 4239, 'exhaust': 4240, 'preposter': 4241, 'stuart': 4242, 'rita': 4243, 'despis': 4244, 'preston': 4245, 'fundament': 4246, 'helpless': 4247, 'downey': 4248, 'sugar': 4249, 'alley': 4250, 'inabl': 4251, 'liberti': 4252, 'unexpectedli': 4253, 'passag': 4254, 'jacket': 4255, 'culmin': 4256, 'sniper': 4257, 'lacklust': 4258, 'drove': 4259, 'rehash': 4260, 'alicia': 4261, 'palanc': 4262, 'russia': 4263, 'bloom': 4264, 'jodi': 4265, 'vomit': 4266, 'kansa': 4267, 'newman': 4268, 'agenc': 4269, 'gregori': 4270, 'restrict': 4271, 'consciou': 4272, 'implic': 4273, 'propos': 4274, 'flair': 4275, 'marc': 4276, 'invad': 4277, 'rear': 4278, 'cigarett': 4279, 'connor': 4280, 'sentinel': 4281, 'boyl': 4282, 'delv': 4283, 'horn': 4284, 'cap': 4285, 'feat': 4286, 'behaviour': 4287, 'wrench': 4288, 'delet': 4289, 'asylum': 4290, '1936': 4291, 'sharon': 4292, 'rampag': 4293, 'ladder': 4294, 'tripe': 4295, 'foxx': 4296, '22': 4297, 'bacon': 4298, 'awhil': 4299, 'lush': 4300, 'chainsaw': 4301, 'arrow': 4302, 'karl': 4303, 'aesthet': 4304, 'rod': 4305, 'improb': 4306, 'rehears': 4307, 'mccoy': 4308, 'tendenc': 4309, 'pale': 4310, 'vet': 4311, 'kolchak': 4312, 'yeti': 4313, 'fright': 4314, 'hungri': 4315, 'coaster': 4316, 'tomorrow': 4317, 'tasteless': 4318, 'prank': 4319, 'filler': 4320, 'spice': 4321, 'underneath': 4322, 'amazon': 4323, 'loneli': 4324, 'paradis': 4325, '1978': 4326, 'globe': 4327, '1988': 4328, 'hulk': 4329, 'shortcom': 4330, 'lurk': 4331, 'suffici': 4332, 'stream': 4333, 'elit': 4334, '1920': 4335, 'sung': 4336, 'minu': 4337, 'aristocrat': 4338, '19th': 4339, 'rumor': 4340, 'el': 4341, 'wildli': 4342, 'wagner': 4343, 'rhythm': 4344, 'paramount': 4345, 'hackney': 4346, 'conscienc': 4347, 'weav': 4348, 'suspicion': 4349, 'basing': 4350, 'visitor': 4351, 'newcom': 4352, 'financ': 4353, 'thunderbird': 4354, 'scoop': 4355, 'rub': 4356, 'smell': 4357, 'springer': 4358, 'straightforward': 4359, 'counterpart': 4360, 'atroc': 4361, 'bread': 4362, 'worship': 4363, 'naughti': 4364, 'brit': 4365, 'teas': 4366, 'choppi': 4367, '1989': 4368, 'couch': 4369, 'ingeni': 4370, 'en': 4371, 'leigh': 4372, 'immers': 4373, 'minist': 4374, 'posey': 4375, 'secondari': 4376, '1939': 4377, 'impos': 4378, 'entranc': 4379, 'recogniz': 4380, 'abrupt': 4381, 'heist': 4382, 'paxton': 4383, 'dirt': 4384, 'standout': 4385, '75': 4386, 'tierney': 4387, 'hopkin': 4388, 'grudg': 4389, 'beverli': 4390, 'quietli': 4391, 'penn': 4392, 'lectur': 4393, 'literari': 4394, 'cancer': 4395, 'wwe': 4396, 'inmat': 4397, 'iv': 4398, 'chavez': 4399, 'ram': 4400, 'chamberlain': 4401, 'curli': 4402, 'morbid': 4403, 'clan': 4404, 'cattl': 4405, 'duel': 4406, 'nolan': 4407, 'ace': 4408, 'missil': 4409, 'moreov': 4410, '1986': 4411, 'variat': 4412, 'esther': 4413, 'skeptic': 4414, 'net': 4415, 'geni': 4416, 'lindsay': 4417, 'quaid': 4418, 'entitl': 4419, 'policeman': 4420, 'attenborough': 4421, 'laurenc': 4422, 'sublim': 4423, 'injuri': 4424, 'convert': 4425, 'watcher': 4426, 'nemesi': 4427, 'yearn': 4428, 'transcend': 4429, 'enthral': 4430, 'misguid': 4431, 'sassi': 4432, 'heartfelt': 4433, 'bernard': 4434, 'ratso': 4435, 'hopelessli': 4436, 'rosemari': 4437, 'hk': 4438, 'graini': 4439, 'cruelti': 4440, 'enabl': 4441, 'mytholog': 4442, 'carlito': 4443, 'artsi': 4444, 'uncut': 4445, 'grin': 4446, '1979': 4447, 'egg': 4448, 'reliabl': 4449, 'obstacl': 4450, 'moder': 4451, 'tyler': 4452, 'buzz': 4453, 'facil': 4454, 'kitti': 4455, 'unexplain': 4456, 'vader': 4457, 'setup': 4458, 'bean': 4459, 'out': 4460, 'bye': 4461, 'kidman': 4462, 'diari': 4463, 'characteris': 4464, 'poe': 4465, 'puppi': 4466, 'spiral': 4467, 'youngest': 4468, 'brood': 4469, 'steadi': 4470, 'dont': 4471, 'sweat': 4472, 'kline': 4473, 'gillian': 4474, 'patricia': 4475, 'underworld': 4476, 'brendan': 4477, 'christin': 4478, 'martha': 4479, 'hammi': 4480, 'gina': 4481, 'despic': 4482, 'clueless': 4483, 'bounc': 4484, 'narrow': 4485, 'fuel': 4486, 'oblig': 4487, 'disastr': 4488, 'spontan': 4489, '1969': 4490, 'niec': 4491, 'athlet': 4492, 'bewar': 4493, 'exterior': 4494, 'hain': 4495, 'baffl': 4496, 'weather': 4497, 'heap': 4498, 'effici': 4499, 'decept': 4500, 'preming': 4501, 'bronson': 4502, 'acquaint': 4503, 'circu': 4504, 'candl': 4505, 'angst': 4506, 'astound': 4507, 'sleepwalk': 4508, 'injur': 4509, 'uh': 4510, 'loi': 4511, 'tick': 4512, 'taboo': 4513, 'goof': 4514, 'viewpoint': 4515, 'insipid': 4516, 'mayhem': 4517, 'scar': 4518, 'harmless': 4519, 'rome': 4520, 'trigger': 4521, 'sooner': 4522, 'analyz': 4523, 'enlist': 4524, 'preachi': 4525, 'mermaid': 4526, '19': 4527, 'dandi': 4528, 'renaiss': 4529, 'headach': 4530, 'shatter': 4531, 'suprem': 4532, 'outlaw': 4533, '73': 4534, 'hepburn': 4535, 'virtu': 4536, 'loath': 4537, 'fontain': 4538, 'lester': 4539, 'biker': 4540, 'dilemma': 4541, 'housewif': 4542, 'slimi': 4543, 'hostag': 4544, 'amor': 4545, 'guin': 4546, 'bent': 4547, 'fluff': 4548, 'camcord': 4549, 'salt': 4550, 'dish': 4551, 'zoom': 4552, 'hokey': 4553, 'ebert': 4554, 'immatur': 4555, 'filth': 4556, 'overlong': 4557, 'glorifi': 4558, 'spade': 4559, 'stimul': 4560, 'idol': 4561, 'claustrophob': 4562, 'ariel': 4563, 'intric': 4564, 'corbett': 4565, 'tripl': 4566, 'redund': 4567, 'sox': 4568, 'foolish': 4569, 'scorses': 4570, 'whore': 4571, 'steer': 4572, 'macho': 4573, 'phenomenon': 4574, 'oldest': 4575, 'stair': 4576, 'contempt': 4577, 'boston': 4578, 'dismal': 4579, 'hooker': 4580, 'gere': 4581, 'surgeri': 4582, 'cassavet': 4583, 'strongest': 4584, 'shred': 4585, '1976': 4586, 'gabl': 4587, 'frantic': 4588, 'flashi': 4589, 'spree': 4590, 'mount': 4591, 'schlock': 4592, 'trivia': 4593, 'cush': 4594, 'astronaut': 4595, 'obligatori': 4596, 'cow': 4597, 'muscl': 4598, 'fascist': 4599, 'flag': 4600, 'widescreen': 4601, 'zane': 4602, 'mutual': 4603, 'margin': 4604, 'harold': 4605, 'assert': 4606, 'radiat': 4607, 'proport': 4608, '1981': 4609, 'beard': 4610, 'preced': 4611, 'antagonist': 4612, 'flirt': 4613, 'gasp': 4614, 'shield': 4615, 'down': 4616, 'spinal': 4617, 'corman': 4618, 'faint': 4619, 'nolt': 4620, 'dwarf': 4621, 'perman': 4622, 'transplant': 4623, 'remad': 4624, 'joker': 4625, 'conquer': 4626, 'keen': 4627, 'cohen': 4628, 'alvin': 4629, 'messi': 4630, 'naschi': 4631, 'rhyme': 4632, 'brush': 4633, 'resum': 4634, 'divin': 4635, 'discern': 4636, '1945': 4637, 'wield': 4638, 'boob': 4639, 'departur': 4640, 'triangl': 4641, 'someday': 4642, 'mol': 4643, 'barn': 4644, 'fishburn': 4645, 'neurot': 4646, 'archiv': 4647, '28': 4648, 'deer': 4649, 'claud': 4650, 'scandal': 4651, 'off': 4652, 'strive': 4653, 'repris': 4654, 'info': 4655, 'www': 4656, 'danish': 4657, 'carey': 4658, 'persuad': 4659, 'hara': 4660, 'raj': 4661, 'mobil': 4662, 'bachelor': 4663, 'aborigin': 4664, 'flock': 4665, 'bitten': 4666, 'sensual': 4667, 'inflict': 4668, 'ritchi': 4669, 'vaniti': 4670, '95': 4671, 'interestingli': 4672, 'instruct': 4673, 'prophet': 4674, 'miracul': 4675, 'dame': 4676, 'helm': 4677, 'earnest': 4678, 'harrison': 4679, 'wendigo': 4680, 'recit': 4681, 'casino': 4682, 'anton': 4683, 'cycl': 4684, 'proclaim': 4685, 'jade': 4686, 'axe': 4687, 'colin': 4688, 'hapless': 4689, 'carlo': 4690, 'cb': 4691, 'senior': 4692, 'traffic': 4693, 'bate': 4694, 'hilar': 4695, 'artwork': 4696, 'neill': 4697, 'dim': 4698, 'hug': 4699, 'clad': 4700, 'dylan': 4701, 'loretta': 4702, 'europa': 4703, 'banter': 4704, 'luka': 4705, 'kathryn': 4706, 'timberlak': 4707, 'vibrant': 4708, 'mobster': 4709, 'biblic': 4710, 'cliffhang': 4711, 'ish': 4712, 'submit': 4713, 'pixar': 4714, 'melissa': 4715, 'pacif': 4716, 'fragil': 4717, 'undermin': 4718, 'rot': 4719, 'heartwarm': 4720, 'frontier': 4721, 'parson': 4722, 'cher': 4723, 'pickford': 4724, 'cerebr': 4725, 'blatantli': 4726, 'vile': 4727, 'aris': 4728, 'seedi': 4729, 'static': 4730, 'jo': 4731, 'shepherd': 4732, 'legitim': 4733, 'token': 4734, 'bondag': 4735, 'wardrob': 4736, 'milo': 4737, 'orphan': 4738, 'lui': 4739, 'misfortun': 4740, 'articl': 4741, 'electron': 4742, 'marlon': 4743, 'flavor': 4744, 'jordan': 4745, 'uma': 4746, 'trier': 4747, 'antholog': 4748, 'redneck': 4749, 'toronto': 4750, 'choke': 4751, 'breakfast': 4752, 'bikini': 4753, 'holocaust': 4754, 'foil': 4755, 'feast': 4756, 'sicken': 4757, 'rooki': 4758, 'eli': 4759, 'razor': 4760, 'winchest': 4761, 'northern': 4762, 'pc': 4763, 'vanessa': 4764, 'illus': 4765, 'mason': 4766, 'akin': 4767, 'lucil': 4768, 'isra': 4769, 'http': 4770, 'nope': 4771, 'estrang': 4772, 'venom': 4773, 'alexandr': 4774, 'mathieu': 4775, 'shorter': 4776, 'psych': 4777, 'leather': 4778, 'disregard': 4779, 'turd': 4780, 'linear': 4781, 'tack': 4782, 'outdat': 4783, 'charlton': 4784, 'huston': 4785, 'oppon': 4786, 'wrestler': 4787, 'gilbert': 4788, 'styliz': 4789, 'smack': 4790, 'cartoonish': 4791, 'highway': 4792, 'affleck': 4793, 'peer': 4794, 'ceremoni': 4795, 'howl': 4796, 'abund': 4797, 'swept': 4798, 'frog': 4799, 'magician': 4800, 'clinic': 4801, 'ideolog': 4802, 'glare': 4803, 'boyer': 4804, 'knightley': 4805, 'fifth': 4806, 'audrey': 4807, 'nightclub': 4808, 'deem': 4809, 'comprehend': 4810, 'retriev': 4811, 'dudley': 4812, 'feminin': 4813, 'gunga': 4814, 'braveheart': 4815, 'mitch': 4816, 'evolut': 4817, 'newer': 4818, 'collector': 4819, 'cuban': 4820, 'lavish': 4821, 'lighter': 4822, '1991': 4823, 'durat': 4824, 'btw': 4825, 'spawn': 4826, 'toe': 4827, 'monument': 4828, 'conrad': 4829, 'sleaz': 4830, 'snatch': 4831, 'uniformli': 4832, 'spine': 4833, '1994': 4834, 'energet': 4835, 'bogu': 4836, 'boo': 4837, 'phenomen': 4838, 'bastard': 4839, 'lifeless': 4840, 'plate': 4841, 'greet': 4842, 'deliver': 4843, 'corn': 4844, '4th': 4845, 'whack': 4846, 'salman': 4847, 'senat': 4848, 'breakdown': 4849, 'moe': 4850, 'compris': 4851, 'goldsworthi': 4852, 'client': 4853, 'einstein': 4854, 'potter': 4855, 'summar': 4856, 'chip': 4857, 'cemeteri': 4858, 'tara': 4859, 'liu': 4860, 'eleven': 4861, 'fluid': 4862, 'creek': 4863, 'ie': 4864, 'wtf': 4865, 'neatli': 4866, 'replay': 4867, 'bulk': 4868, 'undead': 4869, 'jare': 4870, 'firmli': 4871, 'mcqueen': 4872, 'trauma': 4873, 'pronounc': 4874, 'luxuri': 4875, 'judd': 4876, 'spectacl': 4877, 'capot': 4878, 'armstrong': 4879, 'healthi': 4880, 'inaccuraci': 4881, 'randolph': 4882, 'signal': 4883, 'historian': 4884, 'jam': 4885, 'belli': 4886, 'gilliam': 4887, 'sorrow': 4888, 'constitut': 4889, 'appl': 4890, 'occup': 4891, '1977': 4892, 'outright': 4893, 'lex': 4894, 'ol': 4895, 'jule': 4896, 'alleg': 4897, 'cecil': 4898, '1974': 4899, 'undertak': 4900, 'bori': 4901, 'clara': 4902, 'nina': 4903, 'jedi': 4904, 'kent': 4905, 'embark': 4906, 'evelyn': 4907, 'kazan': 4908, 'sacrif': 4909, 'conan': 4910, 'forgiven': 4911, 'propheci': 4912, 'sidewalk': 4913, 'truman': 4914, 'subtli': 4915, 'blur': 4916, 'mum': 4917, 'inclus': 4918, 'id': 4919, 'antonio': 4920, 'miami': 4921, 'rosario': 4922, 'pepper': 4923, 'bait': 4924, 'kiddi': 4925, 'genet': 4926, '1985': 4927, 'knee': 4928, 'basket': 4929, 'fruit': 4930, 'meal': 4931, 'palm': 4932, 'cape': 4933, 'curtain': 4934, 'vignett': 4935, 'decapit': 4936, 'congratul': 4937, 'unattract': 4938, 'pioneer': 4939, 'poker': 4940, 'galaxi': 4941, 'vain': 4942, 'goldblum': 4943, 'comprehens': 4944, 'lanc': 4945, 'tokyo': 4946, 'relentless': 4947, 'aussi': 4948, 'roar': 4949, 'porter': 4950, 'comb': 4951, 'walt': 4952, 'abound': 4953, 'unsuspect': 4954, 'ash': 4955, 'miniseri': 4956, 'paula': 4957, 'spray': 4958, 'bsg': 4959, 'carmen': 4960, 'inaccur': 4961, 'lauren': 4962, 'groan': 4963, 'drone': 4964, 'handicap': 4965, 'substanti': 4966, 'detach': 4967, 'playboy': 4968, 'jill': 4969, 'evan': 4970, 'epitom': 4971, 'profil': 4972, 'incorrect': 4973, 'casper': 4974, 'scariest': 4975, 'optimist': 4976, 'turtl': 4977, 'omin': 4978, 'weari': 4979, 'weaker': 4980, 'victorian': 4981, 'motorcycl': 4982, 'sophi': 4983, '21st': 4984, 'hostil': 4985, 'cypher': 4986, 'vastli': 4987, 'modest': 4988, 'scarfac': 4989, 'orchestr': 4990, 'growth': 4991, 'bach': 4992, 'masterson': 4993, 'mice': 4994, 'spill': 4995, 'bravo': 4996, 'hackman': 4997, 'monti': 4998, 'ghetto': 4999}\n"
     ]
    }
   ],
   "source": [
    "word_dict = build_dict(train_X)\n",
    "print(word_dict)"
   ]
  },
  {
   "cell_type": "code",
   "execution_count": 14,
   "metadata": {},
   "outputs": [
    {
     "data": {
      "text/plain": [
       "4998"
      ]
     },
     "execution_count": 14,
     "metadata": {},
     "output_type": "execute_result"
    }
   ],
   "source": [
    "len(word_dict)"
   ]
  },
  {
   "cell_type": "markdown",
   "metadata": {},
   "source": [
    "**Question:** What are the five most frequently appearing (tokenized) words in the training set? Does it makes sense that these words appear frequently in the training set?"
   ]
  },
  {
   "cell_type": "code",
   "execution_count": 15,
   "metadata": {},
   "outputs": [
    {
     "name": "stdout",
     "output_type": "stream",
     "text": [
      "Most Frequenctly word No. 1 : movi\n",
      "Most Frequenctly word No. 2 : film\n",
      "Most Frequenctly word No. 3 : one\n",
      "Most Frequenctly word No. 4 : like\n",
      "Most Frequenctly word No. 5 : time\n"
     ]
    }
   ],
   "source": [
    "# TODO: Use this space to determine the five most frequently appearing words in the training set.\n",
    "top_most_fre_number = 5\n",
    "count = 0\n",
    "for word in list(enumerate(word_dict)):\n",
    "    if count < top_most_fre_number:\n",
    "        print('Most Frequenctly word No.',str(count + 1),':',word[1])\n",
    "        count += 1\n",
    "    else:\n",
    "        break"
   ]
  },
  {
   "cell_type": "markdown",
   "metadata": {},
   "source": [
    "**Answer:**'movi', 'film', 'one', 'like', 'time'"
   ]
  },
  {
   "cell_type": "markdown",
   "metadata": {},
   "source": [
    "### Save `word_dict`\n",
    "\n",
    "Later on when we construct an endpoint which processes a submitted review we will need to make use of the `word_dict` which we have created. As such, we will save it to a file now for future use."
   ]
  },
  {
   "cell_type": "code",
   "execution_count": 16,
   "metadata": {},
   "outputs": [],
   "source": [
    "data_dir = '../data/pytorch' # The folder we will use for storing data\n",
    "if not os.path.exists(data_dir): # Make sure that the folder exists\n",
    "    os.makedirs(data_dir)"
   ]
  },
  {
   "cell_type": "code",
   "execution_count": 17,
   "metadata": {},
   "outputs": [],
   "source": [
    "with open(os.path.join(data_dir, 'word_dict.pkl'), \"wb\") as f:\n",
    "    pickle.dump(word_dict, f)"
   ]
  },
  {
   "cell_type": "markdown",
   "metadata": {},
   "source": [
    "### Transform the reviews\n",
    "\n",
    "Now that we have our word dictionary which allows us to transform the words appearing in the reviews into integers, it is time to make use of it and convert our reviews to their integer sequence representation, making sure to pad or truncate to a fixed length, which in our case is `500`."
   ]
  },
  {
   "cell_type": "code",
   "execution_count": 18,
   "metadata": {},
   "outputs": [],
   "source": [
    "def convert_and_pad(word_dict, sentence, pad=500):\n",
    "    NOWORD = 0 # We will use 0 to represent the 'no word' category\n",
    "    INFREQ = 1 # and we use 1 to represent the infrequent words, i.e., words not appearing in word_dict\n",
    "    \n",
    "    working_sentence = [NOWORD] * pad\n",
    "    \n",
    "    for word_index, word in enumerate(sentence[:pad]):\n",
    "        if word in word_dict:\n",
    "            working_sentence[word_index] = word_dict[word]\n",
    "        else:\n",
    "            working_sentence[word_index] = INFREQ\n",
    "            \n",
    "    return working_sentence, min(len(sentence), pad)\n",
    "\n",
    "def convert_and_pad_data(word_dict, data, pad=500):\n",
    "    result = []\n",
    "    lengths = []\n",
    "    \n",
    "    for sentence in data:\n",
    "        converted, leng = convert_and_pad(word_dict, sentence, pad)\n",
    "        result.append(converted)\n",
    "        lengths.append(leng)\n",
    "        \n",
    "    return np.array(result), np.array(lengths)"
   ]
  },
  {
   "cell_type": "code",
   "execution_count": 19,
   "metadata": {},
   "outputs": [],
   "source": [
    "train_X, train_X_len = convert_and_pad_data(word_dict, train_X)\n",
    "test_X, test_X_len = convert_and_pad_data(word_dict, test_X)"
   ]
  },
  {
   "cell_type": "markdown",
   "metadata": {},
   "source": [
    "As a quick check to make sure that things are working as intended, check to see what one of the reviews in the training set looks like after having been processeed. Does this look reasonable? What is the length of a review in the training set?"
   ]
  },
  {
   "cell_type": "code",
   "execution_count": 20,
   "metadata": {},
   "outputs": [
    {
     "data": {
      "text/plain": [
       "500"
      ]
     },
     "execution_count": 20,
     "metadata": {},
     "output_type": "execute_result"
    }
   ],
   "source": [
    "# Use this cell to examine one of the processed reviews to make sure everything is working as intended.\n",
    "len(train_X[10])"
   ]
  },
  {
   "cell_type": "markdown",
   "metadata": {},
   "source": [
    "**Question:** In the cells above we use the `preprocess_data` and `convert_and_pad_data` methods to process both the training and testing set. Why or why not might this be a problem?"
   ]
  },
  {
   "cell_type": "markdown",
   "metadata": {},
   "source": [
    "**Answer:**\n",
    "\n",
    "*preprocess_data function will cut the data preparation cost, since it is one time process and the result are saved in a file. In case if the notebook instance terminal connection is broken then we need to restart from begining in that case we can skip the data preparation step and proceed to training by directly loading the preprocessed data from file\n",
    "\n",
    "*convert_and_pad_data this function helps to maintain a constant data length. since we using LSTM Clasifier with Embedding so we need to maintain a constant batch size throughout the training"
   ]
  },
  {
   "cell_type": "markdown",
   "metadata": {},
   "source": [
    "## Step 3: Upload the data to S3\n",
    "\n",
    "As in the XGBoost notebook, we will need to upload the training dataset to S3 in order for our training code to access it. For now we will save it locally and we will upload to S3 later on.\n",
    "\n",
    "### Save the processed training dataset locally\n",
    "\n",
    "It is important to note the format of the data that we are saving as we will need to know it when we write the training code. In our case, each row of the dataset has the form `label`, `length`, `review[500]` where `review[500]` is a sequence of `500` integers representing the words in the review."
   ]
  },
  {
   "cell_type": "code",
   "execution_count": 21,
   "metadata": {},
   "outputs": [],
   "source": [
    "import pandas as pd\n",
    "    \n",
    "pd.concat([pd.DataFrame(train_y), pd.DataFrame(train_X_len), pd.DataFrame(train_X)], axis=1) \\\n",
    "        .to_csv(os.path.join(data_dir, 'train.csv'), header=False, index=False)"
   ]
  },
  {
   "cell_type": "markdown",
   "metadata": {},
   "source": [
    "### Uploading the training data\n",
    "\n",
    "\n",
    "Next, we need to upload the training data to the SageMaker default S3 bucket so that we can provide access to it while training our model."
   ]
  },
  {
   "cell_type": "code",
   "execution_count": 22,
   "metadata": {},
   "outputs": [],
   "source": [
    "import sagemaker\n",
    "\n",
    "sagemaker_session = sagemaker.Session()\n",
    "\n",
    "bucket = sagemaker_session.default_bucket()\n",
    "prefix = 'sagemaker/sentiment_rnn'\n",
    "\n",
    "role = sagemaker.get_execution_role()"
   ]
  },
  {
   "cell_type": "code",
   "execution_count": 23,
   "metadata": {},
   "outputs": [],
   "source": [
    "input_data = sagemaker_session.upload_data(path=data_dir, bucket=bucket, key_prefix=prefix)"
   ]
  },
  {
   "cell_type": "markdown",
   "metadata": {},
   "source": [
    "**NOTE:** The cell above uploads the entire contents of our data directory. This includes the `word_dict.pkl` file. This is fortunate as we will need this later on when we create an endpoint that accepts an arbitrary review. For now, we will just take note of the fact that it resides in the data directory (and so also in the S3 training bucket) and that we will need to make sure it gets saved in the model directory."
   ]
  },
  {
   "cell_type": "markdown",
   "metadata": {},
   "source": [
    "## Step 4: Build and Train the PyTorch Model\n",
    "\n",
    "In the XGBoost notebook we discussed what a model is in the SageMaker framework. In particular, a model comprises three objects\n",
    "\n",
    " - Model Artifacts,\n",
    " - Training Code, and\n",
    " - Inference Code,\n",
    " \n",
    "each of which interact with one another. In the XGBoost example we used training and inference code that was provided by Amazon. Here we will still be using containers provided by Amazon with the added benefit of being able to include our own custom code.\n",
    "\n",
    "We will start by implementing our own neural network in PyTorch along with a training script. For the purposes of this project we have provided the necessary model object in the `model.py` file, inside of the `train` folder. You can see the provided implementation by running the cell below."
   ]
  },
  {
   "cell_type": "code",
   "execution_count": 24,
   "metadata": {},
   "outputs": [
    {
     "name": "stdout",
     "output_type": "stream",
     "text": [
      "\u001b[34mimport\u001b[39;49;00m \u001b[04m\u001b[36mtorch\u001b[39;49;00m\u001b[04m\u001b[36m.\u001b[39;49;00m\u001b[04m\u001b[36mnn\u001b[39;49;00m \u001b[34mas\u001b[39;49;00m \u001b[04m\u001b[36mnn\u001b[39;49;00m\n",
      "\n",
      "\u001b[34mclass\u001b[39;49;00m \u001b[04m\u001b[32mLSTMClassifier\u001b[39;49;00m(nn.Module):\n",
      "    \u001b[33m\"\"\"\u001b[39;49;00m\n",
      "\u001b[33m    This is the simple RNN model we will be using to perform Sentiment Analysis.\u001b[39;49;00m\n",
      "\u001b[33m    \"\"\"\u001b[39;49;00m\n",
      "\n",
      "    \u001b[34mdef\u001b[39;49;00m \u001b[32m__init__\u001b[39;49;00m(\u001b[36mself\u001b[39;49;00m, embedding_dim, hidden_dim, vocab_size):\n",
      "        \u001b[33m\"\"\"\u001b[39;49;00m\n",
      "\u001b[33m        Initialize the model by settingg up the various layers.\u001b[39;49;00m\n",
      "\u001b[33m        \"\"\"\u001b[39;49;00m\n",
      "        \u001b[36msuper\u001b[39;49;00m(LSTMClassifier, \u001b[36mself\u001b[39;49;00m).\u001b[32m__init__\u001b[39;49;00m()\n",
      "\n",
      "        \u001b[36mself\u001b[39;49;00m.embedding = nn.Embedding(vocab_size, embedding_dim, padding_idx=\u001b[34m0\u001b[39;49;00m)\n",
      "        \u001b[36mself\u001b[39;49;00m.lstm = nn.LSTM(embedding_dim, hidden_dim)\n",
      "        \u001b[36mself\u001b[39;49;00m.dense = nn.Linear(in_features=hidden_dim, out_features=\u001b[34m1\u001b[39;49;00m)\n",
      "        \u001b[36mself\u001b[39;49;00m.sig = nn.Sigmoid()\n",
      "        \n",
      "        \u001b[36mself\u001b[39;49;00m.word_dict = \u001b[34mNone\u001b[39;49;00m\n",
      "\n",
      "    \u001b[34mdef\u001b[39;49;00m \u001b[32mforward\u001b[39;49;00m(\u001b[36mself\u001b[39;49;00m, x):\n",
      "        \u001b[33m\"\"\"\u001b[39;49;00m\n",
      "\u001b[33m        Perform a forward pass of our model on some input.\u001b[39;49;00m\n",
      "\u001b[33m        \"\"\"\u001b[39;49;00m\n",
      "        x = x.t()\n",
      "        lengths = x[\u001b[34m0\u001b[39;49;00m,:]\n",
      "        reviews = x[\u001b[34m1\u001b[39;49;00m:,:]\n",
      "        embeds = \u001b[36mself\u001b[39;49;00m.embedding(reviews)\n",
      "        lstm_out, _ = \u001b[36mself\u001b[39;49;00m.lstm(embeds)\n",
      "        out = \u001b[36mself\u001b[39;49;00m.dense(lstm_out)\n",
      "        out = out[lengths - \u001b[34m1\u001b[39;49;00m, \u001b[36mrange\u001b[39;49;00m(\u001b[36mlen\u001b[39;49;00m(lengths))]\n",
      "        \u001b[34mreturn\u001b[39;49;00m \u001b[36mself\u001b[39;49;00m.sig(out.squeeze())\n"
     ]
    }
   ],
   "source": [
    "!pygmentize train/model.py"
   ]
  },
  {
   "cell_type": "markdown",
   "metadata": {},
   "source": [
    "The important takeaway from the implementation provided is that there are three parameters that we may wish to tweak to improve the performance of our model. These are the embedding dimension, the hidden dimension and the size of the vocabulary. We will likely want to make these parameters configurable in the training script so that if we wish to modify them we do not need to modify the script itself. We will see how to do this later on. To start we will write some of the training code in the notebook so that we can more easily diagnose any issues that arise.\n",
    "\n",
    "First we will load a small portion of the training data set to use as a sample. It would be very time consuming to try and train the model completely in the notebook as we do not have access to a gpu and the compute instance that we are using is not particularly powerful. However, we can work on a small bit of the data to get a feel for how our training script is behaving."
   ]
  },
  {
   "cell_type": "code",
   "execution_count": 25,
   "metadata": {},
   "outputs": [],
   "source": [
    "import torch\n",
    "import torch.utils.data\n",
    "\n",
    "# Read in only the first 250 rows\n",
    "train_sample = pd.read_csv(os.path.join(data_dir, 'train.csv'), header=None, names=None, nrows=250)\n",
    "\n",
    "# Turn the input pandas dataframe into tensors\n",
    "train_sample_y = torch.from_numpy(train_sample[[0]].values).float().squeeze()\n",
    "train_sample_X = torch.from_numpy(train_sample.drop([0], axis=1).values).long()\n",
    "\n",
    "# Build the dataset\n",
    "train_sample_ds = torch.utils.data.TensorDataset(train_sample_X, train_sample_y)\n",
    "# Build the dataloader\n",
    "train_sample_dl = torch.utils.data.DataLoader(train_sample_ds, batch_size=50)"
   ]
  },
  {
   "cell_type": "markdown",
   "metadata": {},
   "source": [
    "### (TODO) Writing the training method\n",
    "\n",
    "Next we need to write the training code itself. This should be very similar to training methods that you have written before to train PyTorch models. We will leave any difficult aspects such as model saving / loading and parameter loading until a little later."
   ]
  },
  {
   "cell_type": "code",
   "execution_count": 26,
   "metadata": {},
   "outputs": [],
   "source": [
    "def train(model, train_loader, epochs, optimizer, loss_fn, device):\n",
    "    for epoch in range(1, epochs + 1):\n",
    "        model.train()\n",
    "        total_loss = 0\n",
    "        for batch in train_loader:         \n",
    "            batch_X, batch_y = batch\n",
    "            \n",
    "            batch_X = batch_X.to(device)\n",
    "            batch_y = batch_y.to(device)\n",
    "            \n",
    "            # TODO: Complete this train method to train the model provided.\n",
    "            optimizer.zero_grad()\n",
    "            out = model.forward(batch_X)\n",
    "            loss = loss_fn(out, batch_y)\n",
    "            loss.backward()\n",
    "            optimizer.step()\n",
    "            \n",
    "            total_loss += loss.data.item()\n",
    "        print(\"Epoch: {}, BCELoss: {}\".format(epoch, total_loss / len(train_loader)))"
   ]
  },
  {
   "cell_type": "markdown",
   "metadata": {},
   "source": [
    "Supposing we have the training method above, we will test that it is working by writing a bit of code in the notebook that executes our training method on the small sample training set that we loaded earlier. The reason for doing this in the notebook is so that we have an opportunity to fix any errors that arise early when they are easier to diagnose."
   ]
  },
  {
   "cell_type": "code",
   "execution_count": 27,
   "metadata": {},
   "outputs": [
    {
     "name": "stdout",
     "output_type": "stream",
     "text": [
      "Epoch: 1, BCELoss: 0.6919455170631409\n",
      "Epoch: 2, BCELoss: 0.6816698431968689\n",
      "Epoch: 3, BCELoss: 0.6726483106613159\n",
      "Epoch: 4, BCELoss: 0.662593674659729\n",
      "Epoch: 5, BCELoss: 0.6501285314559937\n"
     ]
    }
   ],
   "source": [
    "import torch.optim as optim\n",
    "from train.model import LSTMClassifier\n",
    "\n",
    "device = torch.device(\"cuda\" if torch.cuda.is_available() else \"cpu\")\n",
    "model = LSTMClassifier(32, 100, 5000).to(device)\n",
    "optimizer = optim.Adam(model.parameters())\n",
    "loss_fn = torch.nn.BCELoss()\n",
    "\n",
    "train(model, train_sample_dl, 5, optimizer, loss_fn, device)"
   ]
  },
  {
   "cell_type": "markdown",
   "metadata": {},
   "source": [
    "In order to construct a PyTorch model using SageMaker we must provide SageMaker with a training script. We may optionally include a directory which will be copied to the container and from which our training code will be run. When the training container is executed it will check the uploaded directory (if there is one) for a `requirements.txt` file and install any required Python libraries, after which the training script will be run."
   ]
  },
  {
   "cell_type": "markdown",
   "metadata": {},
   "source": [
    "### (TODO) Training the model\n",
    "\n",
    "When a PyTorch model is constructed in SageMaker, an entry point must be specified. This is the Python file which will be executed when the model is trained. Inside of the `train` directory is a file called `train.py` which has been provided and which contains most of the necessary code to train our model. The only thing that is missing is the implementation of the `train()` method which you wrote earlier in this notebook.\n",
    "\n",
    "**TODO**: Copy the `train()` method written above and paste it into the `train/train.py` file where required.\n",
    "\n",
    "The way that SageMaker passes hyperparameters to the training script is by way of arguments. These arguments can then be parsed and used in the training script. To see how this is done take a look at the provided `train/train.py` file."
   ]
  },
  {
   "cell_type": "code",
   "execution_count": 28,
   "metadata": {},
   "outputs": [],
   "source": [
    "from sagemaker.pytorch import PyTorch\n",
    "\n",
    "estimator = PyTorch(entry_point=\"train.py\",\n",
    "                    source_dir=\"train\",\n",
    "                    role=role,\n",
    "                    framework_version='0.4.0',\n",
    "                    train_instance_count=1,\n",
    "                    train_instance_type='ml.m4.xlarge',\n",
    "                    hyperparameters={\n",
    "                        'epochs': 10,\n",
    "                        'hidden_dim': 200,\n",
    "                    })"
   ]
  },
  {
   "cell_type": "code",
   "execution_count": null,
   "metadata": {},
   "outputs": [
    {
     "name": "stderr",
     "output_type": "stream",
     "text": [
      "'create_image_uri' will be deprecated in favor of 'ImageURIProvider' class in SageMaker Python SDK v2.\n",
      "'s3_input' class will be renamed to 'TrainingInput' in SageMaker Python SDK v2.\n",
      "'create_image_uri' will be deprecated in favor of 'ImageURIProvider' class in SageMaker Python SDK v2.\n"
     ]
    },
    {
     "name": "stdout",
     "output_type": "stream",
     "text": [
      "2020-10-17 08:45:00 Starting - Starting the training job...\n",
      "2020-10-17 08:45:03 Starting - Launching requested ML instances......\n",
      "2020-10-17 08:46:18 Starting - Preparing the instances for training......\n",
      "2020-10-17 08:47:26 Downloading - Downloading input data\n",
      "2020-10-17 08:47:26 Training - Downloading the training image...\n",
      "2020-10-17 08:47:45 Training - Training image download completed. Training in progress.\u001b[34mbash: cannot set terminal process group (-1): Inappropriate ioctl for device\u001b[0m\n",
      "\u001b[34mbash: no job control in this shell\u001b[0m\n",
      "\u001b[34m2020-10-17 08:47:46,407 sagemaker-containers INFO     Imported framework sagemaker_pytorch_container.training\u001b[0m\n",
      "\u001b[34m2020-10-17 08:47:46,410 sagemaker-containers INFO     No GPUs detected (normal if no gpus installed)\u001b[0m\n",
      "\u001b[34m2020-10-17 08:47:46,427 sagemaker_pytorch_container.training INFO     Block until all host DNS lookups succeed.\u001b[0m\n",
      "\u001b[34m2020-10-17 08:47:46,431 sagemaker_pytorch_container.training INFO     Invoking user training script.\u001b[0m\n",
      "\u001b[34m2020-10-17 08:47:46,654 sagemaker-containers INFO     Module train does not provide a setup.py. \u001b[0m\n",
      "\u001b[34mGenerating setup.py\u001b[0m\n",
      "\u001b[34m2020-10-17 08:47:46,655 sagemaker-containers INFO     Generating setup.cfg\u001b[0m\n",
      "\u001b[34m2020-10-17 08:47:46,655 sagemaker-containers INFO     Generating MANIFEST.in\u001b[0m\n",
      "\u001b[34m2020-10-17 08:47:46,655 sagemaker-containers INFO     Installing module with the following command:\u001b[0m\n",
      "\u001b[34m/usr/bin/python -m pip install -U . -r requirements.txt\u001b[0m\n",
      "\u001b[34mProcessing /opt/ml/code\u001b[0m\n",
      "\u001b[34mCollecting pandas (from -r requirements.txt (line 1))\n",
      "  Downloading https://files.pythonhosted.org/packages/74/24/0cdbf8907e1e3bc5a8da03345c23cbed7044330bb8f73bb12e711a640a00/pandas-0.24.2-cp35-cp35m-manylinux1_x86_64.whl (10.0MB)\u001b[0m\n",
      "\u001b[34mCollecting numpy (from -r requirements.txt (line 2))\u001b[0m\n",
      "\u001b[34m  Downloading https://files.pythonhosted.org/packages/b5/36/88723426b4ff576809fec7d73594fe17a35c27f8d01f93637637a29ae25b/numpy-1.18.5-cp35-cp35m-manylinux1_x86_64.whl (19.9MB)\u001b[0m\n",
      "\u001b[34mCollecting nltk (from -r requirements.txt (line 3))\n",
      "  Downloading https://files.pythonhosted.org/packages/92/75/ce35194d8e3022203cca0d2f896dbb88689f9b3fce8e9f9cff942913519d/nltk-3.5.zip (1.4MB)\u001b[0m\n",
      "\u001b[34mCollecting beautifulsoup4 (from -r requirements.txt (line 4))\n",
      "  Downloading https://files.pythonhosted.org/packages/d1/41/e6495bd7d3781cee623ce23ea6ac73282a373088fcd0ddc809a047b18eae/beautifulsoup4-4.9.3-py3-none-any.whl (115kB)\u001b[0m\n",
      "\u001b[34mCollecting html5lib (from -r requirements.txt (line 5))\n",
      "  Downloading https://files.pythonhosted.org/packages/6c/dd/a834df6482147d48e225a49515aabc28974ad5a4ca3215c18a882565b028/html5lib-1.1-py2.py3-none-any.whl (112kB)\u001b[0m\n",
      "\u001b[34mCollecting pytz>=2011k (from pandas->-r requirements.txt (line 1))\n",
      "  Downloading https://files.pythonhosted.org/packages/4f/a4/879454d49688e2fad93e59d7d4efda580b783c745fd2ec2a3adf87b0808d/pytz-2020.1-py2.py3-none-any.whl (510kB)\u001b[0m\n",
      "\u001b[34mRequirement already satisfied, skipping upgrade: python-dateutil>=2.5.0 in /usr/local/lib/python3.5/dist-packages (from pandas->-r requirements.txt (line 1)) (2.7.5)\u001b[0m\n",
      "\u001b[34mRequirement already satisfied, skipping upgrade: click in /usr/local/lib/python3.5/dist-packages (from nltk->-r requirements.txt (line 3)) (7.0)\u001b[0m\n",
      "\u001b[34mCollecting joblib (from nltk->-r requirements.txt (line 3))\n",
      "  Downloading https://files.pythonhosted.org/packages/28/5c/cf6a2b65a321c4a209efcdf64c2689efae2cb62661f8f6f4bb28547cf1bf/joblib-0.14.1-py2.py3-none-any.whl (294kB)\u001b[0m\n",
      "\u001b[34mCollecting regex (from nltk->-r requirements.txt (line 3))\u001b[0m\n",
      "\u001b[34m  Downloading https://files.pythonhosted.org/packages/c9/16/4ea16f4510afd7ce4b77d8ee7ca97717408b3cf99e0a4b3cdd0a47ef6466/regex-2020.10.15.tar.gz (690kB)\u001b[0m\n",
      "\u001b[34mCollecting tqdm (from nltk->-r requirements.txt (line 3))\n",
      "  Downloading https://files.pythonhosted.org/packages/bd/cf/f91813073e4135c1183cadf968256764a6fe4e35c351d596d527c0540461/tqdm-4.50.2-py2.py3-none-any.whl (70kB)\u001b[0m\n",
      "\u001b[34mCollecting soupsieve>1.2; python_version >= \"3.0\" (from beautifulsoup4->-r requirements.txt (line 4))\n",
      "  Downloading https://files.pythonhosted.org/packages/6f/8f/457f4a5390eeae1cc3aeab89deb7724c965be841ffca6cfca9197482e470/soupsieve-2.0.1-py3-none-any.whl\u001b[0m\n",
      "\u001b[34mCollecting webencodings (from html5lib->-r requirements.txt (line 5))\n",
      "  Downloading https://files.pythonhosted.org/packages/f4/24/2a3e3df732393fed8b3ebf2ec078f05546de641fe1b667ee316ec1dcf3b7/webencodings-0.5.1-py2.py3-none-any.whl\u001b[0m\n",
      "\u001b[34mRequirement already satisfied, skipping upgrade: six>=1.9 in /usr/local/lib/python3.5/dist-packages (from html5lib->-r requirements.txt (line 5)) (1.11.0)\u001b[0m\n",
      "\u001b[34mBuilding wheels for collected packages: nltk, train, regex\n",
      "  Running setup.py bdist_wheel for nltk: started\n",
      "  Running setup.py bdist_wheel for nltk: finished with status 'done'\n",
      "  Stored in directory: /root/.cache/pip/wheels/ae/8c/3f/b1fe0ba04555b08b57ab52ab7f86023639a526d8bc8d384306\n",
      "  Running setup.py bdist_wheel for train: started\u001b[0m\n",
      "\u001b[34m  Running setup.py bdist_wheel for train: finished with status 'done'\n",
      "  Stored in directory: /tmp/pip-ephem-wheel-cache-crmy3co5/wheels/35/24/16/37574d11bf9bde50616c67372a334f94fa8356bc7164af8ca3\n",
      "  Running setup.py bdist_wheel for regex: started\u001b[0m\n",
      "\u001b[34m  Running setup.py bdist_wheel for regex: finished with status 'done'\n",
      "  Stored in directory: /root/.cache/pip/wheels/b5/7a/87/3e4a49f4b7de683e6063a9e6b111056587e87a4e13b3a019a5\u001b[0m\n",
      "\u001b[34mSuccessfully built nltk train regex\u001b[0m\n",
      "\u001b[34mInstalling collected packages: numpy, pytz, pandas, joblib, regex, tqdm, nltk, soupsieve, beautifulsoup4, webencodings, html5lib, train\n",
      "  Found existing installation: numpy 1.15.4\n",
      "    Uninstalling numpy-1.15.4:\u001b[0m\n",
      "\u001b[34m      Successfully uninstalled numpy-1.15.4\u001b[0m\n",
      "\u001b[34mSuccessfully installed beautifulsoup4-4.9.3 html5lib-1.1 joblib-0.14.1 nltk-3.5 numpy-1.18.5 pandas-0.24.2 pytz-2020.1 regex-2020.10.15 soupsieve-2.0.1 tqdm-4.50.2 train-1.0.0 webencodings-0.5.1\u001b[0m\n",
      "\u001b[34mYou are using pip version 18.1, however version 20.2.3 is available.\u001b[0m\n",
      "\u001b[34mYou should consider upgrading via the 'pip install --upgrade pip' command.\u001b[0m\n",
      "\u001b[34m2020-10-17 08:48:09,264 sagemaker-containers INFO     No GPUs detected (normal if no gpus installed)\u001b[0m\n",
      "\u001b[34m2020-10-17 08:48:09,278 sagemaker-containers INFO     Invoking user script\n",
      "\u001b[0m\n",
      "\u001b[34mTraining Env:\n",
      "\u001b[0m\n",
      "\u001b[34m{\n",
      "    \"hosts\": [\n",
      "        \"algo-1\"\n",
      "    ],\n",
      "    \"model_dir\": \"/opt/ml/model\",\n",
      "    \"job_name\": \"sagemaker-pytorch-2020-10-17-08-44-59-824\",\n",
      "    \"input_dir\": \"/opt/ml/input\",\n",
      "    \"network_interface_name\": \"eth0\",\n",
      "    \"framework_module\": \"sagemaker_pytorch_container.training:main\",\n",
      "    \"current_host\": \"algo-1\",\n",
      "    \"additional_framework_parameters\": {},\n",
      "    \"input_config_dir\": \"/opt/ml/input/config\",\n",
      "    \"module_name\": \"train\",\n",
      "    \"num_gpus\": 0,\n",
      "    \"channel_input_dirs\": {\n",
      "        \"training\": \"/opt/ml/input/data/training\"\n",
      "    },\n",
      "    \"resource_config\": {\n",
      "        \"hosts\": [\n",
      "            \"algo-1\"\n",
      "        ],\n",
      "        \"current_host\": \"algo-1\",\n",
      "        \"network_interface_name\": \"eth0\"\n",
      "    },\n",
      "    \"output_dir\": \"/opt/ml/output\",\n",
      "    \"user_entry_point\": \"train.py\",\n",
      "    \"input_data_config\": {\n",
      "        \"training\": {\n",
      "            \"RecordWrapperType\": \"None\",\n",
      "            \"TrainingInputMode\": \"File\",\n",
      "            \"S3DistributionType\": \"FullyReplicated\"\n",
      "        }\n",
      "    },\n",
      "    \"output_data_dir\": \"/opt/ml/output/data\",\n",
      "    \"output_intermediate_dir\": \"/opt/ml/output/intermediate\",\n",
      "    \"num_cpus\": 4,\n",
      "    \"hyperparameters\": {\n",
      "        \"epochs\": 10,\n",
      "        \"hidden_dim\": 200\n",
      "    },\n",
      "    \"module_dir\": \"s3://sagemaker-ap-south-1-683975085594/sagemaker-pytorch-2020-10-17-08-44-59-824/source/sourcedir.tar.gz\",\n",
      "    \"log_level\": 20\u001b[0m\n",
      "\u001b[34m}\n",
      "\u001b[0m\n",
      "\u001b[34mEnvironment variables:\n",
      "\u001b[0m\n",
      "\u001b[34mSM_HP_HIDDEN_DIM=200\u001b[0m\n",
      "\u001b[34mSM_INPUT_DIR=/opt/ml/input\u001b[0m\n",
      "\u001b[34mSM_TRAINING_ENV={\"additional_framework_parameters\":{},\"channel_input_dirs\":{\"training\":\"/opt/ml/input/data/training\"},\"current_host\":\"algo-1\",\"framework_module\":\"sagemaker_pytorch_container.training:main\",\"hosts\":[\"algo-1\"],\"hyperparameters\":{\"epochs\":10,\"hidden_dim\":200},\"input_config_dir\":\"/opt/ml/input/config\",\"input_data_config\":{\"training\":{\"RecordWrapperType\":\"None\",\"S3DistributionType\":\"FullyReplicated\",\"TrainingInputMode\":\"File\"}},\"input_dir\":\"/opt/ml/input\",\"job_name\":\"sagemaker-pytorch-2020-10-17-08-44-59-824\",\"log_level\":20,\"model_dir\":\"/opt/ml/model\",\"module_dir\":\"s3://sagemaker-ap-south-1-683975085594/sagemaker-pytorch-2020-10-17-08-44-59-824/source/sourcedir.tar.gz\",\"module_name\":\"train\",\"network_interface_name\":\"eth0\",\"num_cpus\":4,\"num_gpus\":0,\"output_data_dir\":\"/opt/ml/output/data\",\"output_dir\":\"/opt/ml/output\",\"output_intermediate_dir\":\"/opt/ml/output/intermediate\",\"resource_config\":{\"current_host\":\"algo-1\",\"hosts\":[\"algo-1\"],\"network_interface_name\":\"eth0\"},\"user_entry_point\":\"train.py\"}\u001b[0m\n",
      "\u001b[34mSM_CURRENT_HOST=algo-1\u001b[0m\n",
      "\u001b[34mSM_MODULE_NAME=train\u001b[0m\n",
      "\u001b[34mSM_INPUT_DATA_CONFIG={\"training\":{\"RecordWrapperType\":\"None\",\"S3DistributionType\":\"FullyReplicated\",\"TrainingInputMode\":\"File\"}}\u001b[0m\n",
      "\u001b[34mSM_FRAMEWORK_MODULE=sagemaker_pytorch_container.training:main\u001b[0m\n",
      "\u001b[34mSM_MODULE_DIR=s3://sagemaker-ap-south-1-683975085594/sagemaker-pytorch-2020-10-17-08-44-59-824/source/sourcedir.tar.gz\u001b[0m\n",
      "\u001b[34mSM_OUTPUT_DIR=/opt/ml/output\u001b[0m\n",
      "\u001b[34mSM_HPS={\"epochs\":10,\"hidden_dim\":200}\u001b[0m\n",
      "\u001b[34mSM_CHANNEL_TRAINING=/opt/ml/input/data/training\u001b[0m\n",
      "\u001b[34mSM_HP_EPOCHS=10\u001b[0m\n",
      "\u001b[34mSM_OUTPUT_INTERMEDIATE_DIR=/opt/ml/output/intermediate\u001b[0m\n",
      "\u001b[34mSM_FRAMEWORK_PARAMS={}\u001b[0m\n",
      "\u001b[34mSM_NUM_GPUS=0\u001b[0m\n",
      "\u001b[34mSM_NUM_CPUS=4\u001b[0m\n",
      "\u001b[34mSM_NETWORK_INTERFACE_NAME=eth0\u001b[0m\n",
      "\u001b[34mSM_INPUT_CONFIG_DIR=/opt/ml/input/config\u001b[0m\n",
      "\u001b[34mSM_LOG_LEVEL=20\u001b[0m\n",
      "\u001b[34mSM_OUTPUT_DATA_DIR=/opt/ml/output/data\u001b[0m\n",
      "\u001b[34mSM_MODEL_DIR=/opt/ml/model\u001b[0m\n",
      "\u001b[34mSM_RESOURCE_CONFIG={\"current_host\":\"algo-1\",\"hosts\":[\"algo-1\"],\"network_interface_name\":\"eth0\"}\u001b[0m\n",
      "\u001b[34mPYTHONPATH=/usr/local/bin:/usr/lib/python35.zip:/usr/lib/python3.5:/usr/lib/python3.5/plat-x86_64-linux-gnu:/usr/lib/python3.5/lib-dynload:/usr/local/lib/python3.5/dist-packages:/usr/lib/python3/dist-packages\u001b[0m\n",
      "\u001b[34mSM_CHANNELS=[\"training\"]\u001b[0m\n",
      "\u001b[34mSM_HOSTS=[\"algo-1\"]\u001b[0m\n",
      "\u001b[34mSM_USER_ARGS=[\"--epochs\",\"10\",\"--hidden_dim\",\"200\"]\u001b[0m\n",
      "\u001b[34mSM_USER_ENTRY_POINT=train.py\n",
      "\u001b[0m\n",
      "\u001b[34mInvoking script with the following command:\n",
      "\u001b[0m\n",
      "\u001b[34m/usr/bin/python -m train --epochs 10 --hidden_dim 200\n",
      "\n",
      "\u001b[0m\n",
      "\u001b[34mUsing device cpu.\u001b[0m\n",
      "\u001b[34mGet train data loader.\u001b[0m\n",
      "\u001b[34mModel loaded with embedding_dim 32, hidden_dim 200, vocab_size 5000.\u001b[0m\n",
      "\u001b[34mEpoch: 1, BCELoss: 0.6687391266530874\u001b[0m\n",
      "\u001b[34mEpoch: 2, BCELoss: 0.5917347499302456\u001b[0m\n",
      "\u001b[34mEpoch: 3, BCELoss: 0.5130967570810901\u001b[0m\n",
      "\u001b[34mEpoch: 4, BCELoss: 0.45082498752340977\u001b[0m\n",
      "\u001b[34mEpoch: 5, BCELoss: 0.39667430763341943\u001b[0m\n",
      "\u001b[34mEpoch: 6, BCELoss: 0.36394620549922085\u001b[0m\n",
      "\u001b[34mEpoch: 7, BCELoss: 0.3386440666354432\u001b[0m\n",
      "\u001b[34mEpoch: 8, BCELoss: 0.3120812594282384\u001b[0m\n",
      "\u001b[34mEpoch: 9, BCELoss: 0.2966278003794806\u001b[0m\n",
      "\n",
      "2020-10-17 10:33:38 Uploading - Uploading generated training model\u001b[34mEpoch: 10, BCELoss: 0.28286855044413584\u001b[0m\n",
      "\u001b[34m2020-10-17 10:33:35,215 sagemaker-containers INFO     Reporting training SUCCESS\u001b[0m\n",
      "\n",
      "2020-10-17 10:33:45 Completed - Training job completed\n",
      "Training seconds: 6403\n",
      "Billable seconds: 6403\n"
     ]
    }
   ],
   "source": [
    "estimator.fit({'training': input_data})"
   ]
  },
  {
   "cell_type": "markdown",
   "metadata": {},
   "source": [
    "## Step 5: Testing the model\n",
    "\n",
    "As mentioned at the top of this notebook, we will be testing this model by first deploying it and then sending the testing data to the deployed endpoint. We will do this so that we can make sure that the deployed model is working correctly.\n",
    "\n",
    "## Step 6: Deploy the model for testing\n",
    "\n",
    "Now that we have trained our model, we would like to test it to see how it performs. Currently our model takes input of the form `review_length, review[500]` where `review[500]` is a sequence of `500` integers which describe the words present in the review, encoded using `word_dict`. Fortunately for us, SageMaker provides built-in inference code for models with simple inputs such as this.\n",
    "\n",
    "There is one thing that we need to provide, however, and that is a function which loads the saved model. This function must be called `model_fn()` and takes as its only parameter a path to the directory where the model artifacts are stored. This function must also be present in the python file which we specified as the entry point. In our case the model loading function has been provided and so no changes need to be made.\n",
    "\n",
    "**NOTE**: When the built-in inference code is run it must import the `model_fn()` method from the `train.py` file. This is why the training code is wrapped in a main guard ( ie, `if __name__ == '__main__':` )\n",
    "\n",
    "Since we don't need to change anything in the code that was uploaded during training, we can simply deploy the current model as-is.\n",
    "\n",
    "**NOTE:** When deploying a model you are asking SageMaker to launch an compute instance that will wait for data to be sent to it. As a result, this compute instance will continue to run until *you* shut it down. This is important to know since the cost of a deployed endpoint depends on how long it has been running for.\n",
    "\n",
    "In other words **If you are no longer using a deployed endpoint, shut it down!**\n",
    "\n",
    "**TODO:** Deploy the trained model."
   ]
  },
  {
   "cell_type": "code",
   "execution_count": 30,
   "metadata": {},
   "outputs": [
    {
     "name": "stderr",
     "output_type": "stream",
     "text": [
      "Parameter image will be renamed to image_uri in SageMaker Python SDK v2.\n",
      "'create_image_uri' will be deprecated in favor of 'ImageURIProvider' class in SageMaker Python SDK v2.\n"
     ]
    },
    {
     "name": "stdout",
     "output_type": "stream",
     "text": [
      "-------------!"
     ]
    }
   ],
   "source": [
    "# TODO: Deploy the trained model\n",
    "predictor = estimator.deploy(initial_instance_count=1, instance_type='ml.m4.xlarge')"
   ]
  },
  {
   "cell_type": "markdown",
   "metadata": {},
   "source": [
    "## Step 7 - Use the model for testing\n",
    "\n",
    "Once deployed, we can read in the test data and send it off to our deployed model to get some results. Once we collect all of the results we can determine how accurate our model is."
   ]
  },
  {
   "cell_type": "code",
   "execution_count": 31,
   "metadata": {},
   "outputs": [],
   "source": [
    "test_X = pd.concat([pd.DataFrame(test_X_len), pd.DataFrame(test_X)], axis=1)"
   ]
  },
  {
   "cell_type": "code",
   "execution_count": 32,
   "metadata": {},
   "outputs": [],
   "source": [
    "# We split the data into chunks and send each chunk seperately, accumulating the results.\n",
    "\n",
    "def predict(data, rows=512):\n",
    "    split_array = np.array_split(data, int(data.shape[0] / float(rows) + 1))\n",
    "    predictions = np.array([])\n",
    "    for array in split_array:\n",
    "        predictions = np.append(predictions, predictor.predict(array))\n",
    "    \n",
    "    return predictions"
   ]
  },
  {
   "cell_type": "code",
   "execution_count": 34,
   "metadata": {},
   "outputs": [],
   "source": [
    "predictions = predict(test_X.values)\n",
    "predictions = [round(num) for num in predictions]"
   ]
  },
  {
   "cell_type": "code",
   "execution_count": 35,
   "metadata": {},
   "outputs": [
    {
     "data": {
      "text/plain": [
       "0.85088"
      ]
     },
     "execution_count": 35,
     "metadata": {},
     "output_type": "execute_result"
    }
   ],
   "source": [
    "from sklearn.metrics import accuracy_score\n",
    "accuracy_score(test_y, predictions)"
   ]
  },
  {
   "cell_type": "markdown",
   "metadata": {},
   "source": [
    "**Question:** How does this model compare to the XGBoost model you created earlier? Why might these two models perform differently on this dataset? Which do *you* think is better for sentiment analysis?"
   ]
  },
  {
   "cell_type": "markdown",
   "metadata": {},
   "source": [
    "**Answer:**\n",
    "Both XGBOOST and LSTM(RNN) are suitable for a binary classification problem like sentiment analysis.\n",
    "XGBOOST is a recommended inbuilt model designed to work with smaller variable problems.XGBOOST is a GRADIENT BOOSTED DECISION TREE(GBDT) which requires less training and more accuracy.LSTM is designed with a internal state variable which acts a memory so that LSTM has a high prediction perfomance.\n",
    "\n",
    "Since this is a movie review prediction problem with smaller variables,XGBOOST model has provided slightly better results.\n"
   ]
  },
  {
   "cell_type": "markdown",
   "metadata": {},
   "source": [
    "### (TODO) More testing\n",
    "\n",
    "We now have a trained model which has been deployed and which we can send processed reviews to and which returns the predicted sentiment. However, ultimately we would like to be able to send our model an unprocessed review. That is, we would like to send the review itself as a string. For example, suppose we wish to send the following review to our model."
   ]
  },
  {
   "cell_type": "code",
   "execution_count": 36,
   "metadata": {},
   "outputs": [],
   "source": [
    "test_review = 'The simplest pleasures in life are the best, and this film is one of them. Combining a rather basic storyline of love and adventure this movie transcends the usual weekend fair with wit and unmitigated charm.'"
   ]
  },
  {
   "cell_type": "markdown",
   "metadata": {},
   "source": [
    "The question we now need to answer is, how do we send this review to our model?\n",
    "\n",
    "Recall in the first section of this notebook we did a bunch of data processing to the IMDb dataset. In particular, we did two specific things to the provided reviews.\n",
    " - Removed any html tags and stemmed the input\n",
    " - Encoded the review as a sequence of integers using `word_dict`\n",
    " \n",
    "In order process the review we will need to repeat these two steps.\n",
    "\n",
    "**TODO**: Using the `review_to_words` and `convert_and_pad` methods from section one, convert `test_review` into a numpy array `test_data` suitable to send to our model. Remember that our model expects input of the form `review_length, review[500]`."
   ]
  },
  {
   "cell_type": "code",
   "execution_count": 37,
   "metadata": {},
   "outputs": [
    {
     "name": "stdout",
     "output_type": "stream",
     "text": [
      "[array([   1, 1375,   49,   53,    3,    4,  878,  173,  392,  682,   29,\n",
      "        724,    2, 4429,  275, 2076, 1059,  760,    1,  580,    0,    0,\n",
      "          0,    0,    0,    0,    0,    0,    0,    0,    0,    0,    0,\n",
      "          0,    0,    0,    0,    0,    0,    0,    0,    0,    0,    0,\n",
      "          0,    0,    0,    0,    0,    0,    0,    0,    0,    0,    0,\n",
      "          0,    0,    0,    0,    0,    0,    0,    0,    0,    0,    0,\n",
      "          0,    0,    0,    0,    0,    0,    0,    0,    0,    0,    0,\n",
      "          0,    0,    0,    0,    0,    0,    0,    0,    0,    0,    0,\n",
      "          0,    0,    0,    0,    0,    0,    0,    0,    0,    0,    0,\n",
      "          0,    0,    0,    0,    0,    0,    0,    0,    0,    0,    0,\n",
      "          0,    0,    0,    0,    0,    0,    0,    0,    0,    0,    0,\n",
      "          0,    0,    0,    0,    0,    0,    0,    0,    0,    0,    0,\n",
      "          0,    0,    0,    0,    0,    0,    0,    0,    0,    0,    0,\n",
      "          0,    0,    0,    0,    0,    0,    0,    0,    0,    0,    0,\n",
      "          0,    0,    0,    0,    0,    0,    0,    0,    0,    0,    0,\n",
      "          0,    0,    0,    0,    0,    0,    0,    0,    0,    0,    0,\n",
      "          0,    0,    0,    0,    0,    0,    0,    0,    0,    0,    0,\n",
      "          0,    0,    0,    0,    0,    0,    0,    0,    0,    0,    0,\n",
      "          0,    0,    0,    0,    0,    0,    0,    0,    0,    0,    0,\n",
      "          0,    0,    0,    0,    0,    0,    0,    0,    0,    0,    0,\n",
      "          0,    0,    0,    0,    0,    0,    0,    0,    0,    0,    0,\n",
      "          0,    0,    0,    0,    0,    0,    0,    0,    0,    0,    0,\n",
      "          0,    0,    0,    0,    0,    0,    0,    0,    0,    0,    0,\n",
      "          0,    0,    0,    0,    0,    0,    0,    0,    0,    0,    0,\n",
      "          0,    0,    0,    0,    0,    0,    0,    0,    0,    0,    0,\n",
      "          0,    0,    0,    0,    0,    0,    0,    0,    0,    0,    0,\n",
      "          0,    0,    0,    0,    0,    0,    0,    0,    0,    0,    0,\n",
      "          0,    0,    0,    0,    0,    0,    0,    0,    0,    0,    0,\n",
      "          0,    0,    0,    0,    0,    0,    0,    0,    0,    0,    0,\n",
      "          0,    0,    0,    0,    0,    0,    0,    0,    0,    0,    0,\n",
      "          0,    0,    0,    0,    0,    0,    0,    0,    0,    0,    0,\n",
      "          0,    0,    0,    0,    0,    0,    0,    0,    0,    0,    0,\n",
      "          0,    0,    0,    0,    0,    0,    0,    0,    0,    0,    0,\n",
      "          0,    0,    0,    0,    0,    0,    0,    0,    0,    0,    0,\n",
      "          0,    0,    0,    0,    0,    0,    0,    0,    0,    0,    0,\n",
      "          0,    0,    0,    0,    0,    0,    0,    0,    0,    0,    0,\n",
      "          0,    0,    0,    0,    0,    0,    0,    0,    0,    0,    0,\n",
      "          0,    0,    0,    0,    0,    0,    0,    0,    0,    0,    0,\n",
      "          0,    0,    0,    0,    0,    0,    0,    0,    0,    0,    0,\n",
      "          0,    0,    0,    0,    0,    0,    0,    0,    0,    0,    0,\n",
      "          0,    0,    0,    0,    0,    0,    0,    0,    0,    0,    0,\n",
      "          0,    0,    0,    0,    0,    0,    0,    0,    0,    0,    0,\n",
      "          0,    0,    0,    0,    0,    0,    0,    0,    0,    0,    0,\n",
      "          0,    0,    0,    0,    0,    0,    0,    0,    0,    0,    0,\n",
      "          0,    0,    0,    0,    0,    0,    0,    0,    0,    0,    0,\n",
      "          0,    0,    0,    0,    0])]\n"
     ]
    }
   ],
   "source": [
    "# TODO: Convert test_review into a form usable by the model and save the results in test_data\n",
    "\n",
    "test_data = [np.array(convert_and_pad(word_dict, review_to_words(test_review))[0])]\n",
    "print(test_data)"
   ]
  },
  {
   "cell_type": "markdown",
   "metadata": {},
   "source": [
    "Now that we have processed the review, we can send the resulting array to our model to predict the sentiment of the review."
   ]
  },
  {
   "cell_type": "code",
   "execution_count": 38,
   "metadata": {},
   "outputs": [
    {
     "data": {
      "text/plain": [
       "array(0.5039117, dtype=float32)"
      ]
     },
     "execution_count": 38,
     "metadata": {},
     "output_type": "execute_result"
    }
   ],
   "source": [
    "predictor.predict(test_data)"
   ]
  },
  {
   "cell_type": "markdown",
   "metadata": {},
   "source": [
    "Since the return value of our model is close to `1`, we can be certain that the review we submitted is positive."
   ]
  },
  {
   "cell_type": "markdown",
   "metadata": {},
   "source": [
    "### Delete the endpoint\n",
    "\n",
    "Of course, just like in the XGBoost notebook, once we've deployed an endpoint it continues to run until we tell it to shut down. Since we are done using our endpoint for now, we can delete it."
   ]
  },
  {
   "cell_type": "code",
   "execution_count": 39,
   "metadata": {},
   "outputs": [
    {
     "name": "stderr",
     "output_type": "stream",
     "text": [
      "estimator.delete_endpoint() will be deprecated in SageMaker Python SDK v2. Please use the delete_endpoint() function on your predictor instead.\n"
     ]
    }
   ],
   "source": [
    "estimator.delete_endpoint()"
   ]
  },
  {
   "cell_type": "markdown",
   "metadata": {},
   "source": [
    "## Step 6 (again) - Deploy the model for the web app\n",
    "\n",
    "Now that we know that our model is working, it's time to create some custom inference code so that we can send the model a review which has not been processed and have it determine the sentiment of the review.\n",
    "\n",
    "As we saw above, by default the estimator which we created, when deployed, will use the entry script and directory which we provided when creating the model. However, since we now wish to accept a string as input and our model expects a processed review, we need to write some custom inference code.\n",
    "\n",
    "We will store the code that we write in the `serve` directory. Provided in this directory is the `model.py` file that we used to construct our model, a `utils.py` file which contains the `review_to_words` and `convert_and_pad` pre-processing functions which we used during the initial data processing, and `predict.py`, the file which will contain our custom inference code. Note also that `requirements.txt` is present which will tell SageMaker what Python libraries are required by our custom inference code.\n",
    "\n",
    "When deploying a PyTorch model in SageMaker, you are expected to provide four functions which the SageMaker inference container will use.\n",
    " - `model_fn`: This function is the same function that we used in the training script and it tells SageMaker how to load our model.\n",
    " - `input_fn`: This function receives the raw serialized input that has been sent to the model's endpoint and its job is to de-serialize and make the input available for the inference code.\n",
    " - `output_fn`: This function takes the output of the inference code and its job is to serialize this output and return it to the caller of the model's endpoint.\n",
    " - `predict_fn`: The heart of the inference script, this is where the actual prediction is done and is the function which you will need to complete.\n",
    "\n",
    "For the simple website that we are constructing during this project, the `input_fn` and `output_fn` methods are relatively straightforward. We only require being able to accept a string as input and we expect to return a single value as output. You might imagine though that in a more complex application the input or output may be image data or some other binary data which would require some effort to serialize.\n",
    "\n",
    "### (TODO) Writing inference code\n",
    "\n",
    "Before writing our custom inference code, we will begin by taking a look at the code which has been provided."
   ]
  },
  {
   "cell_type": "code",
   "execution_count": 40,
   "metadata": {},
   "outputs": [
    {
     "name": "stdout",
     "output_type": "stream",
     "text": [
      "\u001b[34mimport\u001b[39;49;00m \u001b[04m\u001b[36margparse\u001b[39;49;00m\r\n",
      "\u001b[34mimport\u001b[39;49;00m \u001b[04m\u001b[36mjson\u001b[39;49;00m\r\n",
      "\u001b[34mimport\u001b[39;49;00m \u001b[04m\u001b[36mos\u001b[39;49;00m\r\n",
      "\u001b[34mimport\u001b[39;49;00m \u001b[04m\u001b[36mpickle\u001b[39;49;00m\r\n",
      "\u001b[34mimport\u001b[39;49;00m \u001b[04m\u001b[36msys\u001b[39;49;00m\r\n",
      "\u001b[34mimport\u001b[39;49;00m \u001b[04m\u001b[36msagemaker_containers\u001b[39;49;00m\r\n",
      "\u001b[34mimport\u001b[39;49;00m \u001b[04m\u001b[36mpandas\u001b[39;49;00m \u001b[34mas\u001b[39;49;00m \u001b[04m\u001b[36mpd\u001b[39;49;00m\r\n",
      "\u001b[34mimport\u001b[39;49;00m \u001b[04m\u001b[36mnumpy\u001b[39;49;00m \u001b[34mas\u001b[39;49;00m \u001b[04m\u001b[36mnp\u001b[39;49;00m\r\n",
      "\u001b[34mimport\u001b[39;49;00m \u001b[04m\u001b[36mtorch\u001b[39;49;00m\r\n",
      "\u001b[34mimport\u001b[39;49;00m \u001b[04m\u001b[36mtorch\u001b[39;49;00m\u001b[04m\u001b[36m.\u001b[39;49;00m\u001b[04m\u001b[36mnn\u001b[39;49;00m \u001b[34mas\u001b[39;49;00m \u001b[04m\u001b[36mnn\u001b[39;49;00m\r\n",
      "\u001b[34mimport\u001b[39;49;00m \u001b[04m\u001b[36mtorch\u001b[39;49;00m\u001b[04m\u001b[36m.\u001b[39;49;00m\u001b[04m\u001b[36moptim\u001b[39;49;00m \u001b[34mas\u001b[39;49;00m \u001b[04m\u001b[36moptim\u001b[39;49;00m\r\n",
      "\u001b[34mimport\u001b[39;49;00m \u001b[04m\u001b[36mtorch\u001b[39;49;00m\u001b[04m\u001b[36m.\u001b[39;49;00m\u001b[04m\u001b[36mutils\u001b[39;49;00m\u001b[04m\u001b[36m.\u001b[39;49;00m\u001b[04m\u001b[36mdata\u001b[39;49;00m\r\n",
      "\u001b[34mimport\u001b[39;49;00m \u001b[04m\u001b[36mnltk\u001b[39;49;00m\r\n",
      "\u001b[34mfrom\u001b[39;49;00m \u001b[04m\u001b[36mnltk\u001b[39;49;00m\u001b[04m\u001b[36m.\u001b[39;49;00m\u001b[04m\u001b[36mcorpus\u001b[39;49;00m \u001b[34mimport\u001b[39;49;00m stopwords\r\n",
      "\u001b[34mfrom\u001b[39;49;00m \u001b[04m\u001b[36mnltk\u001b[39;49;00m\u001b[04m\u001b[36m.\u001b[39;49;00m\u001b[04m\u001b[36mstem\u001b[39;49;00m\u001b[04m\u001b[36m.\u001b[39;49;00m\u001b[04m\u001b[36mporter\u001b[39;49;00m \u001b[34mimport\u001b[39;49;00m *\r\n",
      "\r\n",
      "\u001b[34mimport\u001b[39;49;00m \u001b[04m\u001b[36mre\u001b[39;49;00m\r\n",
      "\u001b[34mfrom\u001b[39;49;00m \u001b[04m\u001b[36mbs4\u001b[39;49;00m \u001b[34mimport\u001b[39;49;00m BeautifulSoup\r\n",
      "\r\n",
      "\u001b[34mfrom\u001b[39;49;00m \u001b[04m\u001b[36mmodel\u001b[39;49;00m \u001b[34mimport\u001b[39;49;00m LSTMClassifier\r\n",
      "\r\n",
      "\u001b[34mfrom\u001b[39;49;00m \u001b[04m\u001b[36mutils\u001b[39;49;00m \u001b[34mimport\u001b[39;49;00m review_to_words, convert_and_pad\r\n",
      "\r\n",
      "\u001b[34mdef\u001b[39;49;00m \u001b[32mmodel_fn\u001b[39;49;00m(model_dir):\r\n",
      "    \u001b[33m\"\"\"Load the PyTorch model from the `model_dir` directory.\"\"\"\u001b[39;49;00m\r\n",
      "    \u001b[36mprint\u001b[39;49;00m(\u001b[33m\"\u001b[39;49;00m\u001b[33mLoading model.\u001b[39;49;00m\u001b[33m\"\u001b[39;49;00m)\r\n",
      "\r\n",
      "    \u001b[37m# First, load the parameters used to create the model.\u001b[39;49;00m\r\n",
      "    model_info = {}\r\n",
      "    model_info_path = os.path.join(model_dir, \u001b[33m'\u001b[39;49;00m\u001b[33mmodel_info.pth\u001b[39;49;00m\u001b[33m'\u001b[39;49;00m)\r\n",
      "    \u001b[34mwith\u001b[39;49;00m \u001b[36mopen\u001b[39;49;00m(model_info_path, \u001b[33m'\u001b[39;49;00m\u001b[33mrb\u001b[39;49;00m\u001b[33m'\u001b[39;49;00m) \u001b[34mas\u001b[39;49;00m f:\r\n",
      "        model_info = torch.load(f)\r\n",
      "\r\n",
      "    \u001b[36mprint\u001b[39;49;00m(\u001b[33m\"\u001b[39;49;00m\u001b[33mmodel_info: \u001b[39;49;00m\u001b[33m{}\u001b[39;49;00m\u001b[33m\"\u001b[39;49;00m.format(model_info))\r\n",
      "\r\n",
      "    \u001b[37m# Determine the device and construct the model.\u001b[39;49;00m\r\n",
      "    device = torch.device(\u001b[33m\"\u001b[39;49;00m\u001b[33mcuda\u001b[39;49;00m\u001b[33m\"\u001b[39;49;00m \u001b[34mif\u001b[39;49;00m torch.cuda.is_available() \u001b[34melse\u001b[39;49;00m \u001b[33m\"\u001b[39;49;00m\u001b[33mcpu\u001b[39;49;00m\u001b[33m\"\u001b[39;49;00m)\r\n",
      "    model = LSTMClassifier(model_info[\u001b[33m'\u001b[39;49;00m\u001b[33membedding_dim\u001b[39;49;00m\u001b[33m'\u001b[39;49;00m], model_info[\u001b[33m'\u001b[39;49;00m\u001b[33mhidden_dim\u001b[39;49;00m\u001b[33m'\u001b[39;49;00m], model_info[\u001b[33m'\u001b[39;49;00m\u001b[33mvocab_size\u001b[39;49;00m\u001b[33m'\u001b[39;49;00m])\r\n",
      "\r\n",
      "    \u001b[37m# Load the store model parameters.\u001b[39;49;00m\r\n",
      "    model_path = os.path.join(model_dir, \u001b[33m'\u001b[39;49;00m\u001b[33mmodel.pth\u001b[39;49;00m\u001b[33m'\u001b[39;49;00m)\r\n",
      "    \u001b[34mwith\u001b[39;49;00m \u001b[36mopen\u001b[39;49;00m(model_path, \u001b[33m'\u001b[39;49;00m\u001b[33mrb\u001b[39;49;00m\u001b[33m'\u001b[39;49;00m) \u001b[34mas\u001b[39;49;00m f:\r\n",
      "        model.load_state_dict(torch.load(f))\r\n",
      "\r\n",
      "    \u001b[37m# Load the saved word_dict.\u001b[39;49;00m\r\n",
      "    word_dict_path = os.path.join(model_dir, \u001b[33m'\u001b[39;49;00m\u001b[33mword_dict.pkl\u001b[39;49;00m\u001b[33m'\u001b[39;49;00m)\r\n",
      "    \u001b[34mwith\u001b[39;49;00m \u001b[36mopen\u001b[39;49;00m(word_dict_path, \u001b[33m'\u001b[39;49;00m\u001b[33mrb\u001b[39;49;00m\u001b[33m'\u001b[39;49;00m) \u001b[34mas\u001b[39;49;00m f:\r\n",
      "        model.word_dict = pickle.load(f)\r\n",
      "\r\n",
      "    model.to(device).eval()\r\n",
      "\r\n",
      "    \u001b[36mprint\u001b[39;49;00m(\u001b[33m\"\u001b[39;49;00m\u001b[33mDone loading model.\u001b[39;49;00m\u001b[33m\"\u001b[39;49;00m)\r\n",
      "    \u001b[34mreturn\u001b[39;49;00m model\r\n",
      "\r\n",
      "\u001b[34mdef\u001b[39;49;00m \u001b[32minput_fn\u001b[39;49;00m(serialized_input_data, content_type):\r\n",
      "    \u001b[36mprint\u001b[39;49;00m(\u001b[33m'\u001b[39;49;00m\u001b[33mDeserializing the input data.\u001b[39;49;00m\u001b[33m'\u001b[39;49;00m)\r\n",
      "    \u001b[34mif\u001b[39;49;00m content_type == \u001b[33m'\u001b[39;49;00m\u001b[33mtext/plain\u001b[39;49;00m\u001b[33m'\u001b[39;49;00m:\r\n",
      "        data = serialized_input_data.decode(\u001b[33m'\u001b[39;49;00m\u001b[33mutf-8\u001b[39;49;00m\u001b[33m'\u001b[39;49;00m)\r\n",
      "        \u001b[34mreturn\u001b[39;49;00m data\r\n",
      "    \u001b[34mraise\u001b[39;49;00m \u001b[36mException\u001b[39;49;00m(\u001b[33m'\u001b[39;49;00m\u001b[33mRequested unsupported ContentType in content_type: \u001b[39;49;00m\u001b[33m'\u001b[39;49;00m + content_type)\r\n",
      "\r\n",
      "\u001b[34mdef\u001b[39;49;00m \u001b[32moutput_fn\u001b[39;49;00m(prediction_output, accept):\r\n",
      "    \u001b[36mprint\u001b[39;49;00m(\u001b[33m'\u001b[39;49;00m\u001b[33mSerializing the generated output.\u001b[39;49;00m\u001b[33m'\u001b[39;49;00m)\r\n",
      "    \u001b[36mprint\u001b[39;49;00m(prediction_output)\r\n",
      "    \u001b[37m# return str(prediction_output.item())\u001b[39;49;00m\r\n",
      "    \u001b[34mreturn\u001b[39;49;00m \u001b[36mstr\u001b[39;49;00m(prediction_output)\r\n",
      "\r\n",
      "\u001b[34mdef\u001b[39;49;00m \u001b[32mpredict_fn\u001b[39;49;00m(input_data, model):\r\n",
      "    \u001b[36mprint\u001b[39;49;00m(\u001b[33m'\u001b[39;49;00m\u001b[33mInferring sentiment of input data.\u001b[39;49;00m\u001b[33m'\u001b[39;49;00m)\r\n",
      "\r\n",
      "    device = torch.device(\u001b[33m\"\u001b[39;49;00m\u001b[33mcuda\u001b[39;49;00m\u001b[33m\"\u001b[39;49;00m \u001b[34mif\u001b[39;49;00m torch.cuda.is_available() \u001b[34melse\u001b[39;49;00m \u001b[33m\"\u001b[39;49;00m\u001b[33mcpu\u001b[39;49;00m\u001b[33m\"\u001b[39;49;00m)\r\n",
      "    \r\n",
      "    \u001b[34mif\u001b[39;49;00m model.word_dict \u001b[35mis\u001b[39;49;00m \u001b[34mNone\u001b[39;49;00m:\r\n",
      "        \u001b[34mraise\u001b[39;49;00m \u001b[36mException\u001b[39;49;00m(\u001b[33m'\u001b[39;49;00m\u001b[33mModel has not been loaded properly, no word_dict.\u001b[39;49;00m\u001b[33m'\u001b[39;49;00m)\r\n",
      "    \r\n",
      "    \u001b[37m# TODO: Process input_data so that it is ready to be sent to our model.\u001b[39;49;00m\r\n",
      "    \u001b[37m#       You should produce two variables:\u001b[39;49;00m\r\n",
      "    \u001b[37m#         data_X   - A sequence of length 500 which represents the converted review\u001b[39;49;00m\r\n",
      "    \u001b[37m#         data_len - The length of the review\u001b[39;49;00m\r\n",
      "    \r\n",
      "    data_X = \u001b[34mNone\u001b[39;49;00m\r\n",
      "    data_len = \u001b[34mNone\u001b[39;49;00m\r\n",
      "    input_data_words = review_to_words(input_data)\r\n",
      "    data_X, data_len = convert_and_pad(model.word_dict, input_data_words)\r\n",
      "    \u001b[37m# data_X = pd.concat([pd.DataFrame(test_data_len), pd.DataFrame(test_data)], axis=1)\u001b[39;49;00m\r\n",
      "\r\n",
      "    \u001b[37m# Using data_X and data_len we construct an appropriate input tensor. Remember\u001b[39;49;00m\r\n",
      "    \u001b[37m# that our model expects input data of the form 'len, review[500]'.\u001b[39;49;00m\r\n",
      "    \u001b[37m# data_pack = np.hstack((data_len, data_X))\u001b[39;49;00m\r\n",
      "    data_pack = np.hstack((data_len, data_X))\r\n",
      "    \r\n",
      "    data_pack = data_pack.reshape(\u001b[34m1\u001b[39;49;00m, -\u001b[34m1\u001b[39;49;00m)\r\n",
      "    \r\n",
      "    data = torch.from_numpy(data_pack)\r\n",
      "    data = data.to(device)\r\n",
      "\r\n",
      "    \u001b[37m# Make sure to put the model into evaluation mode\u001b[39;49;00m\r\n",
      "    model.eval()\r\n",
      "\r\n",
      "    \u001b[37m# TODO: Compute the result of applying the model to the input data. The variable `result` should\u001b[39;49;00m\r\n",
      "    \u001b[37m#       be a numpy array which contains a single integer which is either 1 or 0\u001b[39;49;00m\r\n",
      "\r\n",
      "    \u001b[34mwith\u001b[39;49;00m torch.no_grad():\r\n",
      "        output = model.forward(data)\r\n",
      "        \r\n",
      "    result = np.round(output.numpy())\r\n",
      "    \u001b[37m# result = predictor.predict(data.values)\u001b[39;49;00m\r\n",
      "    \u001b[36mprint\u001b[39;49;00m(result)\r\n",
      "\r\n",
      "    \u001b[34mreturn\u001b[39;49;00m result\r\n",
      "\r\n",
      "\u001b[34mdef\u001b[39;49;00m \u001b[32mreview_to_words\u001b[39;49;00m(review):\r\n",
      "    nltk.download(\u001b[33m\"\u001b[39;49;00m\u001b[33mstopwords\u001b[39;49;00m\u001b[33m\"\u001b[39;49;00m, quiet=\u001b[34mTrue\u001b[39;49;00m)\r\n",
      "    stemmer = PorterStemmer()\r\n",
      "    \r\n",
      "    text = BeautifulSoup(review, \u001b[33m\"\u001b[39;49;00m\u001b[33mhtml.parser\u001b[39;49;00m\u001b[33m\"\u001b[39;49;00m).get_text() \u001b[37m# Remove HTML tags\u001b[39;49;00m\r\n",
      "    text = re.sub(\u001b[33mr\u001b[39;49;00m\u001b[33m\"\u001b[39;49;00m\u001b[33m[^a-zA-Z0-9]\u001b[39;49;00m\u001b[33m\"\u001b[39;49;00m, \u001b[33m\"\u001b[39;49;00m\u001b[33m \u001b[39;49;00m\u001b[33m\"\u001b[39;49;00m, text.lower()) \u001b[37m# Convert to lower case\u001b[39;49;00m\r\n",
      "    words = text.split() \u001b[37m# Split string into words\u001b[39;49;00m\r\n",
      "    words = [w \u001b[34mfor\u001b[39;49;00m w \u001b[35min\u001b[39;49;00m words \u001b[34mif\u001b[39;49;00m w \u001b[35mnot\u001b[39;49;00m \u001b[35min\u001b[39;49;00m stopwords.words(\u001b[33m\"\u001b[39;49;00m\u001b[33menglish\u001b[39;49;00m\u001b[33m\"\u001b[39;49;00m)] \u001b[37m# Remove stopwords\u001b[39;49;00m\r\n",
      "    words = [PorterStemmer().stem(w) \u001b[34mfor\u001b[39;49;00m w \u001b[35min\u001b[39;49;00m words] \u001b[37m# stem\u001b[39;49;00m\r\n",
      "    \r\n",
      "    \u001b[34mreturn\u001b[39;49;00m words\r\n",
      "\r\n",
      "\u001b[34mdef\u001b[39;49;00m \u001b[32mconvert_and_pad\u001b[39;49;00m(word_dict, sentence, pad=\u001b[34m500\u001b[39;49;00m):\r\n",
      "    NOWORD = \u001b[34m0\u001b[39;49;00m \u001b[37m# We will use 0 to represent the 'no word' category\u001b[39;49;00m\r\n",
      "    INFREQ = \u001b[34m1\u001b[39;49;00m \u001b[37m# and we use 1 to represent the infrequent words, i.e., words not appearing in word_dict\u001b[39;49;00m\r\n",
      "    \r\n",
      "    working_sentence = [NOWORD] * pad\r\n",
      "    \r\n",
      "    \u001b[34mfor\u001b[39;49;00m word_index, word \u001b[35min\u001b[39;49;00m \u001b[36menumerate\u001b[39;49;00m(sentence[:pad]):\r\n",
      "        \u001b[34mif\u001b[39;49;00m word \u001b[35min\u001b[39;49;00m word_dict:\r\n",
      "            working_sentence[word_index] = word_dict[word]\r\n",
      "        \u001b[34melse\u001b[39;49;00m:\r\n",
      "            working_sentence[word_index] = INFREQ\r\n",
      "            \r\n",
      "    \u001b[34mreturn\u001b[39;49;00m working_sentence, \u001b[36mmin\u001b[39;49;00m(\u001b[36mlen\u001b[39;49;00m(sentence), pad)\r\n",
      "\r\n",
      "\u001b[34mdef\u001b[39;49;00m \u001b[32mconvert_and_pad_data\u001b[39;49;00m(word_dict, data, pad=\u001b[34m500\u001b[39;49;00m):\r\n",
      "    result = []\r\n",
      "    lengths = []\r\n",
      "    \r\n",
      "    \u001b[34mfor\u001b[39;49;00m sentence \u001b[35min\u001b[39;49;00m data:\r\n",
      "        converted, leng = convert_and_pad(word_dict, sentence, pad)\r\n",
      "        result.append(converted)\r\n",
      "        lengths.append(leng)\r\n",
      "        \r\n",
      "    \u001b[34mreturn\u001b[39;49;00m np.array(result), np.array(lengths)\r\n"
     ]
    }
   ],
   "source": [
    "!pygmentize serve/predict.py"
   ]
  },
  {
   "cell_type": "markdown",
   "metadata": {},
   "source": [
    "As mentioned earlier, the `model_fn` method is the same as the one provided in the training code and the `input_fn` and `output_fn` methods are very simple and your task will be to complete the `predict_fn` method. Make sure that you save the completed file as `predict.py` in the `serve` directory.\n",
    "\n",
    "**TODO**: Complete the `predict_fn()` method in the `serve/predict.py` file."
   ]
  },
  {
   "cell_type": "markdown",
   "metadata": {},
   "source": [
    "### Deploying the model\n",
    "\n",
    "Now that the custom inference code has been written, we will create and deploy our model. To begin with, we need to construct a new PyTorchModel object which points to the model artifacts created during training and also points to the inference code that we wish to use. Then we can call the deploy method to launch the deployment container.\n",
    "\n",
    "**NOTE**: The default behaviour for a deployed PyTorch model is to assume that any input passed to the predictor is a `numpy` array. In our case we want to send a string so we need to construct a simple wrapper around the `RealTimePredictor` class to accomodate simple strings. In a more complicated situation you may want to provide a serialization object, for example if you wanted to sent image data."
   ]
  },
  {
   "cell_type": "code",
   "execution_count": 49,
   "metadata": {},
   "outputs": [
    {
     "name": "stderr",
     "output_type": "stream",
     "text": [
      "Parameter image will be renamed to image_uri in SageMaker Python SDK v2.\n",
      "Parameter image will be renamed to image_uri in SageMaker Python SDK v2.\n",
      "'create_image_uri' will be deprecated in favor of 'ImageURIProvider' class in SageMaker Python SDK v2.\n",
      "'create_image_uri' will be deprecated in favor of 'ImageURIProvider' class in SageMaker Python SDK v2.\n"
     ]
    },
    {
     "name": "stdout",
     "output_type": "stream",
     "text": [
      "--------------------------!!"
     ]
    }
   ],
   "source": [
    "from sagemaker.predictor import RealTimePredictor\n",
    "from sagemaker.pytorch import PyTorchModel\n",
    "\n",
    "class StringPredictor(RealTimePredictor):\n",
    "    def __init__(self, endpoint_name, sagemaker_session):\n",
    "        super(StringPredictor, self).__init__(endpoint_name, sagemaker_session, content_type='text/plain')\n",
    "\n",
    "model = PyTorchModel(model_data=estimator.model_data,\n",
    "                     role = role,\n",
    "                     framework_version='0.4.0',\n",
    "                     entry_point='predict.py',\n",
    "                     source_dir='serve',\n",
    "                     predictor_cls=StringPredictor)\n",
    "predictor = model.deploy(initial_instance_count=1, instance_type='ml.m4.xlarge')"
   ]
  },
  {
   "cell_type": "markdown",
   "metadata": {},
   "source": [
    "### Testing the model\n",
    "\n",
    "Now that we have deployed our model with the custom inference code, we should test to see if everything is working. Here we test our model by loading the first `250` positive and negative reviews and send them to the endpoint, then collect the results. The reason for only sending some of the data is that the amount of time it takes for our model to process the input and then perform inference is quite long and so testing the entire data set would be prohibitive."
   ]
  },
  {
   "cell_type": "code",
   "execution_count": 50,
   "metadata": {},
   "outputs": [],
   "source": [
    "import glob\n",
    "\n",
    "def test_reviews(data_dir='../data/aclImdb', stop=250):\n",
    "    \n",
    "    results = []\n",
    "    ground = []\n",
    "    \n",
    "    # We make sure to test both positive and negative reviews    \n",
    "    for sentiment in ['pos', 'neg']:\n",
    "        \n",
    "        path = os.path.join(data_dir, 'test', sentiment, '*.txt')\n",
    "        files = glob.glob(path)\n",
    "        \n",
    "        files_read = 0\n",
    "        \n",
    "        print('Starting ', sentiment, ' files')\n",
    "        \n",
    "        # Iterate through the files and send them to the predictor\n",
    "        for f in files:\n",
    "            with open(f) as review:\n",
    "                # First, we store the ground truth (was the review positive or negative)\n",
    "                if sentiment == 'pos':\n",
    "                    ground.append(1)\n",
    "                else:\n",
    "                    ground.append(0)\n",
    "                # Read in the review and convert to 'utf-8' for transmission via HTTP\n",
    "                review_input = review.read().encode('utf-8')\n",
    "                # Send the review to the predictor and store the results\n",
    "                results.append(float(predictor.predict(review_input)))\n",
    "                \n",
    "            # Sending reviews to our endpoint one at a time takes a while so we\n",
    "            # only send a small number of reviews\n",
    "            files_read += 1\n",
    "            if files_read == stop:\n",
    "                break\n",
    "            \n",
    "    return ground, results"
   ]
  },
  {
   "cell_type": "code",
   "execution_count": 51,
   "metadata": {},
   "outputs": [
    {
     "name": "stdout",
     "output_type": "stream",
     "text": [
      "Starting  pos  files\n",
      "Starting  pos  files\n",
      "Starting  neg  files\n",
      "Starting  neg  files\n"
     ]
    }
   ],
   "source": [
    "ground, results = test_reviews()"
   ]
  },
  {
   "cell_type": "code",
   "execution_count": 52,
   "metadata": {},
   "outputs": [
    {
     "data": {
      "text/plain": [
       "0.852"
      ]
     },
     "execution_count": 52,
     "metadata": {},
     "output_type": "execute_result"
    },
    {
     "data": {
      "text/plain": [
       "0.852"
      ]
     },
     "execution_count": 52,
     "metadata": {},
     "output_type": "execute_result"
    }
   ],
   "source": [
    "from sklearn.metrics import accuracy_score\n",
    "accuracy_score(ground, results)"
   ]
  },
  {
   "cell_type": "markdown",
   "metadata": {},
   "source": [
    "As an additional test, we can try sending the `test_review` that we looked at earlier."
   ]
  },
  {
   "cell_type": "code",
   "execution_count": 53,
   "metadata": {},
   "outputs": [
    {
     "data": {
      "text/plain": [
       "b'1.0'"
      ]
     },
     "execution_count": 53,
     "metadata": {},
     "output_type": "execute_result"
    },
    {
     "data": {
      "text/plain": [
       "b'1.0'"
      ]
     },
     "execution_count": 53,
     "metadata": {},
     "output_type": "execute_result"
    }
   ],
   "source": [
    "predictor.predict(test_review)"
   ]
  },
  {
   "cell_type": "markdown",
   "metadata": {},
   "source": [
    "Now that we know our endpoint is working as expected, we can set up the web page that will interact with it. If you don't have time to finish the project now, make sure to skip down to the end of this notebook and shut down your endpoint. You can deploy it again when you come back."
   ]
  },
  {
   "cell_type": "markdown",
   "metadata": {},
   "source": [
    "## Step 7 (again): Use the model for the web app\n",
    "\n",
    "> **TODO:** This entire section and the next contain tasks for you to complete, mostly using the AWS console.\n",
    "\n",
    "So far we have been accessing our model endpoint by constructing a predictor object which uses the endpoint and then just using the predictor object to perform inference. What if we wanted to create a web app which accessed our model? The way things are set up currently makes that not possible since in order to access a SageMaker endpoint the app would first have to authenticate with AWS using an IAM role which included access to SageMaker endpoints. However, there is an easier way! We just need to use some additional AWS services.\n",
    "\n",
    "<img src=\"Web App Diagram.svg\">\n",
    "\n",
    "The diagram above gives an overview of how the various services will work together. On the far right is the model which we trained above and which is deployed using SageMaker. On the far left is our web app that collects a user's movie review, sends it off and expects a positive or negative sentiment in return.\n",
    "\n",
    "In the middle is where some of the magic happens. We will construct a Lambda function, which you can think of as a straightforward Python function that can be executed whenever a specified event occurs. We will give this function permission to send and recieve data from a SageMaker endpoint.\n",
    "\n",
    "Lastly, the method we will use to execute the Lambda function is a new endpoint that we will create using API Gateway. This endpoint will be a url that listens for data to be sent to it. Once it gets some data it will pass that data on to the Lambda function and then return whatever the Lambda function returns. Essentially it will act as an interface that lets our web app communicate with the Lambda function.\n",
    "\n",
    "### Setting up a Lambda function\n",
    "\n",
    "The first thing we are going to do is set up a Lambda function. This Lambda function will be executed whenever our public API has data sent to it. When it is executed it will receive the data, perform any sort of processing that is required, send the data (the review) to the SageMaker endpoint we've created and then return the result.\n",
    "\n",
    "#### Part A: Create an IAM Role for the Lambda function\n",
    "\n",
    "Since we want the Lambda function to call a SageMaker endpoint, we need to make sure that it has permission to do so. To do this, we will construct a role that we can later give the Lambda function.\n",
    "\n",
    "Using the AWS Console, navigate to the **IAM** page and click on **Roles**. Then, click on **Create role**. Make sure that the **AWS service** is the type of trusted entity selected and choose **Lambda** as the service that will use this role, then click **Next: Permissions**.\n",
    "\n",
    "In the search box type `sagemaker` and select the check box next to the **AmazonSageMakerFullAccess** policy. Then, click on **Next: Review**.\n",
    "\n",
    "Lastly, give this role a name. Make sure you use a name that you will remember later on, for example `LambdaSageMakerRole`. Then, click on **Create role**.\n",
    "\n",
    "#### Part B: Create a Lambda function\n",
    "\n",
    "Now it is time to actually create the Lambda function.\n",
    "\n",
    "Using the AWS Console, navigate to the AWS Lambda page and click on **Create a function**. When you get to the next page, make sure that **Author from scratch** is selected. Now, name your Lambda function, using a name that you will remember later on, for example `sentiment_analysis_func`. Make sure that the **Python 3.6** runtime is selected and then choose the role that you created in the previous part. Then, click on **Create Function**.\n",
    "\n",
    "On the next page you will see some information about the Lambda function you've just created. If you scroll down you should see an editor in which you can write the code that will be executed when your Lambda function is triggered. In our example, we will use the code below. \n",
    "\n",
    "```python\n",
    "# We need to use the low-level library to interact with SageMaker since the SageMaker API\n",
    "# is not available natively through Lambda.\n",
    "import boto3\n",
    "\n",
    "def lambda_handler(event, context):\n",
    "\n",
    "    # The SageMaker runtime is what allows us to invoke the endpoint that we've created.\n",
    "    runtime = boto3.Session().client('sagemaker-runtime')\n",
    "\n",
    "    # Now we use the SageMaker runtime to invoke our endpoint, sending the review we were given\n",
    "    response = runtime.invoke_endpoint(EndpointName = '**ENDPOINT NAME HERE**',    # The name of the endpoint we created\n",
    "                                       ContentType = 'text/plain',                 # The data format that is expected\n",
    "                                       Body = event['body'])                       # The actual review\n",
    "\n",
    "    # The response is an HTTP response whose body contains the result of our inference\n",
    "    result = response['Body'].read().decode('utf-8')\n",
    "    result = int(float(result))\n",
    "\n",
    "    return {\n",
    "        'statusCode' : 200,\n",
    "        'headers' : { 'Content-Type' : 'text/plain', 'Access-Control-Allow-Origin' : '*' },\n",
    "        'body' : result\n",
    "    }\n",
    "```\n",
    "\n",
    "Once you have copy and pasted the code above into the Lambda code editor, replace the `**ENDPOINT NAME HERE**` portion with the name of the endpoint that we deployed earlier. You can determine the name of the endpoint using the code cell below."
   ]
  },
  {
   "cell_type": "code",
   "execution_count": 54,
   "metadata": {},
   "outputs": [
    {
     "data": {
      "text/plain": [
       "'sagemaker-pytorch-2020-10-17-15-09-41-473'"
      ]
     },
     "execution_count": 54,
     "metadata": {},
     "output_type": "execute_result"
    },
    {
     "data": {
      "text/plain": [
       "'sagemaker-pytorch-2020-10-17-15-09-41-473'"
      ]
     },
     "execution_count": 54,
     "metadata": {},
     "output_type": "execute_result"
    }
   ],
   "source": [
    "predictor.endpoint"
   ]
  },
  {
   "cell_type": "markdown",
   "metadata": {},
   "source": [
    "Once you have added the endpoint name to the Lambda function, click on **Save**. Your Lambda function is now up and running. Next we need to create a way for our web app to execute the Lambda function.\n",
    "\n",
    "### Setting up API Gateway\n",
    "\n",
    "Now that our Lambda function is set up, it is time to create a new API using API Gateway that will trigger the Lambda function we have just created.\n",
    "\n",
    "Using AWS Console, navigate to **Amazon API Gateway** and then click on **Get started**.\n",
    "\n",
    "On the next page, make sure that **New API** is selected and give the new api a name, for example, `sentiment_analysis_api`. Then, click on **Create API**.\n",
    "\n",
    "Now we have created an API, however it doesn't currently do anything. What we want it to do is to trigger the Lambda function that we created earlier.\n",
    "\n",
    "Select the **Actions** dropdown menu and click **Create Method**. A new blank method will be created, select its dropdown menu and select **POST**, then click on the check mark beside it.\n",
    "\n",
    "For the integration point, make sure that **Lambda Function** is selected and click on the **Use Lambda Proxy integration**. This option makes sure that the data that is sent to the API is then sent directly to the Lambda function with no processing. It also means that the return value must be a proper response object as it will also not be processed by API Gateway.\n",
    "\n",
    "Type the name of the Lambda function you created earlier into the **Lambda Function** text entry box and then click on **Save**. Click on **OK** in the pop-up box that then appears, giving permission to API Gateway to invoke the Lambda function you created.\n",
    "\n",
    "The last step in creating the API Gateway is to select the **Actions** dropdown and click on **Deploy API**. You will need to create a new Deployment stage and name it anything you like, for example `prod`.\n",
    "\n",
    "You have now successfully set up a public API to access your SageMaker model. Make sure to copy or write down the URL provided to invoke your newly created public API as this will be needed in the next step. This URL can be found at the top of the page, highlighted in blue next to the text **Invoke URL**."
   ]
  },
  {
   "cell_type": "markdown",
   "metadata": {},
   "source": [
    "## Step 4: Deploying our web app\n",
    "\n",
    "Now that we have a publicly available API, we can start using it in a web app. For our purposes, we have provided a simple static html file which can make use of the public api you created earlier.\n",
    "\n",
    "In the `website` folder there should be a file called `index.html`. Download the file to your computer and open that file up in a text editor of your choice. There should be a line which contains **\\*\\*REPLACE WITH PUBLIC API URL\\*\\***. Replace this string with the url that you wrote down in the last step and then save the file.\n",
    "\n",
    "Now, if you open `index.html` on your local computer, your browser will behave as a local web server and you can use the provided site to interact with your SageMaker model.\n",
    "\n",
    "If you'd like to go further, you can host this html file anywhere you'd like, for example using github or hosting a static site on Amazon's S3. Once you have done this you can share the link with anyone you'd like and have them play with it too!\n",
    "\n",
    "> **Important Note** In order for the web app to communicate with the SageMaker endpoint, the endpoint has to actually be deployed and running. This means that you are paying for it. Make sure that the endpoint is running when you want to use the web app but that you shut it down when you don't need it, otherwise you will end up with a surprisingly large AWS bill.\n",
    "\n",
    "**TODO:** Make sure that you include the edited `index.html` file in your project submission."
   ]
  },
  {
   "cell_type": "markdown",
   "metadata": {},
   "source": [
    "Now that your web app is working, trying playing around with it and see how well it works.\n",
    "\n",
    "**Question**: Give an example of a review that you entered into your web app. What was the predicted sentiment of your example review?"
   ]
  },
  {
   "cell_type": "markdown",
   "metadata": {},
   "source": [
    "**Answer: \n",
    "I have collected few reviews from various internet sources and tested the sentiment web app.Few samples and the predicted statements are given below\n",
    "\n",
    "SAMPLE 1\n",
    "\n",
    "Review: Lucifer is one such films where the form and technical prowess enhance the commercial script. The visuals tell the story (one such example includes the scene where the arrival of Bobby in the party's meeting is intercut with that of a spider clinging onto the photo of Ramadas). The mass moments are overpopulated with crowds and widescreen photography covers the exteriors with a greater depth that cinemascope cannot offer. More than that, fans of Mohanlal can rejoice at the superstar's thunderous return to form. Overall, Lucifer is a mass star vehicle that entertains the audience throughout with a combination of well-written mass moments and great film-making.\n",
    "\n",
    "Predicted Sentiment : Your review was POSITIVE!\n",
    "\n",
    "SAMPLE 2\n",
    "\n",
    "Review: C U Soon is not just a film, it’s an exciting cinematic adventure\n",
    "\n",
    "Predicted Sentiment : Your review was POSITIVE!\n",
    "\n",
    "SAMPLE 3\n",
    "\n",
    "Review: I don't know what kind of mental conditions these people are suffering from, who are rating this movie 10/10. Why couldn't they just make it simple why this whole addition of crap. Just another crappy amalgamation of the movies which had a better script. I just don't think Salman will make any sensible movies in which he just acts good and doesn't just say mindless dialogues\n",
    "\n",
    "Predicted Sentiment :Your review was NEGATIVE!\n",
    "\n",
    "\n",
    "WARNING: curse words This is such a shitty movie for several reasons: * This movie is produced only to lie about AKP government's false policies, theft and murders. Such as; letting Iranian spies to occupy the intelligence agency of Turkey (MIT), hiding huge bribery (%10 of every business built in Turkey goes to the president of Turkey, RTE), and killing innocent people against their benefit - like the politician Muhsin Yazıcıoğlu, and so on.\n",
    "\n",
    "This movie is produced with the money of AKP government. They gathered the money from the bribery %10 of everything, then pour it into a financial \"pool\". They support the newspapers, TV channels and a shitty movie like this with this money.\n",
    "\n",
    "This movie is produced by an ideology, very similar to ISIS. They attack the very foundation of Islam by so-called representing it in this way of pressing, cursing, undermining, and killing - if necessary - all the people oppose to them ,the more I continue, the more I have to think of their rotten system. This makes me sick already.\n",
    "\n",
    "To sum up, this is not a movie. THIS IS JUST A BULLSHIT!\n",
    "\n",
    "Predicted Sentiment :Your review was NEGATIVE!"
   ]
  },
  {
   "cell_type": "markdown",
   "metadata": {},
   "source": [
    "### Delete the endpoint\n",
    "\n",
    "Remember to always shut down your endpoint if you are no longer using it. You are charged for the length of time that the endpoint is running so if you forget and leave it on you could end up with an unexpectedly large bill."
   ]
  },
  {
   "cell_type": "code",
   "execution_count": 55,
   "metadata": {},
   "outputs": [],
   "source": [
    "predictor.delete_endpoint()"
   ]
  },
  {
   "cell_type": "code",
   "execution_count": null,
   "metadata": {},
   "outputs": [],
   "source": []
  }
 ],
 "metadata": {
  "kernelspec": {
   "display_name": "conda_pytorch_p36",
   "language": "python",
   "name": "conda_pytorch_p36"
  },
  "language_info": {
   "codemirror_mode": {
    "name": "ipython",
    "version": 3
   },
   "file_extension": ".py",
   "mimetype": "text/x-python",
   "name": "python",
   "nbconvert_exporter": "python",
   "pygments_lexer": "ipython3",
   "version": "3.6.10"
  }
 },
 "nbformat": 4,
 "nbformat_minor": 2
}
